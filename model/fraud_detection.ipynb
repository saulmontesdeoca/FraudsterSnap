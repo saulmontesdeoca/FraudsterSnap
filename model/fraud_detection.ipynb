{
 "metadata": {
  "language_info": {
   "codemirror_mode": {
    "name": "ipython",
    "version": 3
   },
   "file_extension": ".py",
   "mimetype": "text/x-python",
   "name": "python",
   "nbconvert_exporter": "python",
   "pygments_lexer": "ipython3",
   "version": "3.8.2"
  },
  "orig_nbformat": 2,
  "kernelspec": {
   "name": "python382jvsc74a57bd031f2aee4e71d21fbe5cf8b01ff0e069b9275f58929596ceb00d14d90e3e16cd6",
   "display_name": "Python 3.8.2 64-bit"
  },
  "metadata": {
   "interpreter": {
    "hash": "31f2aee4e71d21fbe5cf8b01ff0e069b9275f58929596ceb00d14d90e3e16cd6"
   }
  }
 },
 "nbformat": 4,
 "nbformat_minor": 2,
 "cells": [
  {
   "source": [
    "# Model for HackMX NDS Cognitive Labs Challenge\n",
    "## Fraud Detection\n",
    "#### Dataset obtained from IEEE-CIS Fraud Detection in Kaggle: "
   ],
   "cell_type": "markdown",
   "metadata": {}
  },
  {
   "cell_type": "code",
   "execution_count": 1,
   "metadata": {},
   "outputs": [],
   "source": [
    "import os\n",
    "from os import listdir\n",
    "from os.path import isfile, join\n",
    "import matplotlib.pyplot as plt\n",
    "import pickle\n",
    "import time\n",
    "\n",
    "import pandas as pd\n",
    "import numpy as np\n",
    "from sklearn.metrics import roc_auc_score\n",
    "from sklearn.preprocessing import LabelEncoder\n",
    "from sklearn.model_selection import TimeSeriesSplit, KFold\n",
    "\n",
    "import lightgbm as lgb"
   ]
  },
  {
   "cell_type": "code",
   "execution_count": 2,
   "metadata": {},
   "outputs": [],
   "source": [
    "train_identity = \"data/train_identity.csv\"\n",
    "train_transaction = \"data/train_transaction.csv\"\n",
    "test_identity = \"data/test_identity.csv\"\n",
    "test_transaction = \"data/test_transaction.csv\""
   ]
  },
  {
   "cell_type": "code",
<<<<<<< HEAD
   "execution_count": 3,
=======
   "execution_count": 6,
>>>>>>> ece17a6c8d83dc85bccea2a0c813038665c865ea
   "metadata": {},
   "outputs": [],
   "source": [
    "#%%time # visualize time to load data\n",
    "train_id = pd.read_csv(train_identity)\n",
    "train_tr = pd.read_csv(train_transaction)\n",
    "test_id = pd.read_csv(test_identity)\n",
    "test_tr = pd.read_csv(test_transaction)"
   ]
  },
  {
   "cell_type": "code",
<<<<<<< HEAD
   "execution_count": 4,
=======
   "execution_count": 7,
>>>>>>> ece17a6c8d83dc85bccea2a0c813038665c865ea
   "metadata": {},
   "outputs": [],
   "source": [
    "def downcast_dtypes(df):\n",
    "    _start = df.memory_usage(deep=True).sum() / 1024 ** 2\n",
    "    float_cols = [c for c in df if df[c].dtype == \"float64\"]\n",
    "    int_cols = [c for c in df if df[c].dtype in [\"int64\", \"int32\"]]\n",
    "    df[float_cols] = df[float_cols].astype(np.float32)\n",
    "    df[int_cols] = df[int_cols].astype(np.int16)\n",
    "    _end = df.memory_usage(deep=True).sum() / 1024 ** 2\n",
    "    saved = (_start - _end) / _start * 100\n",
    "    print(f\"Saved {saved:.2f}%\")\n",
    "    return df"
   ]
  },
  {
   "cell_type": "code",
<<<<<<< HEAD
   "execution_count": 5,
=======
   "execution_count": 8,
>>>>>>> ece17a6c8d83dc85bccea2a0c813038665c865ea
   "metadata": {},
   "outputs": [
    {
     "output_type": "stream",
     "name": "stdout",
     "text": [
      "Saved 8.32%\n",
      "Saved 40.53%\n",
      "Saved 8.38%\n",
      "Saved 40.20%\n"
     ]
    }
   ],
   "source": [
    "train_id = downcast_dtypes(train_id)\n",
    "train_tr = downcast_dtypes(train_tr)\n",
    "test_id = downcast_dtypes(test_id)\n",
    "test_tr = downcast_dtypes(test_tr)"
   ]
  },
  {
   "cell_type": "code",
<<<<<<< HEAD
   "execution_count": 23,
   "metadata": {},
   "outputs": [],
   "source": [
    "train = pd.merge(\n",
    "    train_tr, train_id, how=\"left\", on=\"TransactionID\", left_index=True, right_index=True,\n",
    ")\n"
=======
   "execution_count": 27,
   "metadata": {},
   "outputs": [
    {
     "output_type": "error",
     "ename": "ImportError",
     "evalue": "Unable to find a usable engine; tried using: 'pyarrow', 'fastparquet'.\nA suitable version of pyarrow or fastparquet is required for parquet support.\nTrying to import the above resulted in these errors:\n - Missing optional dependency 'pyarrow'. pyarrow is required for parquet support. Use pip or conda to install pyarrow.\n - Missing optional dependency 'fastparquet'. fastparquet is required for parquet support. Use pip or conda to install fastparquet.",
     "traceback": [
      "\u001b[0;31m---------------------------------------------------------------------------\u001b[0m",
      "\u001b[0;31mImportError\u001b[0m                               Traceback (most recent call last)",
      "\u001b[0;32m<ipython-input-27-172cd16d987c>\u001b[0m in \u001b[0;36m<module>\u001b[0;34m\u001b[0m\n\u001b[0;32m----> 1\u001b[0;31m \u001b[0mtrain_id\u001b[0m\u001b[0;34m.\u001b[0m\u001b[0mto_parquet\u001b[0m\u001b[0;34m(\u001b[0m\u001b[0;34mf\"./data/train_identity.parquet.gzip\"\u001b[0m\u001b[0;34m,\u001b[0m \u001b[0mcompression\u001b[0m\u001b[0;34m=\u001b[0m\u001b[0;34m\"gzip\"\u001b[0m\u001b[0;34m)\u001b[0m\u001b[0;34m\u001b[0m\u001b[0;34m\u001b[0m\u001b[0m\n\u001b[0m\u001b[1;32m      2\u001b[0m \u001b[0mtrain_tr\u001b[0m\u001b[0;34m.\u001b[0m\u001b[0mto_parquet\u001b[0m\u001b[0;34m(\u001b[0m\u001b[0;34mf\"./data/train_transaction.parquet.gzip\"\u001b[0m\u001b[0;34m,\u001b[0m \u001b[0mcompression\u001b[0m\u001b[0;34m=\u001b[0m\u001b[0;34m\"gzip\"\u001b[0m\u001b[0;34m)\u001b[0m\u001b[0;34m\u001b[0m\u001b[0;34m\u001b[0m\u001b[0m\n\u001b[1;32m      3\u001b[0m \u001b[0mtest_id\u001b[0m\u001b[0;34m.\u001b[0m\u001b[0mto_parquet\u001b[0m\u001b[0;34m(\u001b[0m\u001b[0;34mf\"./data/test_identity.parquet.gzip\"\u001b[0m\u001b[0;34m,\u001b[0m \u001b[0mcompression\u001b[0m\u001b[0;34m=\u001b[0m\u001b[0;34m\"gzip\"\u001b[0m\u001b[0;34m)\u001b[0m\u001b[0;34m\u001b[0m\u001b[0;34m\u001b[0m\u001b[0m\n\u001b[1;32m      4\u001b[0m \u001b[0mtest_tr\u001b[0m\u001b[0;34m.\u001b[0m\u001b[0mto_parquet\u001b[0m\u001b[0;34m(\u001b[0m\u001b[0;34mf\"./data/test_transaction.parquet.gzip\"\u001b[0m\u001b[0;34m,\u001b[0m \u001b[0mcompression\u001b[0m\u001b[0;34m=\u001b[0m\u001b[0;34m\"gzip\"\u001b[0m\u001b[0;34m)\u001b[0m\u001b[0;34m\u001b[0m\u001b[0;34m\u001b[0m\u001b[0m\n",
      "\u001b[0;32m~/Library/Python/3.8/lib/python/site-packages/pandas/util/_decorators.py\u001b[0m in \u001b[0;36mwrapper\u001b[0;34m(*args, **kwargs)\u001b[0m\n\u001b[1;32m    197\u001b[0m                 \u001b[0;32melse\u001b[0m\u001b[0;34m:\u001b[0m\u001b[0;34m\u001b[0m\u001b[0;34m\u001b[0m\u001b[0m\n\u001b[1;32m    198\u001b[0m                     \u001b[0mkwargs\u001b[0m\u001b[0;34m[\u001b[0m\u001b[0mnew_arg_name\u001b[0m\u001b[0;34m]\u001b[0m \u001b[0;34m=\u001b[0m \u001b[0mnew_arg_value\u001b[0m\u001b[0;34m\u001b[0m\u001b[0;34m\u001b[0m\u001b[0m\n\u001b[0;32m--> 199\u001b[0;31m             \u001b[0;32mreturn\u001b[0m \u001b[0mfunc\u001b[0m\u001b[0;34m(\u001b[0m\u001b[0;34m*\u001b[0m\u001b[0margs\u001b[0m\u001b[0;34m,\u001b[0m \u001b[0;34m**\u001b[0m\u001b[0mkwargs\u001b[0m\u001b[0;34m)\u001b[0m\u001b[0;34m\u001b[0m\u001b[0;34m\u001b[0m\u001b[0m\n\u001b[0m\u001b[1;32m    200\u001b[0m \u001b[0;34m\u001b[0m\u001b[0m\n\u001b[1;32m    201\u001b[0m         \u001b[0;32mreturn\u001b[0m \u001b[0mcast\u001b[0m\u001b[0;34m(\u001b[0m\u001b[0mF\u001b[0m\u001b[0;34m,\u001b[0m \u001b[0mwrapper\u001b[0m\u001b[0;34m)\u001b[0m\u001b[0;34m\u001b[0m\u001b[0;34m\u001b[0m\u001b[0m\n",
      "\u001b[0;32m~/Library/Python/3.8/lib/python/site-packages/pandas/core/frame.py\u001b[0m in \u001b[0;36mto_parquet\u001b[0;34m(self, path, engine, compression, index, partition_cols, **kwargs)\u001b[0m\n\u001b[1;32m   2363\u001b[0m         \u001b[0;32mfrom\u001b[0m \u001b[0mpandas\u001b[0m\u001b[0;34m.\u001b[0m\u001b[0mio\u001b[0m\u001b[0;34m.\u001b[0m\u001b[0mparquet\u001b[0m \u001b[0;32mimport\u001b[0m \u001b[0mto_parquet\u001b[0m\u001b[0;34m\u001b[0m\u001b[0;34m\u001b[0m\u001b[0m\n\u001b[1;32m   2364\u001b[0m \u001b[0;34m\u001b[0m\u001b[0m\n\u001b[0;32m-> 2365\u001b[0;31m         to_parquet(\n\u001b[0m\u001b[1;32m   2366\u001b[0m             \u001b[0mself\u001b[0m\u001b[0;34m,\u001b[0m\u001b[0;34m\u001b[0m\u001b[0;34m\u001b[0m\u001b[0m\n\u001b[1;32m   2367\u001b[0m             \u001b[0mpath\u001b[0m\u001b[0;34m,\u001b[0m\u001b[0;34m\u001b[0m\u001b[0;34m\u001b[0m\u001b[0m\n",
      "\u001b[0;32m~/Library/Python/3.8/lib/python/site-packages/pandas/io/parquet.py\u001b[0m in \u001b[0;36mto_parquet\u001b[0;34m(df, path, engine, compression, index, partition_cols, **kwargs)\u001b[0m\n\u001b[1;32m    267\u001b[0m     \u001b[0;32mif\u001b[0m \u001b[0misinstance\u001b[0m\u001b[0;34m(\u001b[0m\u001b[0mpartition_cols\u001b[0m\u001b[0;34m,\u001b[0m \u001b[0mstr\u001b[0m\u001b[0;34m)\u001b[0m\u001b[0;34m:\u001b[0m\u001b[0;34m\u001b[0m\u001b[0;34m\u001b[0m\u001b[0m\n\u001b[1;32m    268\u001b[0m         \u001b[0mpartition_cols\u001b[0m \u001b[0;34m=\u001b[0m \u001b[0;34m[\u001b[0m\u001b[0mpartition_cols\u001b[0m\u001b[0;34m]\u001b[0m\u001b[0;34m\u001b[0m\u001b[0;34m\u001b[0m\u001b[0m\n\u001b[0;32m--> 269\u001b[0;31m     \u001b[0mimpl\u001b[0m \u001b[0;34m=\u001b[0m \u001b[0mget_engine\u001b[0m\u001b[0;34m(\u001b[0m\u001b[0mengine\u001b[0m\u001b[0;34m)\u001b[0m\u001b[0;34m\u001b[0m\u001b[0;34m\u001b[0m\u001b[0m\n\u001b[0m\u001b[1;32m    270\u001b[0m     return impl.write(\n\u001b[1;32m    271\u001b[0m         \u001b[0mdf\u001b[0m\u001b[0;34m,\u001b[0m\u001b[0;34m\u001b[0m\u001b[0;34m\u001b[0m\u001b[0m\n",
      "\u001b[0;32m~/Library/Python/3.8/lib/python/site-packages/pandas/io/parquet.py\u001b[0m in \u001b[0;36mget_engine\u001b[0;34m(engine)\u001b[0m\n\u001b[1;32m     29\u001b[0m                 \u001b[0merror_msgs\u001b[0m \u001b[0;34m+=\u001b[0m \u001b[0;34m\"\\n - \"\u001b[0m \u001b[0;34m+\u001b[0m \u001b[0mstr\u001b[0m\u001b[0;34m(\u001b[0m\u001b[0merr\u001b[0m\u001b[0;34m)\u001b[0m\u001b[0;34m\u001b[0m\u001b[0;34m\u001b[0m\u001b[0m\n\u001b[1;32m     30\u001b[0m \u001b[0;34m\u001b[0m\u001b[0m\n\u001b[0;32m---> 31\u001b[0;31m         raise ImportError(\n\u001b[0m\u001b[1;32m     32\u001b[0m             \u001b[0;34m\"Unable to find a usable engine; \"\u001b[0m\u001b[0;34m\u001b[0m\u001b[0;34m\u001b[0m\u001b[0m\n\u001b[1;32m     33\u001b[0m             \u001b[0;34m\"tried using: 'pyarrow', 'fastparquet'.\\n\"\u001b[0m\u001b[0;34m\u001b[0m\u001b[0;34m\u001b[0m\u001b[0m\n",
      "\u001b[0;31mImportError\u001b[0m: Unable to find a usable engine; tried using: 'pyarrow', 'fastparquet'.\nA suitable version of pyarrow or fastparquet is required for parquet support.\nTrying to import the above resulted in these errors:\n - Missing optional dependency 'pyarrow'. pyarrow is required for parquet support. Use pip or conda to install pyarrow.\n - Missing optional dependency 'fastparquet'. fastparquet is required for parquet support. Use pip or conda to install fastparquet."
     ]
    }
   ],
   "source": [
    "train_id.to_parquet(f\"./data/train_identity.parquet.gzip\", compression=\"gzip\")\n",
    "train_tr.to_parquet(f\"./data/train_transaction.parquet.gzip\", compression=\"gzip\")\n",
    "test_id.to_parquet(f\"./data/test_identity.parquet.gzip\", compression=\"gzip\")\n",
    "test_tr.to_parquet(f\"./data/test_transaction.parquet.gzip\", compression=\"gzip\")"
>>>>>>> ece17a6c8d83dc85bccea2a0c813038665c865ea
   ]
  },
  {
   "cell_type": "code",
<<<<<<< HEAD
   "execution_count": 41,
   "metadata": {},
   "outputs": [],
   "source": [
    "train.to_csv(\"train_set.csv\")"
=======
   "execution_count": 10,
   "metadata": {},
   "outputs": [],
   "source": [
    "train = pd.merge(\n",
    "    train_tr, train_id, how=\"left\", on=\"TransactionID\", left_index=True, right_index=True,\n",
    ")"
>>>>>>> ece17a6c8d83dc85bccea2a0c813038665c865ea
   ]
  },
  {
   "cell_type": "code",
<<<<<<< HEAD
   "execution_count": 24,
=======
   "execution_count": 11,
>>>>>>> ece17a6c8d83dc85bccea2a0c813038665c865ea
   "metadata": {},
   "outputs": [],
   "source": [
    "test = pd.merge(\n",
    "    test_tr, test_id, how=\"left\", on=\"TransactionID\", left_index=True, right_index=True\n",
    ")"
   ]
  },
  {
   "cell_type": "code",
<<<<<<< HEAD
   "execution_count": 25,
=======
   "execution_count": 12,
>>>>>>> ece17a6c8d83dc85bccea2a0c813038665c865ea
   "metadata": {},
   "outputs": [
    {
     "output_type": "stream",
     "name": "stdout",
     "text": [
      "Train shape: (590540, 434), Test shape: (506691, 433)\n"
     ]
    }
   ],
   "source": [
    "print(f\"Train shape: {train.shape}, Test shape: {test.shape}\")"
   ]
  },
  {
   "cell_type": "code",
<<<<<<< HEAD
   "execution_count": 26,
=======
   "execution_count": 13,
>>>>>>> ece17a6c8d83dc85bccea2a0c813038665c865ea
   "metadata": {},
   "outputs": [],
   "source": [
    "imp_features = [\n",
    "    \"TransactionAmt\",\n",
    "    \"ProductCD\",\n",
    "    \"card1\",\n",
    "    \"card2\",\n",
    "    \"card3\",\n",
    "    \"card5\",\n",
    "    \"card6\",\n",
    "    \"addr1\",\n",
    "    \"addr2\",\n",
    "    \"dist1\",\n",
    "    \"dist2\",\n",
    "    \"P_emaildomain\",\n",
    "    \"R_emaildomain\",\n",
    "    \"C1\",\n",
    "    \"C2\",\n",
    "    \"C4\",\n",
    "    \"C5\",\n",
    "    \"C6\",\n",
    "    \"C7\",\n",
    "    \"C8\",\n",
    "    \"C9\",\n",
    "    \"C10\",\n",
    "    \"C11\",\n",
    "    \"C12\",\n",
    "    \"C13\",\n",
    "    \"C14\",\n",
    "    \"D1\",\n",
    "    \"D2\",\n",
    "    \"D3\",\n",
    "    \"D4\",\n",
    "    \"D5\",\n",
    "    \"D10\",\n",
    "    \"D11\",\n",
    "    \"D15\",\n",
    "    \"M1\",\n",
    "    \"M2\",\n",
    "    \"M3\",\n",
    "    \"M4\",\n",
    "    \"M6\",\n",
    "    \"M7\",\n",
    "    \"M8\",\n",
    "    \"M9\",\n",
    "    \"V1\",\n",
    "    \"V3\",\n",
    "    \"V4\",\n",
    "    \"V6\",\n",
    "    \"V8\",\n",
    "    \"V11\",\n",
    "    \"V13\",\n",
    "    \"V14\",\n",
    "    \"V17\",\n",
    "    \"V20\",\n",
    "    \"V23\",\n",
    "    \"V26\",\n",
    "    \"V27\",\n",
    "    \"V30\",\n",
    "    \"V36\",\n",
    "    \"V37\",\n",
    "    \"V40\",\n",
    "    \"V41\",\n",
    "    \"V44\",\n",
    "    \"V47\",\n",
    "    \"V48\",\n",
    "    \"V54\",\n",
    "    \"V56\",\n",
    "    \"V59\",\n",
    "    \"V62\",\n",
    "    \"V65\",\n",
    "    \"V67\",\n",
    "    \"V68\",\n",
    "    \"V70\",\n",
    "    \"V76\",\n",
    "    \"V78\",\n",
    "    \"V80\",\n",
    "    \"V82\",\n",
    "    \"V86\",\n",
    "    \"V88\",\n",
    "    \"V89\",\n",
    "    \"V91\",\n",
    "    \"V107\",\n",
    "    \"V108\",\n",
    "    \"V111\",\n",
    "    \"V115\",\n",
    "    \"V117\",\n",
    "    \"V120\",\n",
    "    \"V121\",\n",
    "    \"V123\",\n",
    "    \"V124\",\n",
    "    \"V127\",\n",
    "    \"V129\",\n",
    "    \"V130\",\n",
    "    \"V136\",\n",
    "    \"V138\",\n",
    "    \"V139\",\n",
    "    \"V142\",\n",
    "    \"V147\",\n",
    "    \"V156\",\n",
    "    \"V160\",\n",
    "    \"V162\",\n",
    "    \"V165\",\n",
    "    \"V166\",\n",
    "    \"V169\",\n",
    "    \"V171\",\n",
    "    \"V173\",\n",
    "    \"V175\",\n",
    "    \"V176\",\n",
    "    \"V178\",\n",
    "    \"V180\",\n",
    "    \"V182\",\n",
    "    \"V185\",\n",
    "    \"V187\",\n",
    "    \"V188\",\n",
    "    \"V198\",\n",
    "    \"V203\",\n",
    "    \"V205\",\n",
    "    \"V207\",\n",
    "    \"V209\",\n",
    "    \"V210\",\n",
    "    \"V215\",\n",
    "    \"V218\",\n",
    "    \"V220\",\n",
    "    \"V221\",\n",
    "    \"V223\",\n",
    "    \"V224\",\n",
    "    \"V226\",\n",
    "    \"V228\",\n",
    "    \"V229\",\n",
    "    \"V234\",\n",
    "    \"V235\",\n",
    "    \"V238\",\n",
    "    \"V240\",\n",
    "    \"V250\",\n",
    "    \"V252\",\n",
    "    \"V253\",\n",
    "    \"V257\",\n",
    "    \"V258\",\n",
    "    \"V260\",\n",
    "    \"V261\",\n",
    "    \"V264\",\n",
    "    \"V266\",\n",
    "    \"V267\",\n",
    "    \"V271\",\n",
    "    \"V274\",\n",
    "    \"V277\",\n",
    "    \"V281\",\n",
    "    \"V283\",\n",
    "    \"V284\",\n",
    "    \"V285\",\n",
    "    \"V286\",\n",
    "    \"V289\",\n",
    "    \"V291\",\n",
    "    \"V294\",\n",
    "    \"V296\",\n",
    "    \"V297\",\n",
    "    \"V301\",\n",
    "    \"V303\",\n",
    "    \"V305\",\n",
    "    \"V307\",\n",
    "    \"V309\",\n",
    "    \"V310\",\n",
    "    \"V314\",\n",
    "    \"V320\",\n",
    "    \"DeviceType\",\n",
    "    \"DeviceInfo\",\n",
    "    \"isFraud\", ]"
   ]
  },
  {
   "cell_type": "code",
<<<<<<< HEAD
   "execution_count": 27,
=======
   "execution_count": 14,
>>>>>>> ece17a6c8d83dc85bccea2a0c813038665c865ea
   "metadata": {},
   "outputs": [],
   "source": [
    "cols_to_drop_train = [col for col in train.columns if col not in imp_features]\n",
    "cols_to_drop_test = [col for col in test.columns if col not in imp_features]\n",
    "\n",
    "train = train.drop(cols_to_drop_train, axis=1)\n",
    "test = test.drop(cols_to_drop_test, axis=1)"
   ]
  },
  {
   "cell_type": "code",
<<<<<<< HEAD
   "execution_count": 28,
=======
   "execution_count": 15,
>>>>>>> ece17a6c8d83dc85bccea2a0c813038665c865ea
   "metadata": {},
   "outputs": [],
   "source": [
    "train = train.replace([np.inf, -np.inf], np.nan)\n",
    "test = test.replace([np.inf, -np.inf], np.nan)\n",
    "\n",
    "train.fillna(0, inplace=True)\n",
    "test.fillna(0, inplace=True)"
   ]
  },
  {
   "cell_type": "code",
<<<<<<< HEAD
   "execution_count": 29,
=======
   "execution_count": 16,
>>>>>>> ece17a6c8d83dc85bccea2a0c813038665c865ea
   "metadata": {},
   "outputs": [],
   "source": [
    "for col in train.columns:\n",
    "    if train[col].dtype == \"object\":\n",
    "        le = LabelEncoder()\n",
    "        le.fit(list(train[col].astype(str).values) + list(test[col].astype(str).values))\n",
    "        train[col] = le.transform(list(train[col].astype(str).values))\n",
    "        test[col] = le.transform(list(test[col].astype(str).values))"
   ]
  },
  {
   "cell_type": "code",
<<<<<<< HEAD
   "execution_count": 40,
=======
   "execution_count": 28,
>>>>>>> ece17a6c8d83dc85bccea2a0c813038665c865ea
   "metadata": {},
   "outputs": [
    {
     "output_type": "stream",
     "name": "stdout",
     "text": [
      "(590540, 165)\n(506691, 164)\n"
     ]
    }
   ],
   "source": [
    "print(train.shape)\n",
<<<<<<< HEAD
    "print(test.shape)\n",
    "train.to_csv(\"train_set.csv\", index = False, header=False)"
=======
    "print(test.shape)"
>>>>>>> ece17a6c8d83dc85bccea2a0c813038665c865ea
   ]
  },
  {
   "cell_type": "code",
<<<<<<< HEAD
   "execution_count": 30,
=======
   "execution_count": 17,
>>>>>>> ece17a6c8d83dc85bccea2a0c813038665c865ea
   "metadata": {},
   "outputs": [],
   "source": [
    "X_train = train.drop(\"isFraud\", axis=1).copy()\n",
    "X_test = test.copy()\n",
    "y_train = train[\"isFraud\"].copy()"
   ]
  },
  {
   "cell_type": "code",
<<<<<<< HEAD
   "execution_count": 31,
=======
   "execution_count": null,
   "metadata": {},
   "outputs": [],
   "source": [
    "print(X_test[0])"
   ]
  },
  {
   "cell_type": "code",
   "execution_count": 18,
>>>>>>> ece17a6c8d83dc85bccea2a0c813038665c865ea
   "metadata": {},
   "outputs": [
    {
     "output_type": "stream",
     "name": "stdout",
     "text": [
      "(590540, 164) (506691, 164) (590540,)\n"
     ]
    }
   ],
   "source": [
    "print(X_train.shape, X_test.shape, y_train.shape)"
   ]
  },
  {
   "cell_type": "code",
<<<<<<< HEAD
   "execution_count": 32,
=======
   "execution_count": 19,
>>>>>>> ece17a6c8d83dc85bccea2a0c813038665c865ea
   "metadata": {},
   "outputs": [],
   "source": [
    "from sklearn.model_selection import train_test_split\n",
    "\n",
    "X_train_split, X_test_split, y_train_split, y_test_split = train_test_split(\n",
    "    X_train, y_train, test_size=0.3, random_state=7\n",
    ")"
   ]
  },
  {
   "cell_type": "code",
<<<<<<< HEAD
   "execution_count": 33,
=======
   "execution_count": 20,
>>>>>>> ece17a6c8d83dc85bccea2a0c813038665c865ea
   "metadata": {},
   "outputs": [],
   "source": [
    "from sklearn.ensemble import RandomForestClassifier\n",
    "\n",
    "rf = RandomForestClassifier(\n",
    "    max_depth=45, max_features=30, n_estimators=500, n_jobs=-1, min_samples_leaf=200\n",
    ")"
   ]
  },
  {
   "cell_type": "code",
<<<<<<< HEAD
   "execution_count": 34,
   "metadata": {},
   "outputs": [
    {
=======
   "execution_count": 21,
   "metadata": {},
   "outputs": [
    {
     "output_type": "stream",
     "name": "stdout",
     "text": [
      "CPU times: user 1h 16min 7s, sys: 53.9 s, total: 1h 17min 1s\nWall time: 8min 10s\n"
     ]
    },
    {
>>>>>>> ece17a6c8d83dc85bccea2a0c813038665c865ea
     "output_type": "execute_result",
     "data": {
      "text/plain": [
       "RandomForestClassifier(max_depth=45, max_features=30, min_samples_leaf=200,\n",
       "                       n_estimators=500, n_jobs=-1)"
      ]
     },
     "metadata": {},
<<<<<<< HEAD
     "execution_count": 34
    }
   ],
   "source": [
    "#%%time \n",
=======
     "execution_count": 21
    }
   ],
   "source": [
    "%%time \n",
>>>>>>> ece17a6c8d83dc85bccea2a0c813038665c865ea
    "rf.fit(X_train_split, y_train_split)"
   ]
  },
  {
   "cell_type": "code",
<<<<<<< HEAD
   "execution_count": 35,
=======
   "execution_count": 25,
>>>>>>> ece17a6c8d83dc85bccea2a0c813038665c865ea
   "metadata": {},
   "outputs": [
    {
     "output_type": "stream",
     "name": "stdout",
     "text": [
<<<<<<< HEAD
      "Roc Auc Score: 0.6143621187555389\n"
=======
      "Roc Auc Score: 0.6139423773770136\n"
>>>>>>> ece17a6c8d83dc85bccea2a0c813038665c865ea
     ]
    }
   ],
   "source": [
    "print(\"Roc Auc Score:\", roc_auc_score(y_test_split, rf.predict(X_test_split)))"
   ]
  },
  {
   "cell_type": "code",
<<<<<<< HEAD
   "execution_count": null,
=======
   "execution_count": 22,
>>>>>>> ece17a6c8d83dc85bccea2a0c813038665c865ea
   "metadata": {},
   "outputs": [],
   "source": [
    "import pickle\n"
   ]
  },
  {
   "cell_type": "code",
   "execution_count": 24,
   "metadata": {},
   "outputs": [],
   "source": [
    "Pkl_Filename = \"modelo.pkl\"  \n",
    "\n",
    "with open(Pkl_Filename, 'wb') as file:  \n",
    "    pickle.dump(rf, file)"
   ]
  },
  {
   "cell_type": "code",
<<<<<<< HEAD
   "execution_count": 36,
=======
   "execution_count": 28,
>>>>>>> ece17a6c8d83dc85bccea2a0c813038665c865ea
   "metadata": {},
   "outputs": [],
   "source": [
    "import lightgbm as lgb\n"
   ]
  },
  {
   "cell_type": "code",
<<<<<<< HEAD
   "execution_count": 37,
=======
   "execution_count": 29,
>>>>>>> ece17a6c8d83dc85bccea2a0c813038665c865ea
   "metadata": {},
   "outputs": [],
   "source": [
    "feats = {}\n",
    "for feature, importance in zip(X_train.columns, rf.feature_importances_):\n",
    "    feats[feature] = importance\n",
    "\n",
    "importances = pd.DataFrame.from_dict(feats, orient=\"index\").rename(\n",
    "    columns={0: \"Gini-importance\"}\n",
    ")\n",
    "imp = importances.sort_values(by=\"Gini-importance\", ascending=False)[:20]"
   ]
  },
  {
   "cell_type": "code",
<<<<<<< HEAD
   "execution_count": 38,
=======
   "execution_count": 30,
>>>>>>> ece17a6c8d83dc85bccea2a0c813038665c865ea
   "metadata": {},
   "outputs": [
    {
     "output_type": "stream",
     "name": "stdout",
     "text": [
<<<<<<< HEAD
      "Index(['V258', 'V257', 'V188', 'C1', 'V187', 'C13', 'C12', 'C7', 'C14', 'V44',\n       'V274', 'V294', 'C11', 'C4', 'V283', 'C8', 'V156', 'TransactionAmt',\n       'C10', 'V307'],\n      dtype='object')\n"
=======
      "Index(['V258', 'V257', 'V188', 'C1', 'V187', 'C13', 'C7', 'C14', 'C12', 'V44',\n       'C4', 'V274', 'V294', 'C11', 'C8', 'V283', 'V156', 'V86',\n       'TransactionAmt', 'D2'],\n      dtype='object')\n"
>>>>>>> ece17a6c8d83dc85bccea2a0c813038665c865ea
     ]
    },
    {
     "output_type": "display_data",
     "data": {
      "text/plain": "<Figure size 1152x504 with 1 Axes>",
<<<<<<< HEAD
      "image/svg+xml": "<?xml version=\"1.0\" encoding=\"utf-8\" standalone=\"no\"?>\n<!DOCTYPE svg PUBLIC \"-//W3C//DTD SVG 1.1//EN\"\n  \"http://www.w3.org/Graphics/SVG/1.1/DTD/svg11.dtd\">\n<!-- Created with matplotlib (https://matplotlib.org/) -->\n<svg height=\"479.621562pt\" version=\"1.1\" viewBox=\"0 0 936.465625 479.621562\" width=\"936.465625pt\" xmlns=\"http://www.w3.org/2000/svg\" xmlns:xlink=\"http://www.w3.org/1999/xlink\">\n <metadata>\n  <rdf:RDF xmlns:cc=\"http://creativecommons.org/ns#\" xmlns:dc=\"http://purl.org/dc/elements/1.1/\" xmlns:rdf=\"http://www.w3.org/1999/02/22-rdf-syntax-ns#\">\n   <cc:Work>\n    <dc:type rdf:resource=\"http://purl.org/dc/dcmitype/StillImage\"/>\n    <dc:date>2021-04-30T14:38:16.304229</dc:date>\n    <dc:format>image/svg+xml</dc:format>\n    <dc:creator>\n     <cc:Agent>\n      <dc:title>Matplotlib v3.3.2, https://matplotlib.org/</dc:title>\n     </cc:Agent>\n    </dc:creator>\n   </cc:Work>\n  </rdf:RDF>\n </metadata>\n <defs>\n  <style type=\"text/css\">*{stroke-linecap:butt;stroke-linejoin:round;}</style>\n </defs>\n <g id=\"figure_1\">\n  <g id=\"patch_1\">\n   <path d=\"M 0 479.621562 \nL 936.465625 479.621562 \nL 936.465625 0 \nL 0 0 \nz\n\" style=\"fill:none;\"/>\n  </g>\n  <g id=\"axes_1\">\n   <g id=\"patch_2\">\n    <path d=\"M 36.465625 387.72 \nL 929.265625 387.72 \nL 929.265625 7.2 \nL 36.465625 7.2 \nz\n\" style=\"fill:#ffffff;\"/>\n   </g>\n   <g id=\"patch_3\">\n    <path clip-path=\"url(#pd1f855264f)\" d=\"M 77.047443 387.72 \nL 109.840832 387.72 \nL 109.840832 25.32 \nL 77.047443 25.32 \nz\n\" style=\"fill:#1f77b4;\"/>\n   </g>\n   <g id=\"patch_4\">\n    <path clip-path=\"url(#pd1f855264f)\" d=\"M 118.039179 387.72 \nL 150.832567 387.72 \nL 150.832567 32.639887 \nL 118.039179 32.639887 \nz\n\" style=\"fill:#1f77b4;\"/>\n   </g>\n   <g id=\"patch_5\">\n    <path clip-path=\"url(#pd1f855264f)\" d=\"M 159.030914 387.72 \nL 191.824303 387.72 \nL 191.824303 175.67522 \nL 159.030914 175.67522 \nz\n\" style=\"fill:#1f77b4;\"/>\n   </g>\n   <g id=\"patch_6\">\n    <path clip-path=\"url(#pd1f855264f)\" d=\"M 200.02265 387.72 \nL 232.816038 387.72 \nL 232.816038 204.799795 \nL 200.02265 204.799795 \nz\n\" style=\"fill:#1f77b4;\"/>\n   </g>\n   <g id=\"patch_7\">\n    <path clip-path=\"url(#pd1f855264f)\" d=\"M 241.014385 387.72 \nL 273.807774 387.72 \nL 273.807774 224.219492 \nL 241.014385 224.219492 \nz\n\" style=\"fill:#1f77b4;\"/>\n   </g>\n   <g id=\"patch_8\">\n    <path clip-path=\"url(#pd1f855264f)\" d=\"M 282.006121 387.72 \nL 314.799509 387.72 \nL 314.799509 248.211789 \nL 282.006121 248.211789 \nz\n\" style=\"fill:#1f77b4;\"/>\n   </g>\n   <g id=\"patch_9\">\n    <path clip-path=\"url(#pd1f855264f)\" d=\"M 322.997856 387.72 \nL 355.791245 387.72 \nL 355.791245 258.12654 \nL 322.997856 258.12654 \nz\n\" style=\"fill:#1f77b4;\"/>\n   </g>\n   <g id=\"patch_10\">\n    <path clip-path=\"url(#pd1f855264f)\" d=\"M 363.989592 387.72 \nL 396.78298 387.72 \nL 396.78298 279.564194 \nL 363.989592 279.564194 \nz\n\" style=\"fill:#1f77b4;\"/>\n   </g>\n   <g id=\"patch_11\">\n    <path clip-path=\"url(#pd1f855264f)\" d=\"M 404.981327 387.72 \nL 437.774716 387.72 \nL 437.774716 280.856305 \nL 404.981327 280.856305 \nz\n\" style=\"fill:#1f77b4;\"/>\n   </g>\n   <g id=\"patch_12\">\n    <path clip-path=\"url(#pd1f855264f)\" d=\"M 445.973063 387.72 \nL 478.766451 387.72 \nL 478.766451 312.921187 \nL 445.973063 312.921187 \nz\n\" style=\"fill:#1f77b4;\"/>\n   </g>\n   <g id=\"patch_13\">\n    <path clip-path=\"url(#pd1f855264f)\" d=\"M 486.964799 387.72 \nL 519.758187 387.72 \nL 519.758187 317.315573 \nL 486.964799 317.315573 \nz\n\" style=\"fill:#1f77b4;\"/>\n   </g>\n   <g id=\"patch_14\">\n    <path clip-path=\"url(#pd1f855264f)\" d=\"M 527.956534 387.72 \nL 560.749923 387.72 \nL 560.749923 326.344844 \nL 527.956534 326.344844 \nz\n\" style=\"fill:#1f77b4;\"/>\n   </g>\n   <g id=\"patch_15\">\n    <path clip-path=\"url(#pd1f855264f)\" d=\"M 568.94827 387.72 \nL 601.741658 387.72 \nL 601.741658 329.797764 \nL 568.94827 329.797764 \nz\n\" style=\"fill:#1f77b4;\"/>\n   </g>\n   <g id=\"patch_16\">\n    <path clip-path=\"url(#pd1f855264f)\" d=\"M 609.940005 387.72 \nL 642.733394 387.72 \nL 642.733394 330.81595 \nL 609.940005 330.81595 \nz\n\" style=\"fill:#1f77b4;\"/>\n   </g>\n   <g id=\"patch_17\">\n    <path clip-path=\"url(#pd1f855264f)\" d=\"M 650.931741 387.72 \nL 683.725129 387.72 \nL 683.725129 332.615082 \nL 650.931741 332.615082 \nz\n\" style=\"fill:#1f77b4;\"/>\n   </g>\n   <g id=\"patch_18\">\n    <path clip-path=\"url(#pd1f855264f)\" d=\"M 691.923476 387.72 \nL 724.716865 387.72 \nL 724.716865 341.013605 \nL 691.923476 341.013605 \nz\n\" style=\"fill:#1f77b4;\"/>\n   </g>\n   <g id=\"patch_19\">\n    <path clip-path=\"url(#pd1f855264f)\" d=\"M 732.915212 387.72 \nL 765.7086 387.72 \nL 765.7086 345.782947 \nL 732.915212 345.782947 \nz\n\" style=\"fill:#1f77b4;\"/>\n   </g>\n   <g id=\"patch_20\">\n    <path clip-path=\"url(#pd1f855264f)\" d=\"M 773.906947 387.72 \nL 806.700336 387.72 \nL 806.700336 351.259597 \nL 773.906947 351.259597 \nz\n\" style=\"fill:#1f77b4;\"/>\n   </g>\n   <g id=\"patch_21\">\n    <path clip-path=\"url(#pd1f855264f)\" d=\"M 814.898683 387.72 \nL 847.692071 387.72 \nL 847.692071 352.814727 \nL 814.898683 352.814727 \nz\n\" style=\"fill:#1f77b4;\"/>\n   </g>\n   <g id=\"patch_22\">\n    <path clip-path=\"url(#pd1f855264f)\" d=\"M 855.890418 387.72 \nL 888.683807 387.72 \nL 888.683807 355.289098 \nL 855.890418 355.289098 \nz\n\" style=\"fill:#1f77b4;\"/>\n   </g>\n   <g id=\"matplotlib.axis_1\">\n    <g id=\"xtick_1\">\n     <g id=\"line2d_1\">\n      <defs>\n       <path d=\"M 0 0 \nL 0 3.5 \n\" id=\"mfce6ec0b2b\" style=\"stroke:#000000;stroke-width:0.8;\"/>\n      </defs>\n      <g>\n       <use style=\"stroke:#000000;stroke-width:0.8;\" x=\"93.444137\" xlink:href=\"#mfce6ec0b2b\" y=\"387.72\"/>\n      </g>\n     </g>\n     <g id=\"text_1\">\n      <!-- V258 -->\n      <g transform=\"translate(96.203512 420.648125)rotate(-90)scale(0.1 -0.1)\">\n       <defs>\n        <path d=\"M 28.609375 0 \nL 0.78125 72.90625 \nL 11.078125 72.90625 \nL 34.1875 11.53125 \nL 57.328125 72.90625 \nL 67.578125 72.90625 \nL 39.796875 0 \nz\n\" id=\"DejaVuSans-86\"/>\n        <path d=\"M 19.1875 8.296875 \nL 53.609375 8.296875 \nL 53.609375 0 \nL 7.328125 0 \nL 7.328125 8.296875 \nQ 12.9375 14.109375 22.625 23.890625 \nQ 32.328125 33.6875 34.8125 36.53125 \nQ 39.546875 41.84375 41.421875 45.53125 \nQ 43.3125 49.21875 43.3125 52.78125 \nQ 43.3125 58.59375 39.234375 62.25 \nQ 35.15625 65.921875 28.609375 65.921875 \nQ 23.96875 65.921875 18.8125 64.3125 \nQ 13.671875 62.703125 7.8125 59.421875 \nL 7.8125 69.390625 \nQ 13.765625 71.78125 18.9375 73 \nQ 24.125 74.21875 28.421875 74.21875 \nQ 39.75 74.21875 46.484375 68.546875 \nQ 53.21875 62.890625 53.21875 53.421875 \nQ 53.21875 48.921875 51.53125 44.890625 \nQ 49.859375 40.875 45.40625 35.40625 \nQ 44.1875 33.984375 37.640625 27.21875 \nQ 31.109375 20.453125 19.1875 8.296875 \nz\n\" id=\"DejaVuSans-50\"/>\n        <path d=\"M 10.796875 72.90625 \nL 49.515625 72.90625 \nL 49.515625 64.59375 \nL 19.828125 64.59375 \nL 19.828125 46.734375 \nQ 21.96875 47.46875 24.109375 47.828125 \nQ 26.265625 48.1875 28.421875 48.1875 \nQ 40.625 48.1875 47.75 41.5 \nQ 54.890625 34.8125 54.890625 23.390625 \nQ 54.890625 11.625 47.5625 5.09375 \nQ 40.234375 -1.421875 26.90625 -1.421875 \nQ 22.3125 -1.421875 17.546875 -0.640625 \nQ 12.796875 0.140625 7.71875 1.703125 \nL 7.71875 11.625 \nQ 12.109375 9.234375 16.796875 8.0625 \nQ 21.484375 6.890625 26.703125 6.890625 \nQ 35.15625 6.890625 40.078125 11.328125 \nQ 45.015625 15.765625 45.015625 23.390625 \nQ 45.015625 31 40.078125 35.4375 \nQ 35.15625 39.890625 26.703125 39.890625 \nQ 22.75 39.890625 18.8125 39.015625 \nQ 14.890625 38.140625 10.796875 36.28125 \nz\n\" id=\"DejaVuSans-53\"/>\n        <path d=\"M 31.78125 34.625 \nQ 24.75 34.625 20.71875 30.859375 \nQ 16.703125 27.09375 16.703125 20.515625 \nQ 16.703125 13.921875 20.71875 10.15625 \nQ 24.75 6.390625 31.78125 6.390625 \nQ 38.8125 6.390625 42.859375 10.171875 \nQ 46.921875 13.96875 46.921875 20.515625 \nQ 46.921875 27.09375 42.890625 30.859375 \nQ 38.875 34.625 31.78125 34.625 \nz\nM 21.921875 38.8125 \nQ 15.578125 40.375 12.03125 44.71875 \nQ 8.5 49.078125 8.5 55.328125 \nQ 8.5 64.0625 14.71875 69.140625 \nQ 20.953125 74.21875 31.78125 74.21875 \nQ 42.671875 74.21875 48.875 69.140625 \nQ 55.078125 64.0625 55.078125 55.328125 \nQ 55.078125 49.078125 51.53125 44.71875 \nQ 48 40.375 41.703125 38.8125 \nQ 48.828125 37.15625 52.796875 32.3125 \nQ 56.78125 27.484375 56.78125 20.515625 \nQ 56.78125 9.90625 50.3125 4.234375 \nQ 43.84375 -1.421875 31.78125 -1.421875 \nQ 19.734375 -1.421875 13.25 4.234375 \nQ 6.78125 9.90625 6.78125 20.515625 \nQ 6.78125 27.484375 10.78125 32.3125 \nQ 14.796875 37.15625 21.921875 38.8125 \nz\nM 18.3125 54.390625 \nQ 18.3125 48.734375 21.84375 45.5625 \nQ 25.390625 42.390625 31.78125 42.390625 \nQ 38.140625 42.390625 41.71875 45.5625 \nQ 45.3125 48.734375 45.3125 54.390625 \nQ 45.3125 60.0625 41.71875 63.234375 \nQ 38.140625 66.40625 31.78125 66.40625 \nQ 25.390625 66.40625 21.84375 63.234375 \nQ 18.3125 60.0625 18.3125 54.390625 \nz\n\" id=\"DejaVuSans-56\"/>\n       </defs>\n       <use xlink:href=\"#DejaVuSans-86\"/>\n       <use x=\"68.408203\" xlink:href=\"#DejaVuSans-50\"/>\n       <use x=\"132.03125\" xlink:href=\"#DejaVuSans-53\"/>\n       <use x=\"195.654297\" xlink:href=\"#DejaVuSans-56\"/>\n      </g>\n     </g>\n    </g>\n    <g id=\"xtick_2\">\n     <g id=\"line2d_2\">\n      <g>\n       <use style=\"stroke:#000000;stroke-width:0.8;\" x=\"134.435873\" xlink:href=\"#mfce6ec0b2b\" y=\"387.72\"/>\n      </g>\n     </g>\n     <g id=\"text_2\">\n      <!-- V257 -->\n      <g transform=\"translate(137.195248 420.648125)rotate(-90)scale(0.1 -0.1)\">\n       <defs>\n        <path d=\"M 8.203125 72.90625 \nL 55.078125 72.90625 \nL 55.078125 68.703125 \nL 28.609375 0 \nL 18.3125 0 \nL 43.21875 64.59375 \nL 8.203125 64.59375 \nz\n\" id=\"DejaVuSans-55\"/>\n       </defs>\n       <use xlink:href=\"#DejaVuSans-86\"/>\n       <use x=\"68.408203\" xlink:href=\"#DejaVuSans-50\"/>\n       <use x=\"132.03125\" xlink:href=\"#DejaVuSans-53\"/>\n       <use x=\"195.654297\" xlink:href=\"#DejaVuSans-55\"/>\n      </g>\n     </g>\n    </g>\n    <g id=\"xtick_3\">\n     <g id=\"line2d_3\">\n      <g>\n       <use style=\"stroke:#000000;stroke-width:0.8;\" x=\"175.427608\" xlink:href=\"#mfce6ec0b2b\" y=\"387.72\"/>\n      </g>\n     </g>\n     <g id=\"text_3\">\n      <!-- V188 -->\n      <g transform=\"translate(178.186983 420.648125)rotate(-90)scale(0.1 -0.1)\">\n       <defs>\n        <path d=\"M 12.40625 8.296875 \nL 28.515625 8.296875 \nL 28.515625 63.921875 \nL 10.984375 60.40625 \nL 10.984375 69.390625 \nL 28.421875 72.90625 \nL 38.28125 72.90625 \nL 38.28125 8.296875 \nL 54.390625 8.296875 \nL 54.390625 0 \nL 12.40625 0 \nz\n\" id=\"DejaVuSans-49\"/>\n       </defs>\n       <use xlink:href=\"#DejaVuSans-86\"/>\n       <use x=\"68.408203\" xlink:href=\"#DejaVuSans-49\"/>\n       <use x=\"132.03125\" xlink:href=\"#DejaVuSans-56\"/>\n       <use x=\"195.654297\" xlink:href=\"#DejaVuSans-56\"/>\n      </g>\n     </g>\n    </g>\n    <g id=\"xtick_4\">\n     <g id=\"line2d_4\">\n      <g>\n       <use style=\"stroke:#000000;stroke-width:0.8;\" x=\"216.419344\" xlink:href=\"#mfce6ec0b2b\" y=\"387.72\"/>\n      </g>\n     </g>\n     <g id=\"text_4\">\n      <!-- C1 -->\n      <g transform=\"translate(219.178719 408.065312)rotate(-90)scale(0.1 -0.1)\">\n       <defs>\n        <path d=\"M 64.40625 67.28125 \nL 64.40625 56.890625 \nQ 59.421875 61.53125 53.78125 63.8125 \nQ 48.140625 66.109375 41.796875 66.109375 \nQ 29.296875 66.109375 22.65625 58.46875 \nQ 16.015625 50.828125 16.015625 36.375 \nQ 16.015625 21.96875 22.65625 14.328125 \nQ 29.296875 6.6875 41.796875 6.6875 \nQ 48.140625 6.6875 53.78125 8.984375 \nQ 59.421875 11.28125 64.40625 15.921875 \nL 64.40625 5.609375 \nQ 59.234375 2.09375 53.4375 0.328125 \nQ 47.65625 -1.421875 41.21875 -1.421875 \nQ 24.65625 -1.421875 15.125 8.703125 \nQ 5.609375 18.84375 5.609375 36.375 \nQ 5.609375 53.953125 15.125 64.078125 \nQ 24.65625 74.21875 41.21875 74.21875 \nQ 47.75 74.21875 53.53125 72.484375 \nQ 59.328125 70.75 64.40625 67.28125 \nz\n\" id=\"DejaVuSans-67\"/>\n       </defs>\n       <use xlink:href=\"#DejaVuSans-67\"/>\n       <use x=\"69.824219\" xlink:href=\"#DejaVuSans-49\"/>\n      </g>\n     </g>\n    </g>\n    <g id=\"xtick_5\">\n     <g id=\"line2d_5\">\n      <g>\n       <use style=\"stroke:#000000;stroke-width:0.8;\" x=\"257.41108\" xlink:href=\"#mfce6ec0b2b\" y=\"387.72\"/>\n      </g>\n     </g>\n     <g id=\"text_5\">\n      <!-- V187 -->\n      <g transform=\"translate(260.170455 420.648125)rotate(-90)scale(0.1 -0.1)\">\n       <use xlink:href=\"#DejaVuSans-86\"/>\n       <use x=\"68.408203\" xlink:href=\"#DejaVuSans-49\"/>\n       <use x=\"132.03125\" xlink:href=\"#DejaVuSans-56\"/>\n       <use x=\"195.654297\" xlink:href=\"#DejaVuSans-55\"/>\n      </g>\n     </g>\n    </g>\n    <g id=\"xtick_6\">\n     <g id=\"line2d_6\">\n      <g>\n       <use style=\"stroke:#000000;stroke-width:0.8;\" x=\"298.402815\" xlink:href=\"#mfce6ec0b2b\" y=\"387.72\"/>\n      </g>\n     </g>\n     <g id=\"text_6\">\n      <!-- C13 -->\n      <g transform=\"translate(301.16219 414.427812)rotate(-90)scale(0.1 -0.1)\">\n       <defs>\n        <path d=\"M 40.578125 39.3125 \nQ 47.65625 37.796875 51.625 33 \nQ 55.609375 28.21875 55.609375 21.1875 \nQ 55.609375 10.40625 48.1875 4.484375 \nQ 40.765625 -1.421875 27.09375 -1.421875 \nQ 22.515625 -1.421875 17.65625 -0.515625 \nQ 12.796875 0.390625 7.625 2.203125 \nL 7.625 11.71875 \nQ 11.71875 9.328125 16.59375 8.109375 \nQ 21.484375 6.890625 26.8125 6.890625 \nQ 36.078125 6.890625 40.9375 10.546875 \nQ 45.796875 14.203125 45.796875 21.1875 \nQ 45.796875 27.640625 41.28125 31.265625 \nQ 36.765625 34.90625 28.71875 34.90625 \nL 20.21875 34.90625 \nL 20.21875 43.015625 \nL 29.109375 43.015625 \nQ 36.375 43.015625 40.234375 45.921875 \nQ 44.09375 48.828125 44.09375 54.296875 \nQ 44.09375 59.90625 40.109375 62.90625 \nQ 36.140625 65.921875 28.71875 65.921875 \nQ 24.65625 65.921875 20.015625 65.03125 \nQ 15.375 64.15625 9.8125 62.3125 \nL 9.8125 71.09375 \nQ 15.4375 72.65625 20.34375 73.4375 \nQ 25.25 74.21875 29.59375 74.21875 \nQ 40.828125 74.21875 47.359375 69.109375 \nQ 53.90625 64.015625 53.90625 55.328125 \nQ 53.90625 49.265625 50.4375 45.09375 \nQ 46.96875 40.921875 40.578125 39.3125 \nz\n\" id=\"DejaVuSans-51\"/>\n       </defs>\n       <use xlink:href=\"#DejaVuSans-67\"/>\n       <use x=\"69.824219\" xlink:href=\"#DejaVuSans-49\"/>\n       <use x=\"133.447266\" xlink:href=\"#DejaVuSans-51\"/>\n      </g>\n     </g>\n    </g>\n    <g id=\"xtick_7\">\n     <g id=\"line2d_7\">\n      <g>\n       <use style=\"stroke:#000000;stroke-width:0.8;\" x=\"339.394551\" xlink:href=\"#mfce6ec0b2b\" y=\"387.72\"/>\n      </g>\n     </g>\n     <g id=\"text_7\">\n      <!-- C12 -->\n      <g transform=\"translate(342.153926 414.427812)rotate(-90)scale(0.1 -0.1)\">\n       <use xlink:href=\"#DejaVuSans-67\"/>\n       <use x=\"69.824219\" xlink:href=\"#DejaVuSans-49\"/>\n       <use x=\"133.447266\" xlink:href=\"#DejaVuSans-50\"/>\n      </g>\n     </g>\n    </g>\n    <g id=\"xtick_8\">\n     <g id=\"line2d_8\">\n      <g>\n       <use style=\"stroke:#000000;stroke-width:0.8;\" x=\"380.386286\" xlink:href=\"#mfce6ec0b2b\" y=\"387.72\"/>\n      </g>\n     </g>\n     <g id=\"text_8\">\n      <!-- C7 -->\n      <g transform=\"translate(383.145661 408.065312)rotate(-90)scale(0.1 -0.1)\">\n       <use xlink:href=\"#DejaVuSans-67\"/>\n       <use x=\"69.824219\" xlink:href=\"#DejaVuSans-55\"/>\n      </g>\n     </g>\n    </g>\n    <g id=\"xtick_9\">\n     <g id=\"line2d_9\">\n      <g>\n       <use style=\"stroke:#000000;stroke-width:0.8;\" x=\"421.378022\" xlink:href=\"#mfce6ec0b2b\" y=\"387.72\"/>\n      </g>\n     </g>\n     <g id=\"text_9\">\n      <!-- C14 -->\n      <g transform=\"translate(424.137397 414.427812)rotate(-90)scale(0.1 -0.1)\">\n       <defs>\n        <path d=\"M 37.796875 64.3125 \nL 12.890625 25.390625 \nL 37.796875 25.390625 \nz\nM 35.203125 72.90625 \nL 47.609375 72.90625 \nL 47.609375 25.390625 \nL 58.015625 25.390625 \nL 58.015625 17.1875 \nL 47.609375 17.1875 \nL 47.609375 0 \nL 37.796875 0 \nL 37.796875 17.1875 \nL 4.890625 17.1875 \nL 4.890625 26.703125 \nz\n\" id=\"DejaVuSans-52\"/>\n       </defs>\n       <use xlink:href=\"#DejaVuSans-67\"/>\n       <use x=\"69.824219\" xlink:href=\"#DejaVuSans-49\"/>\n       <use x=\"133.447266\" xlink:href=\"#DejaVuSans-52\"/>\n      </g>\n     </g>\n    </g>\n    <g id=\"xtick_10\">\n     <g id=\"line2d_10\">\n      <g>\n       <use style=\"stroke:#000000;stroke-width:0.8;\" x=\"462.369757\" xlink:href=\"#mfce6ec0b2b\" y=\"387.72\"/>\n      </g>\n     </g>\n     <g id=\"text_10\">\n      <!-- V44 -->\n      <g transform=\"translate(465.129132 414.285625)rotate(-90)scale(0.1 -0.1)\">\n       <use xlink:href=\"#DejaVuSans-86\"/>\n       <use x=\"68.408203\" xlink:href=\"#DejaVuSans-52\"/>\n       <use x=\"132.03125\" xlink:href=\"#DejaVuSans-52\"/>\n      </g>\n     </g>\n    </g>\n    <g id=\"xtick_11\">\n     <g id=\"line2d_11\">\n      <g>\n       <use style=\"stroke:#000000;stroke-width:0.8;\" x=\"503.361493\" xlink:href=\"#mfce6ec0b2b\" y=\"387.72\"/>\n      </g>\n     </g>\n     <g id=\"text_11\">\n      <!-- V274 -->\n      <g transform=\"translate(506.120868 420.648125)rotate(-90)scale(0.1 -0.1)\">\n       <use xlink:href=\"#DejaVuSans-86\"/>\n       <use x=\"68.408203\" xlink:href=\"#DejaVuSans-50\"/>\n       <use x=\"132.03125\" xlink:href=\"#DejaVuSans-55\"/>\n       <use x=\"195.654297\" xlink:href=\"#DejaVuSans-52\"/>\n      </g>\n     </g>\n    </g>\n    <g id=\"xtick_12\">\n     <g id=\"line2d_12\">\n      <g>\n       <use style=\"stroke:#000000;stroke-width:0.8;\" x=\"544.353228\" xlink:href=\"#mfce6ec0b2b\" y=\"387.72\"/>\n      </g>\n     </g>\n     <g id=\"text_12\">\n      <!-- V294 -->\n      <g transform=\"translate(547.112603 420.648125)rotate(-90)scale(0.1 -0.1)\">\n       <defs>\n        <path d=\"M 10.984375 1.515625 \nL 10.984375 10.5 \nQ 14.703125 8.734375 18.5 7.8125 \nQ 22.3125 6.890625 25.984375 6.890625 \nQ 35.75 6.890625 40.890625 13.453125 \nQ 46.046875 20.015625 46.78125 33.40625 \nQ 43.953125 29.203125 39.59375 26.953125 \nQ 35.25 24.703125 29.984375 24.703125 \nQ 19.046875 24.703125 12.671875 31.3125 \nQ 6.296875 37.9375 6.296875 49.421875 \nQ 6.296875 60.640625 12.9375 67.421875 \nQ 19.578125 74.21875 30.609375 74.21875 \nQ 43.265625 74.21875 49.921875 64.515625 \nQ 56.59375 54.828125 56.59375 36.375 \nQ 56.59375 19.140625 48.40625 8.859375 \nQ 40.234375 -1.421875 26.421875 -1.421875 \nQ 22.703125 -1.421875 18.890625 -0.6875 \nQ 15.09375 0.046875 10.984375 1.515625 \nz\nM 30.609375 32.421875 \nQ 37.25 32.421875 41.125 36.953125 \nQ 45.015625 41.5 45.015625 49.421875 \nQ 45.015625 57.28125 41.125 61.84375 \nQ 37.25 66.40625 30.609375 66.40625 \nQ 23.96875 66.40625 20.09375 61.84375 \nQ 16.21875 57.28125 16.21875 49.421875 \nQ 16.21875 41.5 20.09375 36.953125 \nQ 23.96875 32.421875 30.609375 32.421875 \nz\n\" id=\"DejaVuSans-57\"/>\n       </defs>\n       <use xlink:href=\"#DejaVuSans-86\"/>\n       <use x=\"68.408203\" xlink:href=\"#DejaVuSans-50\"/>\n       <use x=\"132.03125\" xlink:href=\"#DejaVuSans-57\"/>\n       <use x=\"195.654297\" xlink:href=\"#DejaVuSans-52\"/>\n      </g>\n     </g>\n    </g>\n    <g id=\"xtick_13\">\n     <g id=\"line2d_13\">\n      <g>\n       <use style=\"stroke:#000000;stroke-width:0.8;\" x=\"585.344964\" xlink:href=\"#mfce6ec0b2b\" y=\"387.72\"/>\n      </g>\n     </g>\n     <g id=\"text_13\">\n      <!-- C11 -->\n      <g transform=\"translate(588.104339 414.427812)rotate(-90)scale(0.1 -0.1)\">\n       <use xlink:href=\"#DejaVuSans-67\"/>\n       <use x=\"69.824219\" xlink:href=\"#DejaVuSans-49\"/>\n       <use x=\"133.447266\" xlink:href=\"#DejaVuSans-49\"/>\n      </g>\n     </g>\n    </g>\n    <g id=\"xtick_14\">\n     <g id=\"line2d_14\">\n      <g>\n       <use style=\"stroke:#000000;stroke-width:0.8;\" x=\"626.336699\" xlink:href=\"#mfce6ec0b2b\" y=\"387.72\"/>\n      </g>\n     </g>\n     <g id=\"text_14\">\n      <!-- C4 -->\n      <g transform=\"translate(629.096074 408.065312)rotate(-90)scale(0.1 -0.1)\">\n       <use xlink:href=\"#DejaVuSans-67\"/>\n       <use x=\"69.824219\" xlink:href=\"#DejaVuSans-52\"/>\n      </g>\n     </g>\n    </g>\n    <g id=\"xtick_15\">\n     <g id=\"line2d_15\">\n      <g>\n       <use style=\"stroke:#000000;stroke-width:0.8;\" x=\"667.328435\" xlink:href=\"#mfce6ec0b2b\" y=\"387.72\"/>\n      </g>\n     </g>\n     <g id=\"text_15\">\n      <!-- V283 -->\n      <g transform=\"translate(670.08781 420.648125)rotate(-90)scale(0.1 -0.1)\">\n       <use xlink:href=\"#DejaVuSans-86\"/>\n       <use x=\"68.408203\" xlink:href=\"#DejaVuSans-50\"/>\n       <use x=\"132.03125\" xlink:href=\"#DejaVuSans-56\"/>\n       <use x=\"195.654297\" xlink:href=\"#DejaVuSans-51\"/>\n      </g>\n     </g>\n    </g>\n    <g id=\"xtick_16\">\n     <g id=\"line2d_16\">\n      <g>\n       <use style=\"stroke:#000000;stroke-width:0.8;\" x=\"708.32017\" xlink:href=\"#mfce6ec0b2b\" y=\"387.72\"/>\n      </g>\n     </g>\n     <g id=\"text_16\">\n      <!-- C8 -->\n      <g transform=\"translate(711.079545 408.065312)rotate(-90)scale(0.1 -0.1)\">\n       <use xlink:href=\"#DejaVuSans-67\"/>\n       <use x=\"69.824219\" xlink:href=\"#DejaVuSans-56\"/>\n      </g>\n     </g>\n    </g>\n    <g id=\"xtick_17\">\n     <g id=\"line2d_17\">\n      <g>\n       <use style=\"stroke:#000000;stroke-width:0.8;\" x=\"749.311906\" xlink:href=\"#mfce6ec0b2b\" y=\"387.72\"/>\n      </g>\n     </g>\n     <g id=\"text_17\">\n      <!-- V156 -->\n      <g transform=\"translate(752.071281 420.648125)rotate(-90)scale(0.1 -0.1)\">\n       <defs>\n        <path d=\"M 33.015625 40.375 \nQ 26.375 40.375 22.484375 35.828125 \nQ 18.609375 31.296875 18.609375 23.390625 \nQ 18.609375 15.53125 22.484375 10.953125 \nQ 26.375 6.390625 33.015625 6.390625 \nQ 39.65625 6.390625 43.53125 10.953125 \nQ 47.40625 15.53125 47.40625 23.390625 \nQ 47.40625 31.296875 43.53125 35.828125 \nQ 39.65625 40.375 33.015625 40.375 \nz\nM 52.59375 71.296875 \nL 52.59375 62.3125 \nQ 48.875 64.0625 45.09375 64.984375 \nQ 41.3125 65.921875 37.59375 65.921875 \nQ 27.828125 65.921875 22.671875 59.328125 \nQ 17.53125 52.734375 16.796875 39.40625 \nQ 19.671875 43.65625 24.015625 45.921875 \nQ 28.375 48.1875 33.59375 48.1875 \nQ 44.578125 48.1875 50.953125 41.515625 \nQ 57.328125 34.859375 57.328125 23.390625 \nQ 57.328125 12.15625 50.6875 5.359375 \nQ 44.046875 -1.421875 33.015625 -1.421875 \nQ 20.359375 -1.421875 13.671875 8.265625 \nQ 6.984375 17.96875 6.984375 36.375 \nQ 6.984375 53.65625 15.1875 63.9375 \nQ 23.390625 74.21875 37.203125 74.21875 \nQ 40.921875 74.21875 44.703125 73.484375 \nQ 48.484375 72.75 52.59375 71.296875 \nz\n\" id=\"DejaVuSans-54\"/>\n       </defs>\n       <use xlink:href=\"#DejaVuSans-86\"/>\n       <use x=\"68.408203\" xlink:href=\"#DejaVuSans-49\"/>\n       <use x=\"132.03125\" xlink:href=\"#DejaVuSans-53\"/>\n       <use x=\"195.654297\" xlink:href=\"#DejaVuSans-54\"/>\n      </g>\n     </g>\n    </g>\n    <g id=\"xtick_18\">\n     <g id=\"line2d_18\">\n      <g>\n       <use style=\"stroke:#000000;stroke-width:0.8;\" x=\"790.303642\" xlink:href=\"#mfce6ec0b2b\" y=\"387.72\"/>\n      </g>\n     </g>\n     <g id=\"text_18\">\n      <!-- TransactionAmt -->\n      <g transform=\"translate(793.063017 472.421562)rotate(-90)scale(0.1 -0.1)\">\n       <defs>\n        <path d=\"M -0.296875 72.90625 \nL 61.375 72.90625 \nL 61.375 64.59375 \nL 35.5 64.59375 \nL 35.5 0 \nL 25.59375 0 \nL 25.59375 64.59375 \nL -0.296875 64.59375 \nz\n\" id=\"DejaVuSans-84\"/>\n        <path d=\"M 41.109375 46.296875 \nQ 39.59375 47.171875 37.8125 47.578125 \nQ 36.03125 48 33.890625 48 \nQ 26.265625 48 22.1875 43.046875 \nQ 18.109375 38.09375 18.109375 28.8125 \nL 18.109375 0 \nL 9.078125 0 \nL 9.078125 54.6875 \nL 18.109375 54.6875 \nL 18.109375 46.1875 \nQ 20.953125 51.171875 25.484375 53.578125 \nQ 30.03125 56 36.53125 56 \nQ 37.453125 56 38.578125 55.875 \nQ 39.703125 55.765625 41.0625 55.515625 \nz\n\" id=\"DejaVuSans-114\"/>\n        <path d=\"M 34.28125 27.484375 \nQ 23.390625 27.484375 19.1875 25 \nQ 14.984375 22.515625 14.984375 16.5 \nQ 14.984375 11.71875 18.140625 8.90625 \nQ 21.296875 6.109375 26.703125 6.109375 \nQ 34.1875 6.109375 38.703125 11.40625 \nQ 43.21875 16.703125 43.21875 25.484375 \nL 43.21875 27.484375 \nz\nM 52.203125 31.203125 \nL 52.203125 0 \nL 43.21875 0 \nL 43.21875 8.296875 \nQ 40.140625 3.328125 35.546875 0.953125 \nQ 30.953125 -1.421875 24.3125 -1.421875 \nQ 15.921875 -1.421875 10.953125 3.296875 \nQ 6 8.015625 6 15.921875 \nQ 6 25.140625 12.171875 29.828125 \nQ 18.359375 34.515625 30.609375 34.515625 \nL 43.21875 34.515625 \nL 43.21875 35.40625 \nQ 43.21875 41.609375 39.140625 45 \nQ 35.0625 48.390625 27.6875 48.390625 \nQ 23 48.390625 18.546875 47.265625 \nQ 14.109375 46.140625 10.015625 43.890625 \nL 10.015625 52.203125 \nQ 14.9375 54.109375 19.578125 55.046875 \nQ 24.21875 56 28.609375 56 \nQ 40.484375 56 46.34375 49.84375 \nQ 52.203125 43.703125 52.203125 31.203125 \nz\n\" id=\"DejaVuSans-97\"/>\n        <path d=\"M 54.890625 33.015625 \nL 54.890625 0 \nL 45.90625 0 \nL 45.90625 32.71875 \nQ 45.90625 40.484375 42.875 44.328125 \nQ 39.84375 48.1875 33.796875 48.1875 \nQ 26.515625 48.1875 22.3125 43.546875 \nQ 18.109375 38.921875 18.109375 30.90625 \nL 18.109375 0 \nL 9.078125 0 \nL 9.078125 54.6875 \nL 18.109375 54.6875 \nL 18.109375 46.1875 \nQ 21.34375 51.125 25.703125 53.5625 \nQ 30.078125 56 35.796875 56 \nQ 45.21875 56 50.046875 50.171875 \nQ 54.890625 44.34375 54.890625 33.015625 \nz\n\" id=\"DejaVuSans-110\"/>\n        <path d=\"M 44.28125 53.078125 \nL 44.28125 44.578125 \nQ 40.484375 46.53125 36.375 47.5 \nQ 32.28125 48.484375 27.875 48.484375 \nQ 21.1875 48.484375 17.84375 46.4375 \nQ 14.5 44.390625 14.5 40.28125 \nQ 14.5 37.15625 16.890625 35.375 \nQ 19.28125 33.59375 26.515625 31.984375 \nL 29.59375 31.296875 \nQ 39.15625 29.25 43.1875 25.515625 \nQ 47.21875 21.78125 47.21875 15.09375 \nQ 47.21875 7.46875 41.1875 3.015625 \nQ 35.15625 -1.421875 24.609375 -1.421875 \nQ 20.21875 -1.421875 15.453125 -0.5625 \nQ 10.6875 0.296875 5.421875 2 \nL 5.421875 11.28125 \nQ 10.40625 8.6875 15.234375 7.390625 \nQ 20.0625 6.109375 24.8125 6.109375 \nQ 31.15625 6.109375 34.5625 8.28125 \nQ 37.984375 10.453125 37.984375 14.40625 \nQ 37.984375 18.0625 35.515625 20.015625 \nQ 33.0625 21.96875 24.703125 23.78125 \nL 21.578125 24.515625 \nQ 13.234375 26.265625 9.515625 29.90625 \nQ 5.8125 33.546875 5.8125 39.890625 \nQ 5.8125 47.609375 11.28125 51.796875 \nQ 16.75 56 26.8125 56 \nQ 31.78125 56 36.171875 55.265625 \nQ 40.578125 54.546875 44.28125 53.078125 \nz\n\" id=\"DejaVuSans-115\"/>\n        <path d=\"M 48.78125 52.59375 \nL 48.78125 44.1875 \nQ 44.96875 46.296875 41.140625 47.34375 \nQ 37.3125 48.390625 33.40625 48.390625 \nQ 24.65625 48.390625 19.8125 42.84375 \nQ 14.984375 37.3125 14.984375 27.296875 \nQ 14.984375 17.28125 19.8125 11.734375 \nQ 24.65625 6.203125 33.40625 6.203125 \nQ 37.3125 6.203125 41.140625 7.25 \nQ 44.96875 8.296875 48.78125 10.40625 \nL 48.78125 2.09375 \nQ 45.015625 0.34375 40.984375 -0.53125 \nQ 36.96875 -1.421875 32.421875 -1.421875 \nQ 20.0625 -1.421875 12.78125 6.34375 \nQ 5.515625 14.109375 5.515625 27.296875 \nQ 5.515625 40.671875 12.859375 48.328125 \nQ 20.21875 56 33.015625 56 \nQ 37.15625 56 41.109375 55.140625 \nQ 45.0625 54.296875 48.78125 52.59375 \nz\n\" id=\"DejaVuSans-99\"/>\n        <path d=\"M 18.3125 70.21875 \nL 18.3125 54.6875 \nL 36.8125 54.6875 \nL 36.8125 47.703125 \nL 18.3125 47.703125 \nL 18.3125 18.015625 \nQ 18.3125 11.328125 20.140625 9.421875 \nQ 21.96875 7.515625 27.59375 7.515625 \nL 36.8125 7.515625 \nL 36.8125 0 \nL 27.59375 0 \nQ 17.1875 0 13.234375 3.875 \nQ 9.28125 7.765625 9.28125 18.015625 \nL 9.28125 47.703125 \nL 2.6875 47.703125 \nL 2.6875 54.6875 \nL 9.28125 54.6875 \nL 9.28125 70.21875 \nz\n\" id=\"DejaVuSans-116\"/>\n        <path d=\"M 9.421875 54.6875 \nL 18.40625 54.6875 \nL 18.40625 0 \nL 9.421875 0 \nz\nM 9.421875 75.984375 \nL 18.40625 75.984375 \nL 18.40625 64.59375 \nL 9.421875 64.59375 \nz\n\" id=\"DejaVuSans-105\"/>\n        <path d=\"M 30.609375 48.390625 \nQ 23.390625 48.390625 19.1875 42.75 \nQ 14.984375 37.109375 14.984375 27.296875 \nQ 14.984375 17.484375 19.15625 11.84375 \nQ 23.34375 6.203125 30.609375 6.203125 \nQ 37.796875 6.203125 41.984375 11.859375 \nQ 46.1875 17.53125 46.1875 27.296875 \nQ 46.1875 37.015625 41.984375 42.703125 \nQ 37.796875 48.390625 30.609375 48.390625 \nz\nM 30.609375 56 \nQ 42.328125 56 49.015625 48.375 \nQ 55.71875 40.765625 55.71875 27.296875 \nQ 55.71875 13.875 49.015625 6.21875 \nQ 42.328125 -1.421875 30.609375 -1.421875 \nQ 18.84375 -1.421875 12.171875 6.21875 \nQ 5.515625 13.875 5.515625 27.296875 \nQ 5.515625 40.765625 12.171875 48.375 \nQ 18.84375 56 30.609375 56 \nz\n\" id=\"DejaVuSans-111\"/>\n        <path d=\"M 34.1875 63.1875 \nL 20.796875 26.90625 \nL 47.609375 26.90625 \nz\nM 28.609375 72.90625 \nL 39.796875 72.90625 \nL 67.578125 0 \nL 57.328125 0 \nL 50.6875 18.703125 \nL 17.828125 18.703125 \nL 11.1875 0 \nL 0.78125 0 \nz\n\" id=\"DejaVuSans-65\"/>\n        <path d=\"M 52 44.1875 \nQ 55.375 50.25 60.0625 53.125 \nQ 64.75 56 71.09375 56 \nQ 79.640625 56 84.28125 50.015625 \nQ 88.921875 44.046875 88.921875 33.015625 \nL 88.921875 0 \nL 79.890625 0 \nL 79.890625 32.71875 \nQ 79.890625 40.578125 77.09375 44.375 \nQ 74.3125 48.1875 68.609375 48.1875 \nQ 61.625 48.1875 57.5625 43.546875 \nQ 53.515625 38.921875 53.515625 30.90625 \nL 53.515625 0 \nL 44.484375 0 \nL 44.484375 32.71875 \nQ 44.484375 40.625 41.703125 44.40625 \nQ 38.921875 48.1875 33.109375 48.1875 \nQ 26.21875 48.1875 22.15625 43.53125 \nQ 18.109375 38.875 18.109375 30.90625 \nL 18.109375 0 \nL 9.078125 0 \nL 9.078125 54.6875 \nL 18.109375 54.6875 \nL 18.109375 46.1875 \nQ 21.1875 51.21875 25.484375 53.609375 \nQ 29.78125 56 35.6875 56 \nQ 41.65625 56 45.828125 52.96875 \nQ 50 49.953125 52 44.1875 \nz\n\" id=\"DejaVuSans-109\"/>\n       </defs>\n       <use xlink:href=\"#DejaVuSans-84\"/>\n       <use x=\"46.333984\" xlink:href=\"#DejaVuSans-114\"/>\n       <use x=\"87.447266\" xlink:href=\"#DejaVuSans-97\"/>\n       <use x=\"148.726562\" xlink:href=\"#DejaVuSans-110\"/>\n       <use x=\"212.105469\" xlink:href=\"#DejaVuSans-115\"/>\n       <use x=\"264.205078\" xlink:href=\"#DejaVuSans-97\"/>\n       <use x=\"325.484375\" xlink:href=\"#DejaVuSans-99\"/>\n       <use x=\"380.464844\" xlink:href=\"#DejaVuSans-116\"/>\n       <use x=\"419.673828\" xlink:href=\"#DejaVuSans-105\"/>\n       <use x=\"447.457031\" xlink:href=\"#DejaVuSans-111\"/>\n       <use x=\"508.638672\" xlink:href=\"#DejaVuSans-110\"/>\n       <use x=\"572.017578\" xlink:href=\"#DejaVuSans-65\"/>\n       <use x=\"640.425781\" xlink:href=\"#DejaVuSans-109\"/>\n       <use x=\"737.837891\" xlink:href=\"#DejaVuSans-116\"/>\n      </g>\n     </g>\n    </g>\n    <g id=\"xtick_19\">\n     <g id=\"line2d_19\">\n      <g>\n       <use style=\"stroke:#000000;stroke-width:0.8;\" x=\"831.295377\" xlink:href=\"#mfce6ec0b2b\" y=\"387.72\"/>\n      </g>\n     </g>\n     <g id=\"text_19\">\n      <!-- C10 -->\n      <g transform=\"translate(834.054752 414.427812)rotate(-90)scale(0.1 -0.1)\">\n       <defs>\n        <path d=\"M 31.78125 66.40625 \nQ 24.171875 66.40625 20.328125 58.90625 \nQ 16.5 51.421875 16.5 36.375 \nQ 16.5 21.390625 20.328125 13.890625 \nQ 24.171875 6.390625 31.78125 6.390625 \nQ 39.453125 6.390625 43.28125 13.890625 \nQ 47.125 21.390625 47.125 36.375 \nQ 47.125 51.421875 43.28125 58.90625 \nQ 39.453125 66.40625 31.78125 66.40625 \nz\nM 31.78125 74.21875 \nQ 44.046875 74.21875 50.515625 64.515625 \nQ 56.984375 54.828125 56.984375 36.375 \nQ 56.984375 17.96875 50.515625 8.265625 \nQ 44.046875 -1.421875 31.78125 -1.421875 \nQ 19.53125 -1.421875 13.0625 8.265625 \nQ 6.59375 17.96875 6.59375 36.375 \nQ 6.59375 54.828125 13.0625 64.515625 \nQ 19.53125 74.21875 31.78125 74.21875 \nz\n\" id=\"DejaVuSans-48\"/>\n       </defs>\n       <use xlink:href=\"#DejaVuSans-67\"/>\n       <use x=\"69.824219\" xlink:href=\"#DejaVuSans-49\"/>\n       <use x=\"133.447266\" xlink:href=\"#DejaVuSans-48\"/>\n      </g>\n     </g>\n    </g>\n    <g id=\"xtick_20\">\n     <g id=\"line2d_20\">\n      <g>\n       <use style=\"stroke:#000000;stroke-width:0.8;\" x=\"872.287113\" xlink:href=\"#mfce6ec0b2b\" y=\"387.72\"/>\n      </g>\n     </g>\n     <g id=\"text_20\">\n      <!-- V307 -->\n      <g transform=\"translate(875.046488 420.648125)rotate(-90)scale(0.1 -0.1)\">\n       <use xlink:href=\"#DejaVuSans-86\"/>\n       <use x=\"68.408203\" xlink:href=\"#DejaVuSans-51\"/>\n       <use x=\"132.03125\" xlink:href=\"#DejaVuSans-48\"/>\n       <use x=\"195.654297\" xlink:href=\"#DejaVuSans-55\"/>\n      </g>\n     </g>\n    </g>\n   </g>\n   <g id=\"matplotlib.axis_2\">\n    <g id=\"ytick_1\">\n     <g id=\"line2d_21\">\n      <defs>\n       <path d=\"M 0 0 \nL -3.5 0 \n\" id=\"m4ff49e1f09\" style=\"stroke:#000000;stroke-width:0.8;\"/>\n      </defs>\n      <g>\n       <use style=\"stroke:#000000;stroke-width:0.8;\" x=\"36.465625\" xlink:href=\"#m4ff49e1f09\" y=\"387.72\"/>\n      </g>\n     </g>\n     <g id=\"text_21\">\n      <!-- 0.00 -->\n      <g transform=\"translate(7.2 391.519219)scale(0.1 -0.1)\">\n       <defs>\n        <path d=\"M 10.6875 12.40625 \nL 21 12.40625 \nL 21 0 \nL 10.6875 0 \nz\n\" id=\"DejaVuSans-46\"/>\n       </defs>\n       <use xlink:href=\"#DejaVuSans-48\"/>\n       <use x=\"63.623047\" xlink:href=\"#DejaVuSans-46\"/>\n       <use x=\"95.410156\" xlink:href=\"#DejaVuSans-48\"/>\n       <use x=\"159.033203\" xlink:href=\"#DejaVuSans-48\"/>\n      </g>\n     </g>\n    </g>\n    <g id=\"ytick_2\">\n     <g id=\"line2d_22\">\n      <g>\n       <use style=\"stroke:#000000;stroke-width:0.8;\" x=\"36.465625\" xlink:href=\"#m4ff49e1f09\" y=\"323.911589\"/>\n      </g>\n     </g>\n     <g id=\"text_22\">\n      <!-- 0.02 -->\n      <g transform=\"translate(7.2 327.710808)scale(0.1 -0.1)\">\n       <use xlink:href=\"#DejaVuSans-48\"/>\n       <use x=\"63.623047\" xlink:href=\"#DejaVuSans-46\"/>\n       <use x=\"95.410156\" xlink:href=\"#DejaVuSans-48\"/>\n       <use x=\"159.033203\" xlink:href=\"#DejaVuSans-50\"/>\n      </g>\n     </g>\n    </g>\n    <g id=\"ytick_3\">\n     <g id=\"line2d_23\">\n      <g>\n       <use style=\"stroke:#000000;stroke-width:0.8;\" x=\"36.465625\" xlink:href=\"#m4ff49e1f09\" y=\"260.103179\"/>\n      </g>\n     </g>\n     <g id=\"text_23\">\n      <!-- 0.04 -->\n      <g transform=\"translate(7.2 263.902397)scale(0.1 -0.1)\">\n       <use xlink:href=\"#DejaVuSans-48\"/>\n       <use x=\"63.623047\" xlink:href=\"#DejaVuSans-46\"/>\n       <use x=\"95.410156\" xlink:href=\"#DejaVuSans-48\"/>\n       <use x=\"159.033203\" xlink:href=\"#DejaVuSans-52\"/>\n      </g>\n     </g>\n    </g>\n    <g id=\"ytick_4\">\n     <g id=\"line2d_24\">\n      <g>\n       <use style=\"stroke:#000000;stroke-width:0.8;\" x=\"36.465625\" xlink:href=\"#m4ff49e1f09\" y=\"196.294768\"/>\n      </g>\n     </g>\n     <g id=\"text_24\">\n      <!-- 0.06 -->\n      <g transform=\"translate(7.2 200.093987)scale(0.1 -0.1)\">\n       <use xlink:href=\"#DejaVuSans-48\"/>\n       <use x=\"63.623047\" xlink:href=\"#DejaVuSans-46\"/>\n       <use x=\"95.410156\" xlink:href=\"#DejaVuSans-48\"/>\n       <use x=\"159.033203\" xlink:href=\"#DejaVuSans-54\"/>\n      </g>\n     </g>\n    </g>\n    <g id=\"ytick_5\">\n     <g id=\"line2d_25\">\n      <g>\n       <use style=\"stroke:#000000;stroke-width:0.8;\" x=\"36.465625\" xlink:href=\"#m4ff49e1f09\" y=\"132.486357\"/>\n      </g>\n     </g>\n     <g id=\"text_25\">\n      <!-- 0.08 -->\n      <g transform=\"translate(7.2 136.285576)scale(0.1 -0.1)\">\n       <use xlink:href=\"#DejaVuSans-48\"/>\n       <use x=\"63.623047\" xlink:href=\"#DejaVuSans-46\"/>\n       <use x=\"95.410156\" xlink:href=\"#DejaVuSans-48\"/>\n       <use x=\"159.033203\" xlink:href=\"#DejaVuSans-56\"/>\n      </g>\n     </g>\n    </g>\n    <g id=\"ytick_6\">\n     <g id=\"line2d_26\">\n      <g>\n       <use style=\"stroke:#000000;stroke-width:0.8;\" x=\"36.465625\" xlink:href=\"#m4ff49e1f09\" y=\"68.677946\"/>\n      </g>\n     </g>\n     <g id=\"text_26\">\n      <!-- 0.10 -->\n      <g transform=\"translate(7.2 72.477165)scale(0.1 -0.1)\">\n       <use xlink:href=\"#DejaVuSans-48\"/>\n       <use x=\"63.623047\" xlink:href=\"#DejaVuSans-46\"/>\n       <use x=\"95.410156\" xlink:href=\"#DejaVuSans-49\"/>\n       <use x=\"159.033203\" xlink:href=\"#DejaVuSans-48\"/>\n      </g>\n     </g>\n    </g>\n   </g>\n   <g id=\"patch_23\">\n    <path d=\"M 36.465625 387.72 \nL 36.465625 7.2 \n\" style=\"fill:none;stroke:#000000;stroke-linecap:square;stroke-linejoin:miter;stroke-width:0.8;\"/>\n   </g>\n   <g id=\"patch_24\">\n    <path d=\"M 929.265625 387.72 \nL 929.265625 7.2 \n\" style=\"fill:none;stroke:#000000;stroke-linecap:square;stroke-linejoin:miter;stroke-width:0.8;\"/>\n   </g>\n   <g id=\"patch_25\">\n    <path d=\"M 36.465625 387.72 \nL 929.265625 387.72 \n\" style=\"fill:none;stroke:#000000;stroke-linecap:square;stroke-linejoin:miter;stroke-width:0.8;\"/>\n   </g>\n   <g id=\"patch_26\">\n    <path d=\"M 36.465625 7.2 \nL 929.265625 7.2 \n\" style=\"fill:none;stroke:#000000;stroke-linecap:square;stroke-linejoin:miter;stroke-width:0.8;\"/>\n   </g>\n  </g>\n </g>\n <defs>\n  <clipPath id=\"pd1f855264f\">\n   <rect height=\"380.52\" width=\"892.8\" x=\"36.465625\" y=\"7.2\"/>\n  </clipPath>\n </defs>\n</svg>\n",
      "image/png": "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\n"
=======
      "image/svg+xml": "<?xml version=\"1.0\" encoding=\"utf-8\" standalone=\"no\"?>\n<!DOCTYPE svg PUBLIC \"-//W3C//DTD SVG 1.1//EN\"\n  \"http://www.w3.org/Graphics/SVG/1.1/DTD/svg11.dtd\">\n<!-- Created with matplotlib (https://matplotlib.org/) -->\n<svg height=\"483.034282pt\" version=\"1.1\" viewBox=\"0 0 936.465625 483.034282\" width=\"936.465625pt\" xmlns=\"http://www.w3.org/2000/svg\" xmlns:xlink=\"http://www.w3.org/1999/xlink\">\n <metadata>\n  <rdf:RDF xmlns:cc=\"http://creativecommons.org/ns#\" xmlns:dc=\"http://purl.org/dc/elements/1.1/\" xmlns:rdf=\"http://www.w3.org/1999/02/22-rdf-syntax-ns#\">\n   <cc:Work>\n    <dc:type rdf:resource=\"http://purl.org/dc/dcmitype/StillImage\"/>\n    <dc:date>2021-04-29T22:33:04.926485</dc:date>\n    <dc:format>image/svg+xml</dc:format>\n    <dc:creator>\n     <cc:Agent>\n      <dc:title>Matplotlib v3.3.2, https://matplotlib.org/</dc:title>\n     </cc:Agent>\n    </dc:creator>\n   </cc:Work>\n  </rdf:RDF>\n </metadata>\n <defs>\n  <style type=\"text/css\">*{stroke-linecap:butt;stroke-linejoin:round;}</style>\n </defs>\n <g id=\"figure_1\">\n  <g id=\"patch_1\">\n   <path d=\"M 0 483.034282 \nL 936.465625 483.034282 \nL 936.465625 0 \nL 0 0 \nz\n\" style=\"fill:none;\"/>\n  </g>\n  <g id=\"axes_1\">\n   <g id=\"patch_2\">\n    <path d=\"M 36.465625 391.13272 \nL 929.265625 391.13272 \nL 929.265625 10.61272 \nL 36.465625 10.61272 \nz\n\" style=\"fill:#ffffff;\"/>\n   </g>\n   <g id=\"patch_3\">\n    <path clip-path=\"url(#p9cb79a3efa)\" d=\"M 77.047443 391.13272 \nL 109.840832 391.13272 \nL 109.840832 28.73272 \nL 77.047443 28.73272 \nz\n\" style=\"fill:#1f77b4;\"/>\n   </g>\n   <g id=\"patch_4\">\n    <path clip-path=\"url(#p9cb79a3efa)\" d=\"M 118.039179 391.13272 \nL 150.832567 391.13272 \nL 150.832567 135.450862 \nL 118.039179 135.450862 \nz\n\" style=\"fill:#1f77b4;\"/>\n   </g>\n   <g id=\"patch_5\">\n    <path clip-path=\"url(#p9cb79a3efa)\" d=\"M 159.030914 391.13272 \nL 191.824303 391.13272 \nL 191.824303 201.421 \nL 159.030914 201.421 \nz\n\" style=\"fill:#1f77b4;\"/>\n   </g>\n   <g id=\"patch_6\">\n    <path clip-path=\"url(#p9cb79a3efa)\" d=\"M 200.02265 391.13272 \nL 232.816038 391.13272 \nL 232.816038 245.490244 \nL 200.02265 245.490244 \nz\n\" style=\"fill:#1f77b4;\"/>\n   </g>\n   <g id=\"patch_7\">\n    <path clip-path=\"url(#p9cb79a3efa)\" d=\"M 241.014385 391.13272 \nL 273.807774 391.13272 \nL 273.807774 257.556365 \nL 241.014385 257.556365 \nz\n\" style=\"fill:#1f77b4;\"/>\n   </g>\n   <g id=\"patch_8\">\n    <path clip-path=\"url(#p9cb79a3efa)\" d=\"M 282.006121 391.13272 \nL 314.799509 391.13272 \nL 314.799509 278.556151 \nL 282.006121 278.556151 \nz\n\" style=\"fill:#1f77b4;\"/>\n   </g>\n   <g id=\"patch_9\">\n    <path clip-path=\"url(#p9cb79a3efa)\" d=\"M 322.997856 391.13272 \nL 355.791245 391.13272 \nL 355.791245 284.045373 \nL 322.997856 284.045373 \nz\n\" style=\"fill:#1f77b4;\"/>\n   </g>\n   <g id=\"patch_10\">\n    <path clip-path=\"url(#p9cb79a3efa)\" d=\"M 363.989592 391.13272 \nL 396.78298 391.13272 \nL 396.78298 293.594554 \nL 363.989592 293.594554 \nz\n\" style=\"fill:#1f77b4;\"/>\n   </g>\n   <g id=\"patch_11\">\n    <path clip-path=\"url(#p9cb79a3efa)\" d=\"M 404.981327 391.13272 \nL 437.774716 391.13272 \nL 437.774716 295.493163 \nL 404.981327 295.493163 \nz\n\" style=\"fill:#1f77b4;\"/>\n   </g>\n   <g id=\"patch_12\">\n    <path clip-path=\"url(#p9cb79a3efa)\" d=\"M 445.973063 391.13272 \nL 478.766451 391.13272 \nL 478.766451 331.030392 \nL 445.973063 331.030392 \nz\n\" style=\"fill:#1f77b4;\"/>\n   </g>\n   <g id=\"patch_13\">\n    <path clip-path=\"url(#p9cb79a3efa)\" d=\"M 486.964799 391.13272 \nL 519.758187 391.13272 \nL 519.758187 335.908057 \nL 486.964799 335.908057 \nz\n\" style=\"fill:#1f77b4;\"/>\n   </g>\n   <g id=\"patch_14\">\n    <path clip-path=\"url(#p9cb79a3efa)\" d=\"M 527.956534 391.13272 \nL 560.749923 391.13272 \nL 560.749923 338.11236 \nL 527.956534 338.11236 \nz\n\" style=\"fill:#1f77b4;\"/>\n   </g>\n   <g id=\"patch_15\">\n    <path clip-path=\"url(#p9cb79a3efa)\" d=\"M 568.94827 391.13272 \nL 601.741658 391.13272 \nL 601.741658 338.578341 \nL 568.94827 338.578341 \nz\n\" style=\"fill:#1f77b4;\"/>\n   </g>\n   <g id=\"patch_16\">\n    <path clip-path=\"url(#p9cb79a3efa)\" d=\"M 609.940005 391.13272 \nL 642.733394 391.13272 \nL 642.733394 346.527721 \nL 609.940005 346.527721 \nz\n\" style=\"fill:#1f77b4;\"/>\n   </g>\n   <g id=\"patch_17\">\n    <path clip-path=\"url(#p9cb79a3efa)\" d=\"M 650.931741 391.13272 \nL 683.725129 391.13272 \nL 683.725129 347.137173 \nL 650.931741 347.137173 \nz\n\" style=\"fill:#1f77b4;\"/>\n   </g>\n   <g id=\"patch_18\">\n    <path clip-path=\"url(#p9cb79a3efa)\" d=\"M 691.923476 391.13272 \nL 724.716865 391.13272 \nL 724.716865 347.196494 \nL 691.923476 347.196494 \nz\n\" style=\"fill:#1f77b4;\"/>\n   </g>\n   <g id=\"patch_19\">\n    <path clip-path=\"url(#p9cb79a3efa)\" d=\"M 732.915212 391.13272 \nL 765.7086 391.13272 \nL 765.7086 350.08397 \nL 732.915212 350.08397 \nz\n\" style=\"fill:#1f77b4;\"/>\n   </g>\n   <g id=\"patch_20\">\n    <path clip-path=\"url(#p9cb79a3efa)\" d=\"M 773.906947 391.13272 \nL 806.700336 391.13272 \nL 806.700336 357.096855 \nL 773.906947 357.096855 \nz\n\" style=\"fill:#1f77b4;\"/>\n   </g>\n   <g id=\"patch_21\">\n    <path clip-path=\"url(#p9cb79a3efa)\" d=\"M 814.898683 391.13272 \nL 847.692071 391.13272 \nL 847.692071 360.233067 \nL 814.898683 360.233067 \nz\n\" style=\"fill:#1f77b4;\"/>\n   </g>\n   <g id=\"patch_22\">\n    <path clip-path=\"url(#p9cb79a3efa)\" d=\"M 855.890418 391.13272 \nL 888.683807 391.13272 \nL 888.683807 361.325896 \nL 855.890418 361.325896 \nz\n\" style=\"fill:#1f77b4;\"/>\n   </g>\n   <g id=\"matplotlib.axis_1\">\n    <g id=\"xtick_1\">\n     <g id=\"line2d_1\">\n      <defs>\n       <path d=\"M 0 0 \nL 0 3.5 \n\" id=\"mc31c50806f\" style=\"stroke:#000000;stroke-width:0.8;\"/>\n      </defs>\n      <g>\n       <use style=\"stroke:#000000;stroke-width:0.8;\" x=\"93.444137\" xlink:href=\"#mc31c50806f\" y=\"391.13272\"/>\n      </g>\n     </g>\n     <g id=\"text_1\">\n      <!-- V258 -->\n      <g transform=\"translate(96.203512 424.060845)rotate(-90)scale(0.1 -0.1)\">\n       <defs>\n        <path d=\"M 28.609375 0 \nL 0.78125 72.90625 \nL 11.078125 72.90625 \nL 34.1875 11.53125 \nL 57.328125 72.90625 \nL 67.578125 72.90625 \nL 39.796875 0 \nz\n\" id=\"DejaVuSans-86\"/>\n        <path d=\"M 19.1875 8.296875 \nL 53.609375 8.296875 \nL 53.609375 0 \nL 7.328125 0 \nL 7.328125 8.296875 \nQ 12.9375 14.109375 22.625 23.890625 \nQ 32.328125 33.6875 34.8125 36.53125 \nQ 39.546875 41.84375 41.421875 45.53125 \nQ 43.3125 49.21875 43.3125 52.78125 \nQ 43.3125 58.59375 39.234375 62.25 \nQ 35.15625 65.921875 28.609375 65.921875 \nQ 23.96875 65.921875 18.8125 64.3125 \nQ 13.671875 62.703125 7.8125 59.421875 \nL 7.8125 69.390625 \nQ 13.765625 71.78125 18.9375 73 \nQ 24.125 74.21875 28.421875 74.21875 \nQ 39.75 74.21875 46.484375 68.546875 \nQ 53.21875 62.890625 53.21875 53.421875 \nQ 53.21875 48.921875 51.53125 44.890625 \nQ 49.859375 40.875 45.40625 35.40625 \nQ 44.1875 33.984375 37.640625 27.21875 \nQ 31.109375 20.453125 19.1875 8.296875 \nz\n\" id=\"DejaVuSans-50\"/>\n        <path d=\"M 10.796875 72.90625 \nL 49.515625 72.90625 \nL 49.515625 64.59375 \nL 19.828125 64.59375 \nL 19.828125 46.734375 \nQ 21.96875 47.46875 24.109375 47.828125 \nQ 26.265625 48.1875 28.421875 48.1875 \nQ 40.625 48.1875 47.75 41.5 \nQ 54.890625 34.8125 54.890625 23.390625 \nQ 54.890625 11.625 47.5625 5.09375 \nQ 40.234375 -1.421875 26.90625 -1.421875 \nQ 22.3125 -1.421875 17.546875 -0.640625 \nQ 12.796875 0.140625 7.71875 1.703125 \nL 7.71875 11.625 \nQ 12.109375 9.234375 16.796875 8.0625 \nQ 21.484375 6.890625 26.703125 6.890625 \nQ 35.15625 6.890625 40.078125 11.328125 \nQ 45.015625 15.765625 45.015625 23.390625 \nQ 45.015625 31 40.078125 35.4375 \nQ 35.15625 39.890625 26.703125 39.890625 \nQ 22.75 39.890625 18.8125 39.015625 \nQ 14.890625 38.140625 10.796875 36.28125 \nz\n\" id=\"DejaVuSans-53\"/>\n        <path d=\"M 31.78125 34.625 \nQ 24.75 34.625 20.71875 30.859375 \nQ 16.703125 27.09375 16.703125 20.515625 \nQ 16.703125 13.921875 20.71875 10.15625 \nQ 24.75 6.390625 31.78125 6.390625 \nQ 38.8125 6.390625 42.859375 10.171875 \nQ 46.921875 13.96875 46.921875 20.515625 \nQ 46.921875 27.09375 42.890625 30.859375 \nQ 38.875 34.625 31.78125 34.625 \nz\nM 21.921875 38.8125 \nQ 15.578125 40.375 12.03125 44.71875 \nQ 8.5 49.078125 8.5 55.328125 \nQ 8.5 64.0625 14.71875 69.140625 \nQ 20.953125 74.21875 31.78125 74.21875 \nQ 42.671875 74.21875 48.875 69.140625 \nQ 55.078125 64.0625 55.078125 55.328125 \nQ 55.078125 49.078125 51.53125 44.71875 \nQ 48 40.375 41.703125 38.8125 \nQ 48.828125 37.15625 52.796875 32.3125 \nQ 56.78125 27.484375 56.78125 20.515625 \nQ 56.78125 9.90625 50.3125 4.234375 \nQ 43.84375 -1.421875 31.78125 -1.421875 \nQ 19.734375 -1.421875 13.25 4.234375 \nQ 6.78125 9.90625 6.78125 20.515625 \nQ 6.78125 27.484375 10.78125 32.3125 \nQ 14.796875 37.15625 21.921875 38.8125 \nz\nM 18.3125 54.390625 \nQ 18.3125 48.734375 21.84375 45.5625 \nQ 25.390625 42.390625 31.78125 42.390625 \nQ 38.140625 42.390625 41.71875 45.5625 \nQ 45.3125 48.734375 45.3125 54.390625 \nQ 45.3125 60.0625 41.71875 63.234375 \nQ 38.140625 66.40625 31.78125 66.40625 \nQ 25.390625 66.40625 21.84375 63.234375 \nQ 18.3125 60.0625 18.3125 54.390625 \nz\n\" id=\"DejaVuSans-56\"/>\n       </defs>\n       <use xlink:href=\"#DejaVuSans-86\"/>\n       <use x=\"68.408203\" xlink:href=\"#DejaVuSans-50\"/>\n       <use x=\"132.03125\" xlink:href=\"#DejaVuSans-53\"/>\n       <use x=\"195.654297\" xlink:href=\"#DejaVuSans-56\"/>\n      </g>\n     </g>\n    </g>\n    <g id=\"xtick_2\">\n     <g id=\"line2d_2\">\n      <g>\n       <use style=\"stroke:#000000;stroke-width:0.8;\" x=\"134.435873\" xlink:href=\"#mc31c50806f\" y=\"391.13272\"/>\n      </g>\n     </g>\n     <g id=\"text_2\">\n      <!-- V257 -->\n      <g transform=\"translate(137.195248 424.060845)rotate(-90)scale(0.1 -0.1)\">\n       <defs>\n        <path d=\"M 8.203125 72.90625 \nL 55.078125 72.90625 \nL 55.078125 68.703125 \nL 28.609375 0 \nL 18.3125 0 \nL 43.21875 64.59375 \nL 8.203125 64.59375 \nz\n\" id=\"DejaVuSans-55\"/>\n       </defs>\n       <use xlink:href=\"#DejaVuSans-86\"/>\n       <use x=\"68.408203\" xlink:href=\"#DejaVuSans-50\"/>\n       <use x=\"132.03125\" xlink:href=\"#DejaVuSans-53\"/>\n       <use x=\"195.654297\" xlink:href=\"#DejaVuSans-55\"/>\n      </g>\n     </g>\n    </g>\n    <g id=\"xtick_3\">\n     <g id=\"line2d_3\">\n      <g>\n       <use style=\"stroke:#000000;stroke-width:0.8;\" x=\"175.427608\" xlink:href=\"#mc31c50806f\" y=\"391.13272\"/>\n      </g>\n     </g>\n     <g id=\"text_3\">\n      <!-- V188 -->\n      <g transform=\"translate(178.186983 424.060845)rotate(-90)scale(0.1 -0.1)\">\n       <defs>\n        <path d=\"M 12.40625 8.296875 \nL 28.515625 8.296875 \nL 28.515625 63.921875 \nL 10.984375 60.40625 \nL 10.984375 69.390625 \nL 28.421875 72.90625 \nL 38.28125 72.90625 \nL 38.28125 8.296875 \nL 54.390625 8.296875 \nL 54.390625 0 \nL 12.40625 0 \nz\n\" id=\"DejaVuSans-49\"/>\n       </defs>\n       <use xlink:href=\"#DejaVuSans-86\"/>\n       <use x=\"68.408203\" xlink:href=\"#DejaVuSans-49\"/>\n       <use x=\"132.03125\" xlink:href=\"#DejaVuSans-56\"/>\n       <use x=\"195.654297\" xlink:href=\"#DejaVuSans-56\"/>\n      </g>\n     </g>\n    </g>\n    <g id=\"xtick_4\">\n     <g id=\"line2d_4\">\n      <g>\n       <use style=\"stroke:#000000;stroke-width:0.8;\" x=\"216.419344\" xlink:href=\"#mc31c50806f\" y=\"391.13272\"/>\n      </g>\n     </g>\n     <g id=\"text_4\">\n      <!-- C1 -->\n      <g transform=\"translate(219.178719 411.478032)rotate(-90)scale(0.1 -0.1)\">\n       <defs>\n        <path d=\"M 64.40625 67.28125 \nL 64.40625 56.890625 \nQ 59.421875 61.53125 53.78125 63.8125 \nQ 48.140625 66.109375 41.796875 66.109375 \nQ 29.296875 66.109375 22.65625 58.46875 \nQ 16.015625 50.828125 16.015625 36.375 \nQ 16.015625 21.96875 22.65625 14.328125 \nQ 29.296875 6.6875 41.796875 6.6875 \nQ 48.140625 6.6875 53.78125 8.984375 \nQ 59.421875 11.28125 64.40625 15.921875 \nL 64.40625 5.609375 \nQ 59.234375 2.09375 53.4375 0.328125 \nQ 47.65625 -1.421875 41.21875 -1.421875 \nQ 24.65625 -1.421875 15.125 8.703125 \nQ 5.609375 18.84375 5.609375 36.375 \nQ 5.609375 53.953125 15.125 64.078125 \nQ 24.65625 74.21875 41.21875 74.21875 \nQ 47.75 74.21875 53.53125 72.484375 \nQ 59.328125 70.75 64.40625 67.28125 \nz\n\" id=\"DejaVuSans-67\"/>\n       </defs>\n       <use xlink:href=\"#DejaVuSans-67\"/>\n       <use x=\"69.824219\" xlink:href=\"#DejaVuSans-49\"/>\n      </g>\n     </g>\n    </g>\n    <g id=\"xtick_5\">\n     <g id=\"line2d_5\">\n      <g>\n       <use style=\"stroke:#000000;stroke-width:0.8;\" x=\"257.41108\" xlink:href=\"#mc31c50806f\" y=\"391.13272\"/>\n      </g>\n     </g>\n     <g id=\"text_5\">\n      <!-- V187 -->\n      <g transform=\"translate(260.170455 424.060845)rotate(-90)scale(0.1 -0.1)\">\n       <use xlink:href=\"#DejaVuSans-86\"/>\n       <use x=\"68.408203\" xlink:href=\"#DejaVuSans-49\"/>\n       <use x=\"132.03125\" xlink:href=\"#DejaVuSans-56\"/>\n       <use x=\"195.654297\" xlink:href=\"#DejaVuSans-55\"/>\n      </g>\n     </g>\n    </g>\n    <g id=\"xtick_6\">\n     <g id=\"line2d_6\">\n      <g>\n       <use style=\"stroke:#000000;stroke-width:0.8;\" x=\"298.402815\" xlink:href=\"#mc31c50806f\" y=\"391.13272\"/>\n      </g>\n     </g>\n     <g id=\"text_6\">\n      <!-- C13 -->\n      <g transform=\"translate(301.16219 417.840532)rotate(-90)scale(0.1 -0.1)\">\n       <defs>\n        <path d=\"M 40.578125 39.3125 \nQ 47.65625 37.796875 51.625 33 \nQ 55.609375 28.21875 55.609375 21.1875 \nQ 55.609375 10.40625 48.1875 4.484375 \nQ 40.765625 -1.421875 27.09375 -1.421875 \nQ 22.515625 -1.421875 17.65625 -0.515625 \nQ 12.796875 0.390625 7.625 2.203125 \nL 7.625 11.71875 \nQ 11.71875 9.328125 16.59375 8.109375 \nQ 21.484375 6.890625 26.8125 6.890625 \nQ 36.078125 6.890625 40.9375 10.546875 \nQ 45.796875 14.203125 45.796875 21.1875 \nQ 45.796875 27.640625 41.28125 31.265625 \nQ 36.765625 34.90625 28.71875 34.90625 \nL 20.21875 34.90625 \nL 20.21875 43.015625 \nL 29.109375 43.015625 \nQ 36.375 43.015625 40.234375 45.921875 \nQ 44.09375 48.828125 44.09375 54.296875 \nQ 44.09375 59.90625 40.109375 62.90625 \nQ 36.140625 65.921875 28.71875 65.921875 \nQ 24.65625 65.921875 20.015625 65.03125 \nQ 15.375 64.15625 9.8125 62.3125 \nL 9.8125 71.09375 \nQ 15.4375 72.65625 20.34375 73.4375 \nQ 25.25 74.21875 29.59375 74.21875 \nQ 40.828125 74.21875 47.359375 69.109375 \nQ 53.90625 64.015625 53.90625 55.328125 \nQ 53.90625 49.265625 50.4375 45.09375 \nQ 46.96875 40.921875 40.578125 39.3125 \nz\n\" id=\"DejaVuSans-51\"/>\n       </defs>\n       <use xlink:href=\"#DejaVuSans-67\"/>\n       <use x=\"69.824219\" xlink:href=\"#DejaVuSans-49\"/>\n       <use x=\"133.447266\" xlink:href=\"#DejaVuSans-51\"/>\n      </g>\n     </g>\n    </g>\n    <g id=\"xtick_7\">\n     <g id=\"line2d_7\">\n      <g>\n       <use style=\"stroke:#000000;stroke-width:0.8;\" x=\"339.394551\" xlink:href=\"#mc31c50806f\" y=\"391.13272\"/>\n      </g>\n     </g>\n     <g id=\"text_7\">\n      <!-- C7 -->\n      <g transform=\"translate(342.153926 411.478032)rotate(-90)scale(0.1 -0.1)\">\n       <use xlink:href=\"#DejaVuSans-67\"/>\n       <use x=\"69.824219\" xlink:href=\"#DejaVuSans-55\"/>\n      </g>\n     </g>\n    </g>\n    <g id=\"xtick_8\">\n     <g id=\"line2d_8\">\n      <g>\n       <use style=\"stroke:#000000;stroke-width:0.8;\" x=\"380.386286\" xlink:href=\"#mc31c50806f\" y=\"391.13272\"/>\n      </g>\n     </g>\n     <g id=\"text_8\">\n      <!-- C14 -->\n      <g transform=\"translate(383.145661 417.840532)rotate(-90)scale(0.1 -0.1)\">\n       <defs>\n        <path d=\"M 37.796875 64.3125 \nL 12.890625 25.390625 \nL 37.796875 25.390625 \nz\nM 35.203125 72.90625 \nL 47.609375 72.90625 \nL 47.609375 25.390625 \nL 58.015625 25.390625 \nL 58.015625 17.1875 \nL 47.609375 17.1875 \nL 47.609375 0 \nL 37.796875 0 \nL 37.796875 17.1875 \nL 4.890625 17.1875 \nL 4.890625 26.703125 \nz\n\" id=\"DejaVuSans-52\"/>\n       </defs>\n       <use xlink:href=\"#DejaVuSans-67\"/>\n       <use x=\"69.824219\" xlink:href=\"#DejaVuSans-49\"/>\n       <use x=\"133.447266\" xlink:href=\"#DejaVuSans-52\"/>\n      </g>\n     </g>\n    </g>\n    <g id=\"xtick_9\">\n     <g id=\"line2d_9\">\n      <g>\n       <use style=\"stroke:#000000;stroke-width:0.8;\" x=\"421.378022\" xlink:href=\"#mc31c50806f\" y=\"391.13272\"/>\n      </g>\n     </g>\n     <g id=\"text_9\">\n      <!-- C12 -->\n      <g transform=\"translate(424.137397 417.840532)rotate(-90)scale(0.1 -0.1)\">\n       <use xlink:href=\"#DejaVuSans-67\"/>\n       <use x=\"69.824219\" xlink:href=\"#DejaVuSans-49\"/>\n       <use x=\"133.447266\" xlink:href=\"#DejaVuSans-50\"/>\n      </g>\n     </g>\n    </g>\n    <g id=\"xtick_10\">\n     <g id=\"line2d_10\">\n      <g>\n       <use style=\"stroke:#000000;stroke-width:0.8;\" x=\"462.369757\" xlink:href=\"#mc31c50806f\" y=\"391.13272\"/>\n      </g>\n     </g>\n     <g id=\"text_10\">\n      <!-- V44 -->\n      <g transform=\"translate(465.129132 417.698345)rotate(-90)scale(0.1 -0.1)\">\n       <use xlink:href=\"#DejaVuSans-86\"/>\n       <use x=\"68.408203\" xlink:href=\"#DejaVuSans-52\"/>\n       <use x=\"132.03125\" xlink:href=\"#DejaVuSans-52\"/>\n      </g>\n     </g>\n    </g>\n    <g id=\"xtick_11\">\n     <g id=\"line2d_11\">\n      <g>\n       <use style=\"stroke:#000000;stroke-width:0.8;\" x=\"503.361493\" xlink:href=\"#mc31c50806f\" y=\"391.13272\"/>\n      </g>\n     </g>\n     <g id=\"text_11\">\n      <!-- C4 -->\n      <g transform=\"translate(506.120868 411.478032)rotate(-90)scale(0.1 -0.1)\">\n       <use xlink:href=\"#DejaVuSans-67\"/>\n       <use x=\"69.824219\" xlink:href=\"#DejaVuSans-52\"/>\n      </g>\n     </g>\n    </g>\n    <g id=\"xtick_12\">\n     <g id=\"line2d_12\">\n      <g>\n       <use style=\"stroke:#000000;stroke-width:0.8;\" x=\"544.353228\" xlink:href=\"#mc31c50806f\" y=\"391.13272\"/>\n      </g>\n     </g>\n     <g id=\"text_12\">\n      <!-- V274 -->\n      <g transform=\"translate(547.112603 424.060845)rotate(-90)scale(0.1 -0.1)\">\n       <use xlink:href=\"#DejaVuSans-86\"/>\n       <use x=\"68.408203\" xlink:href=\"#DejaVuSans-50\"/>\n       <use x=\"132.03125\" xlink:href=\"#DejaVuSans-55\"/>\n       <use x=\"195.654297\" xlink:href=\"#DejaVuSans-52\"/>\n      </g>\n     </g>\n    </g>\n    <g id=\"xtick_13\">\n     <g id=\"line2d_13\">\n      <g>\n       <use style=\"stroke:#000000;stroke-width:0.8;\" x=\"585.344964\" xlink:href=\"#mc31c50806f\" y=\"391.13272\"/>\n      </g>\n     </g>\n     <g id=\"text_13\">\n      <!-- V294 -->\n      <g transform=\"translate(588.104339 424.060845)rotate(-90)scale(0.1 -0.1)\">\n       <defs>\n        <path d=\"M 10.984375 1.515625 \nL 10.984375 10.5 \nQ 14.703125 8.734375 18.5 7.8125 \nQ 22.3125 6.890625 25.984375 6.890625 \nQ 35.75 6.890625 40.890625 13.453125 \nQ 46.046875 20.015625 46.78125 33.40625 \nQ 43.953125 29.203125 39.59375 26.953125 \nQ 35.25 24.703125 29.984375 24.703125 \nQ 19.046875 24.703125 12.671875 31.3125 \nQ 6.296875 37.9375 6.296875 49.421875 \nQ 6.296875 60.640625 12.9375 67.421875 \nQ 19.578125 74.21875 30.609375 74.21875 \nQ 43.265625 74.21875 49.921875 64.515625 \nQ 56.59375 54.828125 56.59375 36.375 \nQ 56.59375 19.140625 48.40625 8.859375 \nQ 40.234375 -1.421875 26.421875 -1.421875 \nQ 22.703125 -1.421875 18.890625 -0.6875 \nQ 15.09375 0.046875 10.984375 1.515625 \nz\nM 30.609375 32.421875 \nQ 37.25 32.421875 41.125 36.953125 \nQ 45.015625 41.5 45.015625 49.421875 \nQ 45.015625 57.28125 41.125 61.84375 \nQ 37.25 66.40625 30.609375 66.40625 \nQ 23.96875 66.40625 20.09375 61.84375 \nQ 16.21875 57.28125 16.21875 49.421875 \nQ 16.21875 41.5 20.09375 36.953125 \nQ 23.96875 32.421875 30.609375 32.421875 \nz\n\" id=\"DejaVuSans-57\"/>\n       </defs>\n       <use xlink:href=\"#DejaVuSans-86\"/>\n       <use x=\"68.408203\" xlink:href=\"#DejaVuSans-50\"/>\n       <use x=\"132.03125\" xlink:href=\"#DejaVuSans-57\"/>\n       <use x=\"195.654297\" xlink:href=\"#DejaVuSans-52\"/>\n      </g>\n     </g>\n    </g>\n    <g id=\"xtick_14\">\n     <g id=\"line2d_14\">\n      <g>\n       <use style=\"stroke:#000000;stroke-width:0.8;\" x=\"626.336699\" xlink:href=\"#mc31c50806f\" y=\"391.13272\"/>\n      </g>\n     </g>\n     <g id=\"text_14\">\n      <!-- C11 -->\n      <g transform=\"translate(629.096074 417.840532)rotate(-90)scale(0.1 -0.1)\">\n       <use xlink:href=\"#DejaVuSans-67\"/>\n       <use x=\"69.824219\" xlink:href=\"#DejaVuSans-49\"/>\n       <use x=\"133.447266\" xlink:href=\"#DejaVuSans-49\"/>\n      </g>\n     </g>\n    </g>\n    <g id=\"xtick_15\">\n     <g id=\"line2d_15\">\n      <g>\n       <use style=\"stroke:#000000;stroke-width:0.8;\" x=\"667.328435\" xlink:href=\"#mc31c50806f\" y=\"391.13272\"/>\n      </g>\n     </g>\n     <g id=\"text_15\">\n      <!-- C8 -->\n      <g transform=\"translate(670.08781 411.478032)rotate(-90)scale(0.1 -0.1)\">\n       <use xlink:href=\"#DejaVuSans-67\"/>\n       <use x=\"69.824219\" xlink:href=\"#DejaVuSans-56\"/>\n      </g>\n     </g>\n    </g>\n    <g id=\"xtick_16\">\n     <g id=\"line2d_16\">\n      <g>\n       <use style=\"stroke:#000000;stroke-width:0.8;\" x=\"708.32017\" xlink:href=\"#mc31c50806f\" y=\"391.13272\"/>\n      </g>\n     </g>\n     <g id=\"text_16\">\n      <!-- V283 -->\n      <g transform=\"translate(711.079545 424.060845)rotate(-90)scale(0.1 -0.1)\">\n       <use xlink:href=\"#DejaVuSans-86\"/>\n       <use x=\"68.408203\" xlink:href=\"#DejaVuSans-50\"/>\n       <use x=\"132.03125\" xlink:href=\"#DejaVuSans-56\"/>\n       <use x=\"195.654297\" xlink:href=\"#DejaVuSans-51\"/>\n      </g>\n     </g>\n    </g>\n    <g id=\"xtick_17\">\n     <g id=\"line2d_17\">\n      <g>\n       <use style=\"stroke:#000000;stroke-width:0.8;\" x=\"749.311906\" xlink:href=\"#mc31c50806f\" y=\"391.13272\"/>\n      </g>\n     </g>\n     <g id=\"text_17\">\n      <!-- V156 -->\n      <g transform=\"translate(752.071281 424.060845)rotate(-90)scale(0.1 -0.1)\">\n       <defs>\n        <path d=\"M 33.015625 40.375 \nQ 26.375 40.375 22.484375 35.828125 \nQ 18.609375 31.296875 18.609375 23.390625 \nQ 18.609375 15.53125 22.484375 10.953125 \nQ 26.375 6.390625 33.015625 6.390625 \nQ 39.65625 6.390625 43.53125 10.953125 \nQ 47.40625 15.53125 47.40625 23.390625 \nQ 47.40625 31.296875 43.53125 35.828125 \nQ 39.65625 40.375 33.015625 40.375 \nz\nM 52.59375 71.296875 \nL 52.59375 62.3125 \nQ 48.875 64.0625 45.09375 64.984375 \nQ 41.3125 65.921875 37.59375 65.921875 \nQ 27.828125 65.921875 22.671875 59.328125 \nQ 17.53125 52.734375 16.796875 39.40625 \nQ 19.671875 43.65625 24.015625 45.921875 \nQ 28.375 48.1875 33.59375 48.1875 \nQ 44.578125 48.1875 50.953125 41.515625 \nQ 57.328125 34.859375 57.328125 23.390625 \nQ 57.328125 12.15625 50.6875 5.359375 \nQ 44.046875 -1.421875 33.015625 -1.421875 \nQ 20.359375 -1.421875 13.671875 8.265625 \nQ 6.984375 17.96875 6.984375 36.375 \nQ 6.984375 53.65625 15.1875 63.9375 \nQ 23.390625 74.21875 37.203125 74.21875 \nQ 40.921875 74.21875 44.703125 73.484375 \nQ 48.484375 72.75 52.59375 71.296875 \nz\n\" id=\"DejaVuSans-54\"/>\n       </defs>\n       <use xlink:href=\"#DejaVuSans-86\"/>\n       <use x=\"68.408203\" xlink:href=\"#DejaVuSans-49\"/>\n       <use x=\"132.03125\" xlink:href=\"#DejaVuSans-53\"/>\n       <use x=\"195.654297\" xlink:href=\"#DejaVuSans-54\"/>\n      </g>\n     </g>\n    </g>\n    <g id=\"xtick_18\">\n     <g id=\"line2d_18\">\n      <g>\n       <use style=\"stroke:#000000;stroke-width:0.8;\" x=\"790.303642\" xlink:href=\"#mc31c50806f\" y=\"391.13272\"/>\n      </g>\n     </g>\n     <g id=\"text_18\">\n      <!-- V86 -->\n      <g transform=\"translate(793.063017 417.698345)rotate(-90)scale(0.1 -0.1)\">\n       <use xlink:href=\"#DejaVuSans-86\"/>\n       <use x=\"68.408203\" xlink:href=\"#DejaVuSans-56\"/>\n       <use x=\"132.03125\" xlink:href=\"#DejaVuSans-54\"/>\n      </g>\n     </g>\n    </g>\n    <g id=\"xtick_19\">\n     <g id=\"line2d_19\">\n      <g>\n       <use style=\"stroke:#000000;stroke-width:0.8;\" x=\"831.295377\" xlink:href=\"#mc31c50806f\" y=\"391.13272\"/>\n      </g>\n     </g>\n     <g id=\"text_19\">\n      <!-- TransactionAmt -->\n      <g transform=\"translate(834.054752 475.834282)rotate(-90)scale(0.1 -0.1)\">\n       <defs>\n        <path d=\"M -0.296875 72.90625 \nL 61.375 72.90625 \nL 61.375 64.59375 \nL 35.5 64.59375 \nL 35.5 0 \nL 25.59375 0 \nL 25.59375 64.59375 \nL -0.296875 64.59375 \nz\n\" id=\"DejaVuSans-84\"/>\n        <path d=\"M 41.109375 46.296875 \nQ 39.59375 47.171875 37.8125 47.578125 \nQ 36.03125 48 33.890625 48 \nQ 26.265625 48 22.1875 43.046875 \nQ 18.109375 38.09375 18.109375 28.8125 \nL 18.109375 0 \nL 9.078125 0 \nL 9.078125 54.6875 \nL 18.109375 54.6875 \nL 18.109375 46.1875 \nQ 20.953125 51.171875 25.484375 53.578125 \nQ 30.03125 56 36.53125 56 \nQ 37.453125 56 38.578125 55.875 \nQ 39.703125 55.765625 41.0625 55.515625 \nz\n\" id=\"DejaVuSans-114\"/>\n        <path d=\"M 34.28125 27.484375 \nQ 23.390625 27.484375 19.1875 25 \nQ 14.984375 22.515625 14.984375 16.5 \nQ 14.984375 11.71875 18.140625 8.90625 \nQ 21.296875 6.109375 26.703125 6.109375 \nQ 34.1875 6.109375 38.703125 11.40625 \nQ 43.21875 16.703125 43.21875 25.484375 \nL 43.21875 27.484375 \nz\nM 52.203125 31.203125 \nL 52.203125 0 \nL 43.21875 0 \nL 43.21875 8.296875 \nQ 40.140625 3.328125 35.546875 0.953125 \nQ 30.953125 -1.421875 24.3125 -1.421875 \nQ 15.921875 -1.421875 10.953125 3.296875 \nQ 6 8.015625 6 15.921875 \nQ 6 25.140625 12.171875 29.828125 \nQ 18.359375 34.515625 30.609375 34.515625 \nL 43.21875 34.515625 \nL 43.21875 35.40625 \nQ 43.21875 41.609375 39.140625 45 \nQ 35.0625 48.390625 27.6875 48.390625 \nQ 23 48.390625 18.546875 47.265625 \nQ 14.109375 46.140625 10.015625 43.890625 \nL 10.015625 52.203125 \nQ 14.9375 54.109375 19.578125 55.046875 \nQ 24.21875 56 28.609375 56 \nQ 40.484375 56 46.34375 49.84375 \nQ 52.203125 43.703125 52.203125 31.203125 \nz\n\" id=\"DejaVuSans-97\"/>\n        <path d=\"M 54.890625 33.015625 \nL 54.890625 0 \nL 45.90625 0 \nL 45.90625 32.71875 \nQ 45.90625 40.484375 42.875 44.328125 \nQ 39.84375 48.1875 33.796875 48.1875 \nQ 26.515625 48.1875 22.3125 43.546875 \nQ 18.109375 38.921875 18.109375 30.90625 \nL 18.109375 0 \nL 9.078125 0 \nL 9.078125 54.6875 \nL 18.109375 54.6875 \nL 18.109375 46.1875 \nQ 21.34375 51.125 25.703125 53.5625 \nQ 30.078125 56 35.796875 56 \nQ 45.21875 56 50.046875 50.171875 \nQ 54.890625 44.34375 54.890625 33.015625 \nz\n\" id=\"DejaVuSans-110\"/>\n        <path d=\"M 44.28125 53.078125 \nL 44.28125 44.578125 \nQ 40.484375 46.53125 36.375 47.5 \nQ 32.28125 48.484375 27.875 48.484375 \nQ 21.1875 48.484375 17.84375 46.4375 \nQ 14.5 44.390625 14.5 40.28125 \nQ 14.5 37.15625 16.890625 35.375 \nQ 19.28125 33.59375 26.515625 31.984375 \nL 29.59375 31.296875 \nQ 39.15625 29.25 43.1875 25.515625 \nQ 47.21875 21.78125 47.21875 15.09375 \nQ 47.21875 7.46875 41.1875 3.015625 \nQ 35.15625 -1.421875 24.609375 -1.421875 \nQ 20.21875 -1.421875 15.453125 -0.5625 \nQ 10.6875 0.296875 5.421875 2 \nL 5.421875 11.28125 \nQ 10.40625 8.6875 15.234375 7.390625 \nQ 20.0625 6.109375 24.8125 6.109375 \nQ 31.15625 6.109375 34.5625 8.28125 \nQ 37.984375 10.453125 37.984375 14.40625 \nQ 37.984375 18.0625 35.515625 20.015625 \nQ 33.0625 21.96875 24.703125 23.78125 \nL 21.578125 24.515625 \nQ 13.234375 26.265625 9.515625 29.90625 \nQ 5.8125 33.546875 5.8125 39.890625 \nQ 5.8125 47.609375 11.28125 51.796875 \nQ 16.75 56 26.8125 56 \nQ 31.78125 56 36.171875 55.265625 \nQ 40.578125 54.546875 44.28125 53.078125 \nz\n\" id=\"DejaVuSans-115\"/>\n        <path d=\"M 48.78125 52.59375 \nL 48.78125 44.1875 \nQ 44.96875 46.296875 41.140625 47.34375 \nQ 37.3125 48.390625 33.40625 48.390625 \nQ 24.65625 48.390625 19.8125 42.84375 \nQ 14.984375 37.3125 14.984375 27.296875 \nQ 14.984375 17.28125 19.8125 11.734375 \nQ 24.65625 6.203125 33.40625 6.203125 \nQ 37.3125 6.203125 41.140625 7.25 \nQ 44.96875 8.296875 48.78125 10.40625 \nL 48.78125 2.09375 \nQ 45.015625 0.34375 40.984375 -0.53125 \nQ 36.96875 -1.421875 32.421875 -1.421875 \nQ 20.0625 -1.421875 12.78125 6.34375 \nQ 5.515625 14.109375 5.515625 27.296875 \nQ 5.515625 40.671875 12.859375 48.328125 \nQ 20.21875 56 33.015625 56 \nQ 37.15625 56 41.109375 55.140625 \nQ 45.0625 54.296875 48.78125 52.59375 \nz\n\" id=\"DejaVuSans-99\"/>\n        <path d=\"M 18.3125 70.21875 \nL 18.3125 54.6875 \nL 36.8125 54.6875 \nL 36.8125 47.703125 \nL 18.3125 47.703125 \nL 18.3125 18.015625 \nQ 18.3125 11.328125 20.140625 9.421875 \nQ 21.96875 7.515625 27.59375 7.515625 \nL 36.8125 7.515625 \nL 36.8125 0 \nL 27.59375 0 \nQ 17.1875 0 13.234375 3.875 \nQ 9.28125 7.765625 9.28125 18.015625 \nL 9.28125 47.703125 \nL 2.6875 47.703125 \nL 2.6875 54.6875 \nL 9.28125 54.6875 \nL 9.28125 70.21875 \nz\n\" id=\"DejaVuSans-116\"/>\n        <path d=\"M 9.421875 54.6875 \nL 18.40625 54.6875 \nL 18.40625 0 \nL 9.421875 0 \nz\nM 9.421875 75.984375 \nL 18.40625 75.984375 \nL 18.40625 64.59375 \nL 9.421875 64.59375 \nz\n\" id=\"DejaVuSans-105\"/>\n        <path d=\"M 30.609375 48.390625 \nQ 23.390625 48.390625 19.1875 42.75 \nQ 14.984375 37.109375 14.984375 27.296875 \nQ 14.984375 17.484375 19.15625 11.84375 \nQ 23.34375 6.203125 30.609375 6.203125 \nQ 37.796875 6.203125 41.984375 11.859375 \nQ 46.1875 17.53125 46.1875 27.296875 \nQ 46.1875 37.015625 41.984375 42.703125 \nQ 37.796875 48.390625 30.609375 48.390625 \nz\nM 30.609375 56 \nQ 42.328125 56 49.015625 48.375 \nQ 55.71875 40.765625 55.71875 27.296875 \nQ 55.71875 13.875 49.015625 6.21875 \nQ 42.328125 -1.421875 30.609375 -1.421875 \nQ 18.84375 -1.421875 12.171875 6.21875 \nQ 5.515625 13.875 5.515625 27.296875 \nQ 5.515625 40.765625 12.171875 48.375 \nQ 18.84375 56 30.609375 56 \nz\n\" id=\"DejaVuSans-111\"/>\n        <path d=\"M 34.1875 63.1875 \nL 20.796875 26.90625 \nL 47.609375 26.90625 \nz\nM 28.609375 72.90625 \nL 39.796875 72.90625 \nL 67.578125 0 \nL 57.328125 0 \nL 50.6875 18.703125 \nL 17.828125 18.703125 \nL 11.1875 0 \nL 0.78125 0 \nz\n\" id=\"DejaVuSans-65\"/>\n        <path d=\"M 52 44.1875 \nQ 55.375 50.25 60.0625 53.125 \nQ 64.75 56 71.09375 56 \nQ 79.640625 56 84.28125 50.015625 \nQ 88.921875 44.046875 88.921875 33.015625 \nL 88.921875 0 \nL 79.890625 0 \nL 79.890625 32.71875 \nQ 79.890625 40.578125 77.09375 44.375 \nQ 74.3125 48.1875 68.609375 48.1875 \nQ 61.625 48.1875 57.5625 43.546875 \nQ 53.515625 38.921875 53.515625 30.90625 \nL 53.515625 0 \nL 44.484375 0 \nL 44.484375 32.71875 \nQ 44.484375 40.625 41.703125 44.40625 \nQ 38.921875 48.1875 33.109375 48.1875 \nQ 26.21875 48.1875 22.15625 43.53125 \nQ 18.109375 38.875 18.109375 30.90625 \nL 18.109375 0 \nL 9.078125 0 \nL 9.078125 54.6875 \nL 18.109375 54.6875 \nL 18.109375 46.1875 \nQ 21.1875 51.21875 25.484375 53.609375 \nQ 29.78125 56 35.6875 56 \nQ 41.65625 56 45.828125 52.96875 \nQ 50 49.953125 52 44.1875 \nz\n\" id=\"DejaVuSans-109\"/>\n       </defs>\n       <use xlink:href=\"#DejaVuSans-84\"/>\n       <use x=\"46.333984\" xlink:href=\"#DejaVuSans-114\"/>\n       <use x=\"87.447266\" xlink:href=\"#DejaVuSans-97\"/>\n       <use x=\"148.726562\" xlink:href=\"#DejaVuSans-110\"/>\n       <use x=\"212.105469\" xlink:href=\"#DejaVuSans-115\"/>\n       <use x=\"264.205078\" xlink:href=\"#DejaVuSans-97\"/>\n       <use x=\"325.484375\" xlink:href=\"#DejaVuSans-99\"/>\n       <use x=\"380.464844\" xlink:href=\"#DejaVuSans-116\"/>\n       <use x=\"419.673828\" xlink:href=\"#DejaVuSans-105\"/>\n       <use x=\"447.457031\" xlink:href=\"#DejaVuSans-111\"/>\n       <use x=\"508.638672\" xlink:href=\"#DejaVuSans-110\"/>\n       <use x=\"572.017578\" xlink:href=\"#DejaVuSans-65\"/>\n       <use x=\"640.425781\" xlink:href=\"#DejaVuSans-109\"/>\n       <use x=\"737.837891\" xlink:href=\"#DejaVuSans-116\"/>\n      </g>\n     </g>\n    </g>\n    <g id=\"xtick_20\">\n     <g id=\"line2d_20\">\n      <g>\n       <use style=\"stroke:#000000;stroke-width:0.8;\" x=\"872.287113\" xlink:href=\"#mc31c50806f\" y=\"391.13272\"/>\n      </g>\n     </g>\n     <g id=\"text_20\">\n      <!-- D2 -->\n      <g transform=\"translate(875.046488 412.19522)rotate(-90)scale(0.1 -0.1)\">\n       <defs>\n        <path d=\"M 19.671875 64.796875 \nL 19.671875 8.109375 \nL 31.59375 8.109375 \nQ 46.6875 8.109375 53.6875 14.9375 \nQ 60.6875 21.78125 60.6875 36.53125 \nQ 60.6875 51.171875 53.6875 57.984375 \nQ 46.6875 64.796875 31.59375 64.796875 \nz\nM 9.8125 72.90625 \nL 30.078125 72.90625 \nQ 51.265625 72.90625 61.171875 64.09375 \nQ 71.09375 55.28125 71.09375 36.53125 \nQ 71.09375 17.671875 61.125 8.828125 \nQ 51.171875 0 30.078125 0 \nL 9.8125 0 \nz\n\" id=\"DejaVuSans-68\"/>\n       </defs>\n       <use xlink:href=\"#DejaVuSans-68\"/>\n       <use x=\"77.001953\" xlink:href=\"#DejaVuSans-50\"/>\n      </g>\n     </g>\n    </g>\n   </g>\n   <g id=\"matplotlib.axis_2\">\n    <g id=\"ytick_1\">\n     <g id=\"line2d_21\">\n      <defs>\n       <path d=\"M 0 0 \nL -3.5 0 \n\" id=\"md11fd86d12\" style=\"stroke:#000000;stroke-width:0.8;\"/>\n      </defs>\n      <g>\n       <use style=\"stroke:#000000;stroke-width:0.8;\" x=\"36.465625\" xlink:href=\"#md11fd86d12\" y=\"391.13272\"/>\n      </g>\n     </g>\n     <g id=\"text_21\">\n      <!-- 0.00 -->\n      <g transform=\"translate(7.2 394.931938)scale(0.1 -0.1)\">\n       <defs>\n        <path d=\"M 31.78125 66.40625 \nQ 24.171875 66.40625 20.328125 58.90625 \nQ 16.5 51.421875 16.5 36.375 \nQ 16.5 21.390625 20.328125 13.890625 \nQ 24.171875 6.390625 31.78125 6.390625 \nQ 39.453125 6.390625 43.28125 13.890625 \nQ 47.125 21.390625 47.125 36.375 \nQ 47.125 51.421875 43.28125 58.90625 \nQ 39.453125 66.40625 31.78125 66.40625 \nz\nM 31.78125 74.21875 \nQ 44.046875 74.21875 50.515625 64.515625 \nQ 56.984375 54.828125 56.984375 36.375 \nQ 56.984375 17.96875 50.515625 8.265625 \nQ 44.046875 -1.421875 31.78125 -1.421875 \nQ 19.53125 -1.421875 13.0625 8.265625 \nQ 6.59375 17.96875 6.59375 36.375 \nQ 6.59375 54.828125 13.0625 64.515625 \nQ 19.53125 74.21875 31.78125 74.21875 \nz\n\" id=\"DejaVuSans-48\"/>\n        <path d=\"M 10.6875 12.40625 \nL 21 12.40625 \nL 21 0 \nL 10.6875 0 \nz\n\" id=\"DejaVuSans-46\"/>\n       </defs>\n       <use xlink:href=\"#DejaVuSans-48\"/>\n       <use x=\"63.623047\" xlink:href=\"#DejaVuSans-46\"/>\n       <use x=\"95.410156\" xlink:href=\"#DejaVuSans-48\"/>\n       <use x=\"159.033203\" xlink:href=\"#DejaVuSans-48\"/>\n      </g>\n     </g>\n    </g>\n    <g id=\"ytick_2\">\n     <g id=\"line2d_22\">\n      <g>\n       <use style=\"stroke:#000000;stroke-width:0.8;\" x=\"36.465625\" xlink:href=\"#md11fd86d12\" y=\"336.827934\"/>\n      </g>\n     </g>\n     <g id=\"text_22\">\n      <!-- 0.02 -->\n      <g transform=\"translate(7.2 340.627153)scale(0.1 -0.1)\">\n       <use xlink:href=\"#DejaVuSans-48\"/>\n       <use x=\"63.623047\" xlink:href=\"#DejaVuSans-46\"/>\n       <use x=\"95.410156\" xlink:href=\"#DejaVuSans-48\"/>\n       <use x=\"159.033203\" xlink:href=\"#DejaVuSans-50\"/>\n      </g>\n     </g>\n    </g>\n    <g id=\"ytick_3\">\n     <g id=\"line2d_23\">\n      <g>\n       <use style=\"stroke:#000000;stroke-width:0.8;\" x=\"36.465625\" xlink:href=\"#md11fd86d12\" y=\"282.523148\"/>\n      </g>\n     </g>\n     <g id=\"text_23\">\n      <!-- 0.04 -->\n      <g transform=\"translate(7.2 286.322367)scale(0.1 -0.1)\">\n       <use xlink:href=\"#DejaVuSans-48\"/>\n       <use x=\"63.623047\" xlink:href=\"#DejaVuSans-46\"/>\n       <use x=\"95.410156\" xlink:href=\"#DejaVuSans-48\"/>\n       <use x=\"159.033203\" xlink:href=\"#DejaVuSans-52\"/>\n      </g>\n     </g>\n    </g>\n    <g id=\"ytick_4\">\n     <g id=\"line2d_24\">\n      <g>\n       <use style=\"stroke:#000000;stroke-width:0.8;\" x=\"36.465625\" xlink:href=\"#md11fd86d12\" y=\"228.218362\"/>\n      </g>\n     </g>\n     <g id=\"text_24\">\n      <!-- 0.06 -->\n      <g transform=\"translate(7.2 232.017581)scale(0.1 -0.1)\">\n       <use xlink:href=\"#DejaVuSans-48\"/>\n       <use x=\"63.623047\" xlink:href=\"#DejaVuSans-46\"/>\n       <use x=\"95.410156\" xlink:href=\"#DejaVuSans-48\"/>\n       <use x=\"159.033203\" xlink:href=\"#DejaVuSans-54\"/>\n      </g>\n     </g>\n    </g>\n    <g id=\"ytick_5\">\n     <g id=\"line2d_25\">\n      <g>\n       <use style=\"stroke:#000000;stroke-width:0.8;\" x=\"36.465625\" xlink:href=\"#md11fd86d12\" y=\"173.913576\"/>\n      </g>\n     </g>\n     <g id=\"text_25\">\n      <!-- 0.08 -->\n      <g transform=\"translate(7.2 177.712795)scale(0.1 -0.1)\">\n       <use xlink:href=\"#DejaVuSans-48\"/>\n       <use x=\"63.623047\" xlink:href=\"#DejaVuSans-46\"/>\n       <use x=\"95.410156\" xlink:href=\"#DejaVuSans-48\"/>\n       <use x=\"159.033203\" xlink:href=\"#DejaVuSans-56\"/>\n      </g>\n     </g>\n    </g>\n    <g id=\"ytick_6\">\n     <g id=\"line2d_26\">\n      <g>\n       <use style=\"stroke:#000000;stroke-width:0.8;\" x=\"36.465625\" xlink:href=\"#md11fd86d12\" y=\"119.60879\"/>\n      </g>\n     </g>\n     <g id=\"text_26\">\n      <!-- 0.10 -->\n      <g transform=\"translate(7.2 123.408009)scale(0.1 -0.1)\">\n       <use xlink:href=\"#DejaVuSans-48\"/>\n       <use x=\"63.623047\" xlink:href=\"#DejaVuSans-46\"/>\n       <use x=\"95.410156\" xlink:href=\"#DejaVuSans-49\"/>\n       <use x=\"159.033203\" xlink:href=\"#DejaVuSans-48\"/>\n      </g>\n     </g>\n    </g>\n    <g id=\"ytick_7\">\n     <g id=\"line2d_27\">\n      <g>\n       <use style=\"stroke:#000000;stroke-width:0.8;\" x=\"36.465625\" xlink:href=\"#md11fd86d12\" y=\"65.304005\"/>\n      </g>\n     </g>\n     <g id=\"text_27\">\n      <!-- 0.12 -->\n      <g transform=\"translate(7.2 69.103223)scale(0.1 -0.1)\">\n       <use xlink:href=\"#DejaVuSans-48\"/>\n       <use x=\"63.623047\" xlink:href=\"#DejaVuSans-46\"/>\n       <use x=\"95.410156\" xlink:href=\"#DejaVuSans-49\"/>\n       <use x=\"159.033203\" xlink:href=\"#DejaVuSans-50\"/>\n      </g>\n     </g>\n    </g>\n    <g id=\"ytick_8\">\n     <g id=\"line2d_28\">\n      <g>\n       <use style=\"stroke:#000000;stroke-width:0.8;\" x=\"36.465625\" xlink:href=\"#md11fd86d12\" y=\"10.999219\"/>\n      </g>\n     </g>\n     <g id=\"text_28\">\n      <!-- 0.14 -->\n      <g transform=\"translate(7.2 14.798438)scale(0.1 -0.1)\">\n       <use xlink:href=\"#DejaVuSans-48\"/>\n       <use x=\"63.623047\" xlink:href=\"#DejaVuSans-46\"/>\n       <use x=\"95.410156\" xlink:href=\"#DejaVuSans-49\"/>\n       <use x=\"159.033203\" xlink:href=\"#DejaVuSans-52\"/>\n      </g>\n     </g>\n    </g>\n   </g>\n   <g id=\"patch_23\">\n    <path d=\"M 36.465625 391.13272 \nL 36.465625 10.61272 \n\" style=\"fill:none;stroke:#000000;stroke-linecap:square;stroke-linejoin:miter;stroke-width:0.8;\"/>\n   </g>\n   <g id=\"patch_24\">\n    <path d=\"M 929.265625 391.13272 \nL 929.265625 10.61272 \n\" style=\"fill:none;stroke:#000000;stroke-linecap:square;stroke-linejoin:miter;stroke-width:0.8;\"/>\n   </g>\n   <g id=\"patch_25\">\n    <path d=\"M 36.465625 391.13272 \nL 929.265625 391.13272 \n\" style=\"fill:none;stroke:#000000;stroke-linecap:square;stroke-linejoin:miter;stroke-width:0.8;\"/>\n   </g>\n   <g id=\"patch_26\">\n    <path d=\"M 36.465625 10.61272 \nL 929.265625 10.61272 \n\" style=\"fill:none;stroke:#000000;stroke-linecap:square;stroke-linejoin:miter;stroke-width:0.8;\"/>\n   </g>\n  </g>\n </g>\n <defs>\n  <clipPath id=\"p9cb79a3efa\">\n   <rect height=\"380.52\" width=\"892.8\" x=\"36.465625\" y=\"10.61272\"/>\n  </clipPath>\n </defs>\n</svg>\n",
      "image/png": "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\n"
>>>>>>> ece17a6c8d83dc85bccea2a0c813038665c865ea
     },
     "metadata": {
      "needs_background": "light"
     }
    }
   ],
   "source": [
    "plt.figure(1, figsize=(16, 7))\n",
    "plt.bar(imp.index, imp[\"Gini-importance\"])\n",
    "plt.xticks(imp.index, rotation=90)\n",
    "print(imp.index)"
   ]
  },
  {
   "cell_type": "code",
<<<<<<< HEAD
   "execution_count": 42,
=======
   "execution_count": 31,
>>>>>>> ece17a6c8d83dc85bccea2a0c813038665c865ea
   "metadata": {},
   "outputs": [],
   "source": [
    "from sklearn.model_selection import TimeSeriesSplit, KFold\n",
    "\n",
    "n_folds = 5\n",
    "folds = TimeSeriesSplit(n_splits=n_folds)\n",
    "folds = KFold(n_splits=5)"
   ]
  },
  {
   "cell_type": "code",
<<<<<<< HEAD
   "execution_count": 43,
=======
   "execution_count": 32,
>>>>>>> ece17a6c8d83dc85bccea2a0c813038665c865ea
   "metadata": {},
   "outputs": [],
   "source": [
    "columns = X_train.columns\n",
    "\n",
    "splits = folds.split(X_train, y_train)\n",
    "\n",
    "y_preds = np.zeros(X_test.shape[0])\n",
    "y_oof = np.zeros(X_train.shape[0])\n",
    "\n",
    "score_auc = 0\n",
    "\n",
    "feature_importances = pd.DataFrame()\n",
    "feature_importances[\"feature\"] = columns"
   ]
  },
  {
   "cell_type": "code",
<<<<<<< HEAD
   "execution_count": 45,
   "metadata": {},
   "outputs": [],
   "source": [
    "params = {\n",
    "    \"num_leaves\": 64,\n",
    "    \"min_child_weight\": 0.03,\n",
    "    \"feature_fraction\": 0.04,\n",
    "    \"bagging_fraction\": 0.33,\n",
    "    \"min_data_in_leaf\": 80,\n",
    "    \"objective\": \"binary\",\n",
    "    \"max_depth\": -1,\n",
    "    \"learning_rate\": 0.006,\n",
    "    \"boosting_type\": \"gbdt\",\n",
    "    \"bagging_seed\": 7,\n",
    "    \"metric\": \"auc\",\n",
    "    \"verbosity\": -1,\n",
    "    \"reg_alpha\": 0.3,\n",
    "    \"reg_lambda\": 0.6,\n",
    "    \"random_state\": 0,\n",
    "}"
=======
   "execution_count": null,
   "metadata": {},
   "outputs": [],
   "source": [
    "print(f\"\\nMean AUC = {score_auc}\")\n",
    "print(f\"Out of folds AUC = {roc_auc_score(y_train, y_oof)}\")"
>>>>>>> ece17a6c8d83dc85bccea2a0c813038665c865ea
   ]
  },
  {
   "cell_type": "code",
<<<<<<< HEAD
   "execution_count": 46,
   "metadata": {},
   "outputs": [
    {
     "output_type": "stream",
     "name": "stdout",
     "text": [
      "Training until validation scores don't improve for 100 rounds\n",
      "[200]\ttraining's auc: 0.871635\tvalid_1's auc: 0.798313\n",
      "[400]\ttraining's auc: 0.885033\tvalid_1's auc: 0.82069\n",
      "[600]\ttraining's auc: 0.894689\tvalid_1's auc: 0.836031\n",
      "[800]\ttraining's auc: 0.901094\tvalid_1's auc: 0.846035\n",
      "[1000]\ttraining's auc: 0.906922\tvalid_1's auc: 0.854818\n",
      "[1200]\ttraining's auc: 0.91233\tvalid_1's auc: 0.861966\n",
      "[1400]\ttraining's auc: 0.917152\tvalid_1's auc: 0.867489\n",
      "[1600]\ttraining's auc: 0.92115\tvalid_1's auc: 0.871938\n",
      "[1800]\ttraining's auc: 0.924795\tvalid_1's auc: 0.875639\n",
      "[2000]\ttraining's auc: 0.928189\tvalid_1's auc: 0.879258\n",
      "[2200]\ttraining's auc: 0.931324\tvalid_1's auc: 0.88229\n",
      "[2400]\ttraining's auc: 0.933996\tvalid_1's auc: 0.884636\n",
      "[2600]\ttraining's auc: 0.936609\tvalid_1's auc: 0.88711\n",
      "[2800]\ttraining's auc: 0.939027\tvalid_1's auc: 0.889254\n",
      "[3000]\ttraining's auc: 0.941031\tvalid_1's auc: 0.891092\n",
      "[3200]\ttraining's auc: 0.942915\tvalid_1's auc: 0.89279\n",
      "[3400]\ttraining's auc: 0.944801\tvalid_1's auc: 0.89422\n",
      "[3600]\ttraining's auc: 0.94624\tvalid_1's auc: 0.895323\n",
      "[3800]\ttraining's auc: 0.947775\tvalid_1's auc: 0.896303\n",
      "[4000]\ttraining's auc: 0.949289\tvalid_1's auc: 0.897398\n",
      "[4200]\ttraining's auc: 0.950516\tvalid_1's auc: 0.89813\n",
      "[4400]\ttraining's auc: 0.951833\tvalid_1's auc: 0.898956\n",
      "[4600]\ttraining's auc: 0.953161\tvalid_1's auc: 0.899684\n",
      "[4800]\ttraining's auc: 0.954321\tvalid_1's auc: 0.900307\n",
      "[5000]\ttraining's auc: 0.955497\tvalid_1's auc: 0.900893\n",
      "[5200]\ttraining's auc: 0.956525\tvalid_1's auc: 0.901335\n",
      "[5400]\ttraining's auc: 0.957595\tvalid_1's auc: 0.901719\n",
      "[5600]\ttraining's auc: 0.958526\tvalid_1's auc: 0.902145\n",
      "[5800]\ttraining's auc: 0.959522\tvalid_1's auc: 0.902574\n",
      "[6000]\ttraining's auc: 0.960386\tvalid_1's auc: 0.902895\n",
      "[6200]\ttraining's auc: 0.961274\tvalid_1's auc: 0.903138\n",
      "[6400]\ttraining's auc: 0.96202\tvalid_1's auc: 0.903454\n",
      "[6600]\ttraining's auc: 0.962863\tvalid_1's auc: 0.903754\n",
      "[6800]\ttraining's auc: 0.963639\tvalid_1's auc: 0.904097\n",
      "[7000]\ttraining's auc: 0.964377\tvalid_1's auc: 0.904465\n",
      "[7200]\ttraining's auc: 0.96514\tvalid_1's auc: 0.904662\n",
      "[7400]\ttraining's auc: 0.965804\tvalid_1's auc: 0.90486\n",
      "[7600]\ttraining's auc: 0.966433\tvalid_1's auc: 0.904967\n",
      "[7800]\ttraining's auc: 0.967088\tvalid_1's auc: 0.905174\n",
      "[8000]\ttraining's auc: 0.967686\tvalid_1's auc: 0.905298\n",
      "[8200]\ttraining's auc: 0.968267\tvalid_1's auc: 0.905458\n",
      "[8400]\ttraining's auc: 0.968824\tvalid_1's auc: 0.905581\n",
      "[8600]\ttraining's auc: 0.969372\tvalid_1's auc: 0.905682\n",
      "[8800]\ttraining's auc: 0.969888\tvalid_1's auc: 0.905797\n",
      "[9000]\ttraining's auc: 0.970423\tvalid_1's auc: 0.906003\n",
      "[9200]\ttraining's auc: 0.970945\tvalid_1's auc: 0.906135\n",
      "[9400]\ttraining's auc: 0.971405\tvalid_1's auc: 0.906243\n",
      "[9600]\ttraining's auc: 0.971806\tvalid_1's auc: 0.906421\n",
      "[9800]\ttraining's auc: 0.972298\tvalid_1's auc: 0.906577\n",
      "[10000]\ttraining's auc: 0.972733\tvalid_1's auc: 0.906637\n",
      "Did not meet early stopping. Best iteration is:\n",
      "[10000]\ttraining's auc: 0.972733\tvalid_1's auc: 0.906637\n",
      "Fold 1 | AUC: 0.9066373570809771\n",
      "Training until validation scores don't improve for 100 rounds\n",
      "[200]\ttraining's auc: 0.871153\tvalid_1's auc: 0.865763\n",
      "[400]\ttraining's auc: 0.884566\tvalid_1's auc: 0.87438\n",
      "[600]\ttraining's auc: 0.894315\tvalid_1's auc: 0.880059\n",
      "[800]\ttraining's auc: 0.900857\tvalid_1's auc: 0.883887\n",
      "[1000]\ttraining's auc: 0.906816\tvalid_1's auc: 0.887793\n",
      "[1200]\ttraining's auc: 0.912092\tvalid_1's auc: 0.891222\n",
      "[1400]\ttraining's auc: 0.916865\tvalid_1's auc: 0.894126\n",
      "[1600]\ttraining's auc: 0.920946\tvalid_1's auc: 0.896506\n",
      "[1800]\ttraining's auc: 0.924633\tvalid_1's auc: 0.8987\n",
      "[2000]\ttraining's auc: 0.928029\tvalid_1's auc: 0.900545\n",
      "[2200]\ttraining's auc: 0.931171\tvalid_1's auc: 0.902236\n",
      "[2400]\ttraining's auc: 0.933806\tvalid_1's auc: 0.903561\n",
      "[2600]\ttraining's auc: 0.936461\tvalid_1's auc: 0.904848\n",
      "[2800]\ttraining's auc: 0.938843\tvalid_1's auc: 0.906149\n",
      "[3000]\ttraining's auc: 0.940894\tvalid_1's auc: 0.907116\n",
      "[3200]\ttraining's auc: 0.942745\tvalid_1's auc: 0.908024\n",
      "[3400]\ttraining's auc: 0.944502\tvalid_1's auc: 0.908844\n",
      "[3600]\ttraining's auc: 0.945953\tvalid_1's auc: 0.909553\n",
      "[3800]\ttraining's auc: 0.947525\tvalid_1's auc: 0.910161\n",
      "[4000]\ttraining's auc: 0.949061\tvalid_1's auc: 0.9108\n",
      "[4200]\ttraining's auc: 0.950294\tvalid_1's auc: 0.911255\n",
      "[4400]\ttraining's auc: 0.951583\tvalid_1's auc: 0.911739\n",
      "[4600]\ttraining's auc: 0.952901\tvalid_1's auc: 0.912305\n",
      "[4800]\ttraining's auc: 0.954047\tvalid_1's auc: 0.912799\n",
      "[5000]\ttraining's auc: 0.955179\tvalid_1's auc: 0.913185\n",
      "[5200]\ttraining's auc: 0.956216\tvalid_1's auc: 0.913528\n",
      "[5400]\ttraining's auc: 0.957261\tvalid_1's auc: 0.913962\n",
      "[5600]\ttraining's auc: 0.958185\tvalid_1's auc: 0.914236\n",
      "[5800]\ttraining's auc: 0.959181\tvalid_1's auc: 0.914657\n",
      "[6000]\ttraining's auc: 0.960031\tvalid_1's auc: 0.914957\n",
      "[6200]\ttraining's auc: 0.960851\tvalid_1's auc: 0.915199\n",
      "[6400]\ttraining's auc: 0.961563\tvalid_1's auc: 0.915436\n",
      "[6600]\ttraining's auc: 0.962348\tvalid_1's auc: 0.915726\n",
      "[6800]\ttraining's auc: 0.963126\tvalid_1's auc: 0.915922\n",
      "[7000]\ttraining's auc: 0.963889\tvalid_1's auc: 0.91629\n",
      "[7200]\ttraining's auc: 0.964652\tvalid_1's auc: 0.916593\n",
      "[7400]\ttraining's auc: 0.965339\tvalid_1's auc: 0.916834\n",
      "[7600]\ttraining's auc: 0.965978\tvalid_1's auc: 0.916978\n",
      "[7800]\ttraining's auc: 0.96666\tvalid_1's auc: 0.917172\n",
      "[8000]\ttraining's auc: 0.967277\tvalid_1's auc: 0.917387\n",
      "[8200]\ttraining's auc: 0.967865\tvalid_1's auc: 0.917575\n",
      "[8400]\ttraining's auc: 0.968434\tvalid_1's auc: 0.917713\n",
      "[8600]\ttraining's auc: 0.96898\tvalid_1's auc: 0.917868\n",
      "[8800]\ttraining's auc: 0.969531\tvalid_1's auc: 0.918041\n",
      "[9000]\ttraining's auc: 0.970111\tvalid_1's auc: 0.918178\n",
      "[9200]\ttraining's auc: 0.970636\tvalid_1's auc: 0.918326\n",
      "[9400]\ttraining's auc: 0.971101\tvalid_1's auc: 0.918532\n",
      "[9600]\ttraining's auc: 0.971524\tvalid_1's auc: 0.918658\n",
      "[9800]\ttraining's auc: 0.972022\tvalid_1's auc: 0.918877\n",
      "[10000]\ttraining's auc: 0.972468\tvalid_1's auc: 0.918977\n",
      "Did not meet early stopping. Best iteration is:\n",
      "[10000]\ttraining's auc: 0.972468\tvalid_1's auc: 0.918977\n",
      "Fold 2 | AUC: 0.9189774914905487\n",
      "Training until validation scores don't improve for 100 rounds\n",
      "[200]\ttraining's auc: 0.872314\tvalid_1's auc: 0.858763\n",
      "[400]\ttraining's auc: 0.885933\tvalid_1's auc: 0.86858\n",
      "[600]\ttraining's auc: 0.895933\tvalid_1's auc: 0.875628\n",
      "[800]\ttraining's auc: 0.902563\tvalid_1's auc: 0.879894\n",
      "[1000]\ttraining's auc: 0.908518\tvalid_1's auc: 0.883514\n",
      "[1200]\ttraining's auc: 0.91383\tvalid_1's auc: 0.887314\n",
      "[1400]\ttraining's auc: 0.91863\tvalid_1's auc: 0.890314\n",
      "[1600]\ttraining's auc: 0.922659\tvalid_1's auc: 0.892864\n",
      "[1800]\ttraining's auc: 0.926313\tvalid_1's auc: 0.895026\n",
      "[2000]\ttraining's auc: 0.929582\tvalid_1's auc: 0.896768\n",
      "[2200]\ttraining's auc: 0.932657\tvalid_1's auc: 0.898447\n",
      "[2400]\ttraining's auc: 0.935245\tvalid_1's auc: 0.899862\n",
      "[2600]\ttraining's auc: 0.937795\tvalid_1's auc: 0.901106\n",
      "[2800]\ttraining's auc: 0.940104\tvalid_1's auc: 0.902284\n",
      "[3000]\ttraining's auc: 0.942137\tvalid_1's auc: 0.903279\n",
      "[3200]\ttraining's auc: 0.943962\tvalid_1's auc: 0.904193\n",
      "[3400]\ttraining's auc: 0.945755\tvalid_1's auc: 0.905108\n",
      "[3600]\ttraining's auc: 0.94719\tvalid_1's auc: 0.905712\n",
      "[3800]\ttraining's auc: 0.948711\tvalid_1's auc: 0.906348\n",
      "[4000]\ttraining's auc: 0.9502\tvalid_1's auc: 0.907118\n",
      "[4200]\ttraining's auc: 0.951394\tvalid_1's auc: 0.90743\n",
      "[4400]\ttraining's auc: 0.952664\tvalid_1's auc: 0.907948\n",
      "[4600]\ttraining's auc: 0.953948\tvalid_1's auc: 0.908565\n",
      "[4800]\ttraining's auc: 0.955124\tvalid_1's auc: 0.908975\n",
      "[5000]\ttraining's auc: 0.956286\tvalid_1's auc: 0.90944\n",
      "[5200]\ttraining's auc: 0.957342\tvalid_1's auc: 0.909814\n",
      "[5400]\ttraining's auc: 0.958437\tvalid_1's auc: 0.910133\n",
      "[5600]\ttraining's auc: 0.959377\tvalid_1's auc: 0.910393\n",
      "[5800]\ttraining's auc: 0.960368\tvalid_1's auc: 0.910824\n",
      "[6000]\ttraining's auc: 0.961221\tvalid_1's auc: 0.91111\n",
      "[6200]\ttraining's auc: 0.962101\tvalid_1's auc: 0.911427\n",
      "[6400]\ttraining's auc: 0.962852\tvalid_1's auc: 0.911631\n",
      "[6600]\ttraining's auc: 0.96364\tvalid_1's auc: 0.911917\n",
      "[6800]\ttraining's auc: 0.964384\tvalid_1's auc: 0.912065\n",
      "[7000]\ttraining's auc: 0.965139\tvalid_1's auc: 0.912276\n",
      "[7200]\ttraining's auc: 0.965899\tvalid_1's auc: 0.912431\n",
      "[7400]\ttraining's auc: 0.96657\tvalid_1's auc: 0.912574\n",
      "[7600]\ttraining's auc: 0.967185\tvalid_1's auc: 0.91264\n",
      "[7800]\ttraining's auc: 0.967868\tvalid_1's auc: 0.912839\n",
      "[8000]\ttraining's auc: 0.968467\tvalid_1's auc: 0.912924\n",
      "[8200]\ttraining's auc: 0.969055\tvalid_1's auc: 0.913039\n",
      "Early stopping, best iteration is:\n",
      "[8217]\ttraining's auc: 0.969107\tvalid_1's auc: 0.913067\n",
      "Fold 3 | AUC: 0.9130674025326059\n",
      "Training until validation scores don't improve for 100 rounds\n",
      "[200]\ttraining's auc: 0.866805\tvalid_1's auc: 0.866697\n",
      "[400]\ttraining's auc: 0.880578\tvalid_1's auc: 0.878766\n",
      "[600]\ttraining's auc: 0.890609\tvalid_1's auc: 0.88721\n",
      "[800]\ttraining's auc: 0.897416\tvalid_1's auc: 0.892112\n",
      "[1000]\ttraining's auc: 0.903661\tvalid_1's auc: 0.896474\n",
      "[1200]\ttraining's auc: 0.909118\tvalid_1's auc: 0.900504\n",
      "[1400]\ttraining's auc: 0.913874\tvalid_1's auc: 0.903778\n",
      "[1600]\ttraining's auc: 0.917996\tvalid_1's auc: 0.90645\n",
      "[1800]\ttraining's auc: 0.921729\tvalid_1's auc: 0.908854\n",
      "[2000]\ttraining's auc: 0.925095\tvalid_1's auc: 0.911009\n",
      "[2200]\ttraining's auc: 0.928277\tvalid_1's auc: 0.913099\n",
      "[2400]\ttraining's auc: 0.930872\tvalid_1's auc: 0.914507\n",
      "[2600]\ttraining's auc: 0.933547\tvalid_1's auc: 0.916112\n",
      "[2800]\ttraining's auc: 0.935956\tvalid_1's auc: 0.917519\n",
      "[3000]\ttraining's auc: 0.938067\tvalid_1's auc: 0.918774\n",
      "[3200]\ttraining's auc: 0.940051\tvalid_1's auc: 0.919892\n",
      "[3400]\ttraining's auc: 0.941956\tvalid_1's auc: 0.920896\n",
      "[3600]\ttraining's auc: 0.943498\tvalid_1's auc: 0.921674\n",
      "[3800]\ttraining's auc: 0.945107\tvalid_1's auc: 0.92249\n",
      "[4000]\ttraining's auc: 0.946692\tvalid_1's auc: 0.923329\n",
      "[4200]\ttraining's auc: 0.947981\tvalid_1's auc: 0.923914\n",
      "[4400]\ttraining's auc: 0.949333\tvalid_1's auc: 0.924493\n",
      "[4600]\ttraining's auc: 0.950659\tvalid_1's auc: 0.925218\n",
      "[4800]\ttraining's auc: 0.951897\tvalid_1's auc: 0.925822\n",
      "[5000]\ttraining's auc: 0.953115\tvalid_1's auc: 0.926327\n",
      "[5200]\ttraining's auc: 0.954225\tvalid_1's auc: 0.926856\n",
      "[5400]\ttraining's auc: 0.955331\tvalid_1's auc: 0.927363\n",
      "[5600]\ttraining's auc: 0.95629\tvalid_1's auc: 0.927734\n",
      "[5800]\ttraining's auc: 0.957357\tvalid_1's auc: 0.928272\n",
      "[6000]\ttraining's auc: 0.95827\tvalid_1's auc: 0.928653\n",
      "[6200]\ttraining's auc: 0.959196\tvalid_1's auc: 0.928967\n",
      "[6400]\ttraining's auc: 0.959977\tvalid_1's auc: 0.929289\n",
      "[6600]\ttraining's auc: 0.960858\tvalid_1's auc: 0.929658\n",
      "[6800]\ttraining's auc: 0.961672\tvalid_1's auc: 0.929942\n",
      "[7000]\ttraining's auc: 0.962508\tvalid_1's auc: 0.9303\n",
      "[7200]\ttraining's auc: 0.96331\tvalid_1's auc: 0.930581\n",
      "[7400]\ttraining's auc: 0.964011\tvalid_1's auc: 0.930834\n",
      "[7600]\ttraining's auc: 0.964663\tvalid_1's auc: 0.931024\n",
      "[7800]\ttraining's auc: 0.965386\tvalid_1's auc: 0.931344\n",
      "[8000]\ttraining's auc: 0.966024\tvalid_1's auc: 0.931567\n",
      "[8200]\ttraining's auc: 0.96662\tvalid_1's auc: 0.931745\n",
      "[8400]\ttraining's auc: 0.967216\tvalid_1's auc: 0.931902\n",
      "[8600]\ttraining's auc: 0.967797\tvalid_1's auc: 0.932119\n",
      "[8800]\ttraining's auc: 0.968362\tvalid_1's auc: 0.932323\n",
      "[9000]\ttraining's auc: 0.968933\tvalid_1's auc: 0.932516\n",
      "[9200]\ttraining's auc: 0.969499\tvalid_1's auc: 0.93262\n",
      "[9400]\ttraining's auc: 0.969992\tvalid_1's auc: 0.932811\n",
      "[9600]\ttraining's auc: 0.970434\tvalid_1's auc: 0.932893\n",
      "[9800]\ttraining's auc: 0.970927\tvalid_1's auc: 0.933051\n",
      "[10000]\ttraining's auc: 0.971393\tvalid_1's auc: 0.933172\n",
      "Did not meet early stopping. Best iteration is:\n",
      "[10000]\ttraining's auc: 0.971393\tvalid_1's auc: 0.933172\n",
      "Fold 4 | AUC: 0.9331715597965539\n",
      "Training until validation scores don't improve for 100 rounds\n",
      "[200]\ttraining's auc: 0.870738\tvalid_1's auc: 0.84747\n",
      "[400]\ttraining's auc: 0.884126\tvalid_1's auc: 0.856909\n",
      "[600]\ttraining's auc: 0.89419\tvalid_1's auc: 0.864122\n",
      "[800]\ttraining's auc: 0.900878\tvalid_1's auc: 0.868793\n",
      "[1000]\ttraining's auc: 0.907142\tvalid_1's auc: 0.872273\n",
      "[1200]\ttraining's auc: 0.91269\tvalid_1's auc: 0.87572\n",
      "[1400]\ttraining's auc: 0.917667\tvalid_1's auc: 0.878709\n",
      "[1600]\ttraining's auc: 0.921884\tvalid_1's auc: 0.881093\n",
      "[1800]\ttraining's auc: 0.925713\tvalid_1's auc: 0.883042\n",
      "[2000]\ttraining's auc: 0.929044\tvalid_1's auc: 0.884757\n",
      "[2200]\ttraining's auc: 0.932125\tvalid_1's auc: 0.886338\n",
      "[2400]\ttraining's auc: 0.934724\tvalid_1's auc: 0.887582\n",
      "[2600]\ttraining's auc: 0.937317\tvalid_1's auc: 0.888903\n",
      "[2800]\ttraining's auc: 0.939708\tvalid_1's auc: 0.890037\n",
      "[3000]\ttraining's auc: 0.941712\tvalid_1's auc: 0.891053\n",
      "[3200]\ttraining's auc: 0.943546\tvalid_1's auc: 0.892133\n",
      "[3400]\ttraining's auc: 0.945409\tvalid_1's auc: 0.893031\n",
      "[3600]\ttraining's auc: 0.946864\tvalid_1's auc: 0.893528\n",
      "[3800]\ttraining's auc: 0.948386\tvalid_1's auc: 0.894242\n",
      "[4000]\ttraining's auc: 0.949869\tvalid_1's auc: 0.894764\n",
      "[4200]\ttraining's auc: 0.951061\tvalid_1's auc: 0.895132\n",
      "[4400]\ttraining's auc: 0.95231\tvalid_1's auc: 0.895524\n",
      "[4600]\ttraining's auc: 0.953609\tvalid_1's auc: 0.895852\n",
      "[4800]\ttraining's auc: 0.954779\tvalid_1's auc: 0.896244\n",
      "[5000]\ttraining's auc: 0.95591\tvalid_1's auc: 0.896432\n",
      "[5200]\ttraining's auc: 0.95692\tvalid_1's auc: 0.896588\n",
      "[5400]\ttraining's auc: 0.957977\tvalid_1's auc: 0.897008\n",
      "[5600]\ttraining's auc: 0.958902\tvalid_1's auc: 0.897093\n",
      "[5800]\ttraining's auc: 0.959904\tvalid_1's auc: 0.89735\n",
      "[6000]\ttraining's auc: 0.960799\tvalid_1's auc: 0.897602\n",
      "[6200]\ttraining's auc: 0.961649\tvalid_1's auc: 0.897917\n",
      "[6400]\ttraining's auc: 0.962399\tvalid_1's auc: 0.898054\n",
      "[6600]\ttraining's auc: 0.963202\tvalid_1's auc: 0.89824\n",
      "[6800]\ttraining's auc: 0.963951\tvalid_1's auc: 0.898331\n",
      "[7000]\ttraining's auc: 0.964703\tvalid_1's auc: 0.898507\n",
      "[7200]\ttraining's auc: 0.965448\tvalid_1's auc: 0.898639\n",
      "[7400]\ttraining's auc: 0.966125\tvalid_1's auc: 0.898893\n",
      "Early stopping, best iteration is:\n",
      "[7430]\ttraining's auc: 0.966217\tvalid_1's auc: 0.898958\n",
      "Fold 5 | AUC: 0.8989583449125312\n"
     ]
    }
   ],
   "source": [
=======
   "execution_count": 50,
   "metadata": {},
   "outputs": [],
   "source": [
    "%%time\n",
>>>>>>> ece17a6c8d83dc85bccea2a0c813038665c865ea
    "for fold_n, (train_index, valid_index) in enumerate(splits):\n",
    "    X_tr, X_val = X_train[columns].iloc[train_index], X_train[columns].iloc[valid_index]\n",
    "    y_tr, y_val = y_train.iloc[train_index], y_train.iloc[valid_index]\n",
    "    \n",
    "    dtrain = lgb.Dataset(X_tr, label=y_tr)\n",
    "    dvalid = lgb.Dataset(X_val, label=y_val)\n",
    "\n",
    "    clf = lgb.train(params, dtrain, 10000, valid_sets = [dtrain, dvalid], verbose_eval=200, early_stopping_rounds=100)\n",
    "    \n",
    "    feature_importances[f'fold_{fold_n + 1}'] = clf.feature_importance()\n",
    "    \n",
    "    y_pred_val = clf.predict(X_val)\n",
    "    y_oof[valid_index] = y_pred_val\n",
    "    print(f\"Fold {fold_n + 1} | AUC: {roc_auc_score(y_val, y_pred_val)}\")\n",
    "    \n",
    "    score_auc += roc_auc_score(y_val, y_pred_val) / n_folds\n",
    "    \n",
    "    y_preds += clf.predict(X_test) / n_folds\n",
    "    \n",
    "    del X_tr, X_val, y_tr, y_val"
   ]
  },
  {
   "cell_type": "code",
<<<<<<< HEAD
   "execution_count": 47,
=======
   "execution_count": 53,
>>>>>>> ece17a6c8d83dc85bccea2a0c813038665c865ea
   "metadata": {},
   "outputs": [
    {
     "output_type": "stream",
     "name": "stdout",
     "text": [
      "\n",
      "Mean AUC = 0.9141624311626435\n",
      "Out of folds AUC = 0.9152769020220954\n"
     ]
    }
   ],
   "source": [
    "print(f\"\\nMean AUC = {score_auc}\")\n",
    "print(f\"Out of folds AUC = {roc_auc_score(y_train, y_oof)}\")"
   ]
  },
  {
   "cell_type": "code",
<<<<<<< HEAD
   "execution_count": 50,
   "metadata": {},
   "outputs": [],
   "source": [
    "feature_importances[\"average\"] = feature_importances[\n",
    "    [\"fold_{}\".format(fold + 1) for fold in range(folds.n_splits)]\n",
    "].mean(axis=1)"
   ]
  },
  {
   "cell_type": "code",
   "execution_count": 51,
   "metadata": {},
   "outputs": [],
   "source": [
    "f = (\n",
    "    feature_importances[[\"feature\", \"average\"]]\n",
    "    .sort_values(by=\"average\", ascending=False)\n",
    "    .head(20)\n",
    ")"
   ]
  },
  {
   "cell_type": "code",
   "execution_count": 52,
=======
   "execution_count": 54,
>>>>>>> ece17a6c8d83dc85bccea2a0c813038665c865ea
   "metadata": {},
   "outputs": [
    {
     "output_type": "stream",
     "name": "stdout",
     "text": [
<<<<<<< HEAD
      "Index(['V258', 'V257', 'V188', 'C1', 'V187', 'C13', 'C12', 'C7', 'C14', 'V44',\n       'V274', 'V294', 'C11', 'C4', 'V283', 'C8', 'V156', 'TransactionAmt',\n       'C10', 'V307'],\n      dtype='object')\n"
=======
      "Index(['V258', 'V257', 'V188', 'C1', 'V187', 'C13', 'C7', 'C14', 'C12', 'V44',\n       'C4', 'V274', 'V294', 'C11', 'C8', 'V283', 'V156', 'V86',\n       'TransactionAmt', 'D2'],\n      dtype='object')\n"
>>>>>>> ece17a6c8d83dc85bccea2a0c813038665c865ea
     ]
    },
    {
     "output_type": "display_data",
     "data": {
      "text/plain": "<Figure size 1152x504 with 1 Axes>",
<<<<<<< HEAD
      "image/svg+xml": "<?xml version=\"1.0\" encoding=\"utf-8\" standalone=\"no\"?>\n<!DOCTYPE svg PUBLIC \"-//W3C//DTD SVG 1.1//EN\"\n  \"http://www.w3.org/Graphics/SVG/1.1/DTD/svg11.dtd\">\n<!-- Created with matplotlib (https://matplotlib.org/) -->\n<svg height=\"479.621562pt\" version=\"1.1\" viewBox=\"0 0 946.0125 479.621562\" width=\"946.0125pt\" xmlns=\"http://www.w3.org/2000/svg\" xmlns:xlink=\"http://www.w3.org/1999/xlink\">\n <metadata>\n  <rdf:RDF xmlns:cc=\"http://creativecommons.org/ns#\" xmlns:dc=\"http://purl.org/dc/elements/1.1/\" xmlns:rdf=\"http://www.w3.org/1999/02/22-rdf-syntax-ns#\">\n   <cc:Work>\n    <dc:type rdf:resource=\"http://purl.org/dc/dcmitype/StillImage\"/>\n    <dc:date>2021-04-30T16:48:39.361877</dc:date>\n    <dc:format>image/svg+xml</dc:format>\n    <dc:creator>\n     <cc:Agent>\n      <dc:title>Matplotlib v3.3.2, https://matplotlib.org/</dc:title>\n     </cc:Agent>\n    </dc:creator>\n   </cc:Work>\n  </rdf:RDF>\n </metadata>\n <defs>\n  <style type=\"text/css\">*{stroke-linecap:butt;stroke-linejoin:round;}</style>\n </defs>\n <g id=\"figure_1\">\n  <g id=\"patch_1\">\n   <path d=\"M 0 479.621562 \nL 946.0125 479.621562 \nL 946.0125 0 \nL 0 0 \nz\n\" style=\"fill:none;\"/>\n  </g>\n  <g id=\"axes_1\">\n   <g id=\"patch_2\">\n    <path d=\"M 46.0125 387.72 \nL 938.8125 387.72 \nL 938.8125 7.2 \nL 46.0125 7.2 \nz\n\" style=\"fill:#ffffff;\"/>\n   </g>\n   <g id=\"patch_3\">\n    <path clip-path=\"url(#pb20389aa11)\" d=\"M 86.594318 387.72 \nL 119.387707 387.72 \nL 119.387707 25.32 \nL 86.594318 25.32 \nz\n\" style=\"fill:#1f77b4;\"/>\n   </g>\n   <g id=\"patch_4\">\n    <path clip-path=\"url(#pb20389aa11)\" d=\"M 127.586054 387.72 \nL 160.379442 387.72 \nL 160.379442 27.259746 \nL 127.586054 27.259746 \nz\n\" style=\"fill:#1f77b4;\"/>\n   </g>\n   <g id=\"patch_5\">\n    <path clip-path=\"url(#pb20389aa11)\" d=\"M 168.577789 387.72 \nL 201.371178 387.72 \nL 201.371178 47.926356 \nL 168.577789 47.926356 \nz\n\" style=\"fill:#1f77b4;\"/>\n   </g>\n   <g id=\"patch_6\">\n    <path clip-path=\"url(#pb20389aa11)\" d=\"M 209.569525 387.72 \nL 242.362913 387.72 \nL 242.362913 59.736639 \nL 209.569525 59.736639 \nz\n\" style=\"fill:#1f77b4;\"/>\n   </g>\n   <g id=\"patch_7\">\n    <path clip-path=\"url(#pb20389aa11)\" d=\"M 250.56126 387.72 \nL 283.354649 387.72 \nL 283.354649 84.393583 \nL 250.56126 84.393583 \nz\n\" style=\"fill:#1f77b4;\"/>\n   </g>\n   <g id=\"patch_8\">\n    <path clip-path=\"url(#pb20389aa11)\" d=\"M 291.552996 387.72 \nL 324.346384 387.72 \nL 324.346384 91.875461 \nL 291.552996 91.875461 \nz\n\" style=\"fill:#1f77b4;\"/>\n   </g>\n   <g id=\"patch_9\">\n    <path clip-path=\"url(#pb20389aa11)\" d=\"M 332.544731 387.72 \nL 365.33812 387.72 \nL 365.33812 92.396421 \nL 332.544731 92.396421 \nz\n\" style=\"fill:#1f77b4;\"/>\n   </g>\n   <g id=\"patch_10\">\n    <path clip-path=\"url(#pb20389aa11)\" d=\"M 373.536467 387.72 \nL 406.329855 387.72 \nL 406.329855 98.054938 \nL 373.536467 98.054938 \nz\n\" style=\"fill:#1f77b4;\"/>\n   </g>\n   <g id=\"patch_11\">\n    <path clip-path=\"url(#pb20389aa11)\" d=\"M 414.528202 387.72 \nL 447.321591 387.72 \nL 447.321591 100.000226 \nL 414.528202 100.000226 \nz\n\" style=\"fill:#1f77b4;\"/>\n   </g>\n   <g id=\"patch_12\">\n    <path clip-path=\"url(#pb20389aa11)\" d=\"M 455.519938 387.72 \nL 488.313326 387.72 \nL 488.313326 102.388885 \nL 455.519938 102.388885 \nz\n\" style=\"fill:#1f77b4;\"/>\n   </g>\n   <g id=\"patch_13\">\n    <path clip-path=\"url(#pb20389aa11)\" d=\"M 496.511674 387.72 \nL 529.305062 387.72 \nL 529.305062 103.813213 \nL 496.511674 103.813213 \nz\n\" style=\"fill:#1f77b4;\"/>\n   </g>\n   <g id=\"patch_14\">\n    <path clip-path=\"url(#pb20389aa11)\" d=\"M 537.503409 387.72 \nL 570.296798 387.72 \nL 570.296798 105.049108 \nL 537.503409 105.049108 \nz\n\" style=\"fill:#1f77b4;\"/>\n   </g>\n   <g id=\"patch_15\">\n    <path clip-path=\"url(#pb20389aa11)\" d=\"M 578.495145 387.72 \nL 611.288533 387.72 \nL 611.288533 122.911399 \nL 578.495145 122.911399 \nz\n\" style=\"fill:#1f77b4;\"/>\n   </g>\n   <g id=\"patch_16\">\n    <path clip-path=\"url(#pb20389aa11)\" d=\"M 619.48688 387.72 \nL 652.280269 387.72 \nL 652.280269 130.005328 \nL 619.48688 130.005328 \nz\n\" style=\"fill:#1f77b4;\"/>\n   </g>\n   <g id=\"patch_17\">\n    <path clip-path=\"url(#pb20389aa11)\" d=\"M 660.478616 387.72 \nL 693.272004 387.72 \nL 693.272004 144.786194 \nL 660.478616 144.786194 \nz\n\" style=\"fill:#1f77b4;\"/>\n   </g>\n   <g id=\"patch_18\">\n    <path clip-path=\"url(#pb20389aa11)\" d=\"M 701.470351 387.72 \nL 734.26374 387.72 \nL 734.26374 149.469295 \nL 701.470351 149.469295 \nz\n\" style=\"fill:#1f77b4;\"/>\n   </g>\n   <g id=\"patch_19\">\n    <path clip-path=\"url(#pb20389aa11)\" d=\"M 742.462087 387.72 \nL 775.255475 387.72 \nL 775.255475 153.56493 \nL 742.462087 153.56493 \nz\n\" style=\"fill:#1f77b4;\"/>\n   </g>\n   <g id=\"patch_20\">\n    <path clip-path=\"url(#pb20389aa11)\" d=\"M 783.453822 387.72 \nL 816.247211 387.72 \nL 816.247211 160.370668 \nL 783.453822 160.370668 \nz\n\" style=\"fill:#1f77b4;\"/>\n   </g>\n   <g id=\"patch_21\">\n    <path clip-path=\"url(#pb20389aa11)\" d=\"M 824.445558 387.72 \nL 857.238946 387.72 \nL 857.238946 169.975183 \nL 824.445558 169.975183 \nz\n\" style=\"fill:#1f77b4;\"/>\n   </g>\n   <g id=\"patch_22\">\n    <path clip-path=\"url(#pb20389aa11)\" d=\"M 865.437293 387.72 \nL 898.230682 387.72 \nL 898.230682 172.690827 \nL 865.437293 172.690827 \nz\n\" style=\"fill:#1f77b4;\"/>\n   </g>\n   <g id=\"matplotlib.axis_1\">\n    <g id=\"xtick_1\">\n     <g id=\"line2d_1\">\n      <defs>\n       <path d=\"M 0 0 \nL 0 3.5 \n\" id=\"md48d821be8\" style=\"stroke:#000000;stroke-width:0.8;\"/>\n      </defs>\n      <g>\n       <use style=\"stroke:#000000;stroke-width:0.8;\" x=\"102.991012\" xlink:href=\"#md48d821be8\" y=\"387.72\"/>\n      </g>\n     </g>\n     <g id=\"text_1\">\n      <!-- card2 -->\n      <g transform=\"translate(105.750387 422.993437)rotate(-90)scale(0.1 -0.1)\">\n       <defs>\n        <path d=\"M 48.78125 52.59375 \nL 48.78125 44.1875 \nQ 44.96875 46.296875 41.140625 47.34375 \nQ 37.3125 48.390625 33.40625 48.390625 \nQ 24.65625 48.390625 19.8125 42.84375 \nQ 14.984375 37.3125 14.984375 27.296875 \nQ 14.984375 17.28125 19.8125 11.734375 \nQ 24.65625 6.203125 33.40625 6.203125 \nQ 37.3125 6.203125 41.140625 7.25 \nQ 44.96875 8.296875 48.78125 10.40625 \nL 48.78125 2.09375 \nQ 45.015625 0.34375 40.984375 -0.53125 \nQ 36.96875 -1.421875 32.421875 -1.421875 \nQ 20.0625 -1.421875 12.78125 6.34375 \nQ 5.515625 14.109375 5.515625 27.296875 \nQ 5.515625 40.671875 12.859375 48.328125 \nQ 20.21875 56 33.015625 56 \nQ 37.15625 56 41.109375 55.140625 \nQ 45.0625 54.296875 48.78125 52.59375 \nz\n\" id=\"DejaVuSans-99\"/>\n        <path d=\"M 34.28125 27.484375 \nQ 23.390625 27.484375 19.1875 25 \nQ 14.984375 22.515625 14.984375 16.5 \nQ 14.984375 11.71875 18.140625 8.90625 \nQ 21.296875 6.109375 26.703125 6.109375 \nQ 34.1875 6.109375 38.703125 11.40625 \nQ 43.21875 16.703125 43.21875 25.484375 \nL 43.21875 27.484375 \nz\nM 52.203125 31.203125 \nL 52.203125 0 \nL 43.21875 0 \nL 43.21875 8.296875 \nQ 40.140625 3.328125 35.546875 0.953125 \nQ 30.953125 -1.421875 24.3125 -1.421875 \nQ 15.921875 -1.421875 10.953125 3.296875 \nQ 6 8.015625 6 15.921875 \nQ 6 25.140625 12.171875 29.828125 \nQ 18.359375 34.515625 30.609375 34.515625 \nL 43.21875 34.515625 \nL 43.21875 35.40625 \nQ 43.21875 41.609375 39.140625 45 \nQ 35.0625 48.390625 27.6875 48.390625 \nQ 23 48.390625 18.546875 47.265625 \nQ 14.109375 46.140625 10.015625 43.890625 \nL 10.015625 52.203125 \nQ 14.9375 54.109375 19.578125 55.046875 \nQ 24.21875 56 28.609375 56 \nQ 40.484375 56 46.34375 49.84375 \nQ 52.203125 43.703125 52.203125 31.203125 \nz\n\" id=\"DejaVuSans-97\"/>\n        <path d=\"M 41.109375 46.296875 \nQ 39.59375 47.171875 37.8125 47.578125 \nQ 36.03125 48 33.890625 48 \nQ 26.265625 48 22.1875 43.046875 \nQ 18.109375 38.09375 18.109375 28.8125 \nL 18.109375 0 \nL 9.078125 0 \nL 9.078125 54.6875 \nL 18.109375 54.6875 \nL 18.109375 46.1875 \nQ 20.953125 51.171875 25.484375 53.578125 \nQ 30.03125 56 36.53125 56 \nQ 37.453125 56 38.578125 55.875 \nQ 39.703125 55.765625 41.0625 55.515625 \nz\n\" id=\"DejaVuSans-114\"/>\n        <path d=\"M 45.40625 46.390625 \nL 45.40625 75.984375 \nL 54.390625 75.984375 \nL 54.390625 0 \nL 45.40625 0 \nL 45.40625 8.203125 \nQ 42.578125 3.328125 38.25 0.953125 \nQ 33.9375 -1.421875 27.875 -1.421875 \nQ 17.96875 -1.421875 11.734375 6.484375 \nQ 5.515625 14.40625 5.515625 27.296875 \nQ 5.515625 40.1875 11.734375 48.09375 \nQ 17.96875 56 27.875 56 \nQ 33.9375 56 38.25 53.625 \nQ 42.578125 51.265625 45.40625 46.390625 \nz\nM 14.796875 27.296875 \nQ 14.796875 17.390625 18.875 11.75 \nQ 22.953125 6.109375 30.078125 6.109375 \nQ 37.203125 6.109375 41.296875 11.75 \nQ 45.40625 17.390625 45.40625 27.296875 \nQ 45.40625 37.203125 41.296875 42.84375 \nQ 37.203125 48.484375 30.078125 48.484375 \nQ 22.953125 48.484375 18.875 42.84375 \nQ 14.796875 37.203125 14.796875 27.296875 \nz\n\" id=\"DejaVuSans-100\"/>\n        <path d=\"M 19.1875 8.296875 \nL 53.609375 8.296875 \nL 53.609375 0 \nL 7.328125 0 \nL 7.328125 8.296875 \nQ 12.9375 14.109375 22.625 23.890625 \nQ 32.328125 33.6875 34.8125 36.53125 \nQ 39.546875 41.84375 41.421875 45.53125 \nQ 43.3125 49.21875 43.3125 52.78125 \nQ 43.3125 58.59375 39.234375 62.25 \nQ 35.15625 65.921875 28.609375 65.921875 \nQ 23.96875 65.921875 18.8125 64.3125 \nQ 13.671875 62.703125 7.8125 59.421875 \nL 7.8125 69.390625 \nQ 13.765625 71.78125 18.9375 73 \nQ 24.125 74.21875 28.421875 74.21875 \nQ 39.75 74.21875 46.484375 68.546875 \nQ 53.21875 62.890625 53.21875 53.421875 \nQ 53.21875 48.921875 51.53125 44.890625 \nQ 49.859375 40.875 45.40625 35.40625 \nQ 44.1875 33.984375 37.640625 27.21875 \nQ 31.109375 20.453125 19.1875 8.296875 \nz\n\" id=\"DejaVuSans-50\"/>\n       </defs>\n       <use xlink:href=\"#DejaVuSans-99\"/>\n       <use x=\"54.980469\" xlink:href=\"#DejaVuSans-97\"/>\n       <use x=\"116.259766\" xlink:href=\"#DejaVuSans-114\"/>\n       <use x=\"155.623047\" xlink:href=\"#DejaVuSans-100\"/>\n       <use x=\"219.099609\" xlink:href=\"#DejaVuSans-50\"/>\n      </g>\n     </g>\n    </g>\n    <g id=\"xtick_2\">\n     <g id=\"line2d_2\">\n      <g>\n       <use style=\"stroke:#000000;stroke-width:0.8;\" x=\"143.982748\" xlink:href=\"#md48d821be8\" y=\"387.72\"/>\n      </g>\n     </g>\n     <g id=\"text_2\">\n      <!-- card1 -->\n      <g transform=\"translate(146.742123 422.993437)rotate(-90)scale(0.1 -0.1)\">\n       <defs>\n        <path d=\"M 12.40625 8.296875 \nL 28.515625 8.296875 \nL 28.515625 63.921875 \nL 10.984375 60.40625 \nL 10.984375 69.390625 \nL 28.421875 72.90625 \nL 38.28125 72.90625 \nL 38.28125 8.296875 \nL 54.390625 8.296875 \nL 54.390625 0 \nL 12.40625 0 \nz\n\" id=\"DejaVuSans-49\"/>\n       </defs>\n       <use xlink:href=\"#DejaVuSans-99\"/>\n       <use x=\"54.980469\" xlink:href=\"#DejaVuSans-97\"/>\n       <use x=\"116.259766\" xlink:href=\"#DejaVuSans-114\"/>\n       <use x=\"155.623047\" xlink:href=\"#DejaVuSans-100\"/>\n       <use x=\"219.099609\" xlink:href=\"#DejaVuSans-49\"/>\n      </g>\n     </g>\n    </g>\n    <g id=\"xtick_3\">\n     <g id=\"line2d_3\">\n      <g>\n       <use style=\"stroke:#000000;stroke-width:0.8;\" x=\"184.974483\" xlink:href=\"#md48d821be8\" y=\"387.72\"/>\n      </g>\n     </g>\n     <g id=\"text_3\">\n      <!-- dist1 -->\n      <g transform=\"translate(187.733858 419.33875)rotate(-90)scale(0.1 -0.1)\">\n       <defs>\n        <path d=\"M 9.421875 54.6875 \nL 18.40625 54.6875 \nL 18.40625 0 \nL 9.421875 0 \nz\nM 9.421875 75.984375 \nL 18.40625 75.984375 \nL 18.40625 64.59375 \nL 9.421875 64.59375 \nz\n\" id=\"DejaVuSans-105\"/>\n        <path d=\"M 44.28125 53.078125 \nL 44.28125 44.578125 \nQ 40.484375 46.53125 36.375 47.5 \nQ 32.28125 48.484375 27.875 48.484375 \nQ 21.1875 48.484375 17.84375 46.4375 \nQ 14.5 44.390625 14.5 40.28125 \nQ 14.5 37.15625 16.890625 35.375 \nQ 19.28125 33.59375 26.515625 31.984375 \nL 29.59375 31.296875 \nQ 39.15625 29.25 43.1875 25.515625 \nQ 47.21875 21.78125 47.21875 15.09375 \nQ 47.21875 7.46875 41.1875 3.015625 \nQ 35.15625 -1.421875 24.609375 -1.421875 \nQ 20.21875 -1.421875 15.453125 -0.5625 \nQ 10.6875 0.296875 5.421875 2 \nL 5.421875 11.28125 \nQ 10.40625 8.6875 15.234375 7.390625 \nQ 20.0625 6.109375 24.8125 6.109375 \nQ 31.15625 6.109375 34.5625 8.28125 \nQ 37.984375 10.453125 37.984375 14.40625 \nQ 37.984375 18.0625 35.515625 20.015625 \nQ 33.0625 21.96875 24.703125 23.78125 \nL 21.578125 24.515625 \nQ 13.234375 26.265625 9.515625 29.90625 \nQ 5.8125 33.546875 5.8125 39.890625 \nQ 5.8125 47.609375 11.28125 51.796875 \nQ 16.75 56 26.8125 56 \nQ 31.78125 56 36.171875 55.265625 \nQ 40.578125 54.546875 44.28125 53.078125 \nz\n\" id=\"DejaVuSans-115\"/>\n        <path d=\"M 18.3125 70.21875 \nL 18.3125 54.6875 \nL 36.8125 54.6875 \nL 36.8125 47.703125 \nL 18.3125 47.703125 \nL 18.3125 18.015625 \nQ 18.3125 11.328125 20.140625 9.421875 \nQ 21.96875 7.515625 27.59375 7.515625 \nL 36.8125 7.515625 \nL 36.8125 0 \nL 27.59375 0 \nQ 17.1875 0 13.234375 3.875 \nQ 9.28125 7.765625 9.28125 18.015625 \nL 9.28125 47.703125 \nL 2.6875 47.703125 \nL 2.6875 54.6875 \nL 9.28125 54.6875 \nL 9.28125 70.21875 \nz\n\" id=\"DejaVuSans-116\"/>\n       </defs>\n       <use xlink:href=\"#DejaVuSans-100\"/>\n       <use x=\"63.476562\" xlink:href=\"#DejaVuSans-105\"/>\n       <use x=\"91.259766\" xlink:href=\"#DejaVuSans-115\"/>\n       <use x=\"143.359375\" xlink:href=\"#DejaVuSans-116\"/>\n       <use x=\"182.568359\" xlink:href=\"#DejaVuSans-49\"/>\n      </g>\n     </g>\n    </g>\n    <g id=\"xtick_4\">\n     <g id=\"line2d_4\">\n      <g>\n       <use style=\"stroke:#000000;stroke-width:0.8;\" x=\"225.966219\" xlink:href=\"#md48d821be8\" y=\"387.72\"/>\n      </g>\n     </g>\n     <g id=\"text_4\">\n      <!-- TransactionAmt -->\n      <g transform=\"translate(228.725594 472.421562)rotate(-90)scale(0.1 -0.1)\">\n       <defs>\n        <path d=\"M -0.296875 72.90625 \nL 61.375 72.90625 \nL 61.375 64.59375 \nL 35.5 64.59375 \nL 35.5 0 \nL 25.59375 0 \nL 25.59375 64.59375 \nL -0.296875 64.59375 \nz\n\" id=\"DejaVuSans-84\"/>\n        <path d=\"M 54.890625 33.015625 \nL 54.890625 0 \nL 45.90625 0 \nL 45.90625 32.71875 \nQ 45.90625 40.484375 42.875 44.328125 \nQ 39.84375 48.1875 33.796875 48.1875 \nQ 26.515625 48.1875 22.3125 43.546875 \nQ 18.109375 38.921875 18.109375 30.90625 \nL 18.109375 0 \nL 9.078125 0 \nL 9.078125 54.6875 \nL 18.109375 54.6875 \nL 18.109375 46.1875 \nQ 21.34375 51.125 25.703125 53.5625 \nQ 30.078125 56 35.796875 56 \nQ 45.21875 56 50.046875 50.171875 \nQ 54.890625 44.34375 54.890625 33.015625 \nz\n\" id=\"DejaVuSans-110\"/>\n        <path d=\"M 30.609375 48.390625 \nQ 23.390625 48.390625 19.1875 42.75 \nQ 14.984375 37.109375 14.984375 27.296875 \nQ 14.984375 17.484375 19.15625 11.84375 \nQ 23.34375 6.203125 30.609375 6.203125 \nQ 37.796875 6.203125 41.984375 11.859375 \nQ 46.1875 17.53125 46.1875 27.296875 \nQ 46.1875 37.015625 41.984375 42.703125 \nQ 37.796875 48.390625 30.609375 48.390625 \nz\nM 30.609375 56 \nQ 42.328125 56 49.015625 48.375 \nQ 55.71875 40.765625 55.71875 27.296875 \nQ 55.71875 13.875 49.015625 6.21875 \nQ 42.328125 -1.421875 30.609375 -1.421875 \nQ 18.84375 -1.421875 12.171875 6.21875 \nQ 5.515625 13.875 5.515625 27.296875 \nQ 5.515625 40.765625 12.171875 48.375 \nQ 18.84375 56 30.609375 56 \nz\n\" id=\"DejaVuSans-111\"/>\n        <path d=\"M 34.1875 63.1875 \nL 20.796875 26.90625 \nL 47.609375 26.90625 \nz\nM 28.609375 72.90625 \nL 39.796875 72.90625 \nL 67.578125 0 \nL 57.328125 0 \nL 50.6875 18.703125 \nL 17.828125 18.703125 \nL 11.1875 0 \nL 0.78125 0 \nz\n\" id=\"DejaVuSans-65\"/>\n        <path d=\"M 52 44.1875 \nQ 55.375 50.25 60.0625 53.125 \nQ 64.75 56 71.09375 56 \nQ 79.640625 56 84.28125 50.015625 \nQ 88.921875 44.046875 88.921875 33.015625 \nL 88.921875 0 \nL 79.890625 0 \nL 79.890625 32.71875 \nQ 79.890625 40.578125 77.09375 44.375 \nQ 74.3125 48.1875 68.609375 48.1875 \nQ 61.625 48.1875 57.5625 43.546875 \nQ 53.515625 38.921875 53.515625 30.90625 \nL 53.515625 0 \nL 44.484375 0 \nL 44.484375 32.71875 \nQ 44.484375 40.625 41.703125 44.40625 \nQ 38.921875 48.1875 33.109375 48.1875 \nQ 26.21875 48.1875 22.15625 43.53125 \nQ 18.109375 38.875 18.109375 30.90625 \nL 18.109375 0 \nL 9.078125 0 \nL 9.078125 54.6875 \nL 18.109375 54.6875 \nL 18.109375 46.1875 \nQ 21.1875 51.21875 25.484375 53.609375 \nQ 29.78125 56 35.6875 56 \nQ 41.65625 56 45.828125 52.96875 \nQ 50 49.953125 52 44.1875 \nz\n\" id=\"DejaVuSans-109\"/>\n       </defs>\n       <use xlink:href=\"#DejaVuSans-84\"/>\n       <use x=\"46.333984\" xlink:href=\"#DejaVuSans-114\"/>\n       <use x=\"87.447266\" xlink:href=\"#DejaVuSans-97\"/>\n       <use x=\"148.726562\" xlink:href=\"#DejaVuSans-110\"/>\n       <use x=\"212.105469\" xlink:href=\"#DejaVuSans-115\"/>\n       <use x=\"264.205078\" xlink:href=\"#DejaVuSans-97\"/>\n       <use x=\"325.484375\" xlink:href=\"#DejaVuSans-99\"/>\n       <use x=\"380.464844\" xlink:href=\"#DejaVuSans-116\"/>\n       <use x=\"419.673828\" xlink:href=\"#DejaVuSans-105\"/>\n       <use x=\"447.457031\" xlink:href=\"#DejaVuSans-111\"/>\n       <use x=\"508.638672\" xlink:href=\"#DejaVuSans-110\"/>\n       <use x=\"572.017578\" xlink:href=\"#DejaVuSans-65\"/>\n       <use x=\"640.425781\" xlink:href=\"#DejaVuSans-109\"/>\n       <use x=\"737.837891\" xlink:href=\"#DejaVuSans-116\"/>\n      </g>\n     </g>\n    </g>\n    <g id=\"xtick_5\">\n     <g id=\"line2d_5\">\n      <g>\n       <use style=\"stroke:#000000;stroke-width:0.8;\" x=\"266.957955\" xlink:href=\"#md48d821be8\" y=\"387.72\"/>\n      </g>\n     </g>\n     <g id=\"text_5\">\n      <!-- D15 -->\n      <g transform=\"translate(269.71733 415.145)rotate(-90)scale(0.1 -0.1)\">\n       <defs>\n        <path d=\"M 19.671875 64.796875 \nL 19.671875 8.109375 \nL 31.59375 8.109375 \nQ 46.6875 8.109375 53.6875 14.9375 \nQ 60.6875 21.78125 60.6875 36.53125 \nQ 60.6875 51.171875 53.6875 57.984375 \nQ 46.6875 64.796875 31.59375 64.796875 \nz\nM 9.8125 72.90625 \nL 30.078125 72.90625 \nQ 51.265625 72.90625 61.171875 64.09375 \nQ 71.09375 55.28125 71.09375 36.53125 \nQ 71.09375 17.671875 61.125 8.828125 \nQ 51.171875 0 30.078125 0 \nL 9.8125 0 \nz\n\" id=\"DejaVuSans-68\"/>\n        <path d=\"M 10.796875 72.90625 \nL 49.515625 72.90625 \nL 49.515625 64.59375 \nL 19.828125 64.59375 \nL 19.828125 46.734375 \nQ 21.96875 47.46875 24.109375 47.828125 \nQ 26.265625 48.1875 28.421875 48.1875 \nQ 40.625 48.1875 47.75 41.5 \nQ 54.890625 34.8125 54.890625 23.390625 \nQ 54.890625 11.625 47.5625 5.09375 \nQ 40.234375 -1.421875 26.90625 -1.421875 \nQ 22.3125 -1.421875 17.546875 -0.640625 \nQ 12.796875 0.140625 7.71875 1.703125 \nL 7.71875 11.625 \nQ 12.109375 9.234375 16.796875 8.0625 \nQ 21.484375 6.890625 26.703125 6.890625 \nQ 35.15625 6.890625 40.078125 11.328125 \nQ 45.015625 15.765625 45.015625 23.390625 \nQ 45.015625 31 40.078125 35.4375 \nQ 35.15625 39.890625 26.703125 39.890625 \nQ 22.75 39.890625 18.8125 39.015625 \nQ 14.890625 38.140625 10.796875 36.28125 \nz\n\" id=\"DejaVuSans-53\"/>\n       </defs>\n       <use xlink:href=\"#DejaVuSans-68\"/>\n       <use x=\"77.001953\" xlink:href=\"#DejaVuSans-49\"/>\n       <use x=\"140.625\" xlink:href=\"#DejaVuSans-53\"/>\n      </g>\n     </g>\n    </g>\n    <g id=\"xtick_6\">\n     <g id=\"line2d_6\">\n      <g>\n       <use style=\"stroke:#000000;stroke-width:0.8;\" x=\"307.94969\" xlink:href=\"#md48d821be8\" y=\"387.72\"/>\n      </g>\n     </g>\n     <g id=\"text_6\">\n      <!-- V320 -->\n      <g transform=\"translate(310.709065 420.648125)rotate(-90)scale(0.1 -0.1)\">\n       <defs>\n        <path d=\"M 28.609375 0 \nL 0.78125 72.90625 \nL 11.078125 72.90625 \nL 34.1875 11.53125 \nL 57.328125 72.90625 \nL 67.578125 72.90625 \nL 39.796875 0 \nz\n\" id=\"DejaVuSans-86\"/>\n        <path d=\"M 40.578125 39.3125 \nQ 47.65625 37.796875 51.625 33 \nQ 55.609375 28.21875 55.609375 21.1875 \nQ 55.609375 10.40625 48.1875 4.484375 \nQ 40.765625 -1.421875 27.09375 -1.421875 \nQ 22.515625 -1.421875 17.65625 -0.515625 \nQ 12.796875 0.390625 7.625 2.203125 \nL 7.625 11.71875 \nQ 11.71875 9.328125 16.59375 8.109375 \nQ 21.484375 6.890625 26.8125 6.890625 \nQ 36.078125 6.890625 40.9375 10.546875 \nQ 45.796875 14.203125 45.796875 21.1875 \nQ 45.796875 27.640625 41.28125 31.265625 \nQ 36.765625 34.90625 28.71875 34.90625 \nL 20.21875 34.90625 \nL 20.21875 43.015625 \nL 29.109375 43.015625 \nQ 36.375 43.015625 40.234375 45.921875 \nQ 44.09375 48.828125 44.09375 54.296875 \nQ 44.09375 59.90625 40.109375 62.90625 \nQ 36.140625 65.921875 28.71875 65.921875 \nQ 24.65625 65.921875 20.015625 65.03125 \nQ 15.375 64.15625 9.8125 62.3125 \nL 9.8125 71.09375 \nQ 15.4375 72.65625 20.34375 73.4375 \nQ 25.25 74.21875 29.59375 74.21875 \nQ 40.828125 74.21875 47.359375 69.109375 \nQ 53.90625 64.015625 53.90625 55.328125 \nQ 53.90625 49.265625 50.4375 45.09375 \nQ 46.96875 40.921875 40.578125 39.3125 \nz\n\" id=\"DejaVuSans-51\"/>\n        <path d=\"M 31.78125 66.40625 \nQ 24.171875 66.40625 20.328125 58.90625 \nQ 16.5 51.421875 16.5 36.375 \nQ 16.5 21.390625 20.328125 13.890625 \nQ 24.171875 6.390625 31.78125 6.390625 \nQ 39.453125 6.390625 43.28125 13.890625 \nQ 47.125 21.390625 47.125 36.375 \nQ 47.125 51.421875 43.28125 58.90625 \nQ 39.453125 66.40625 31.78125 66.40625 \nz\nM 31.78125 74.21875 \nQ 44.046875 74.21875 50.515625 64.515625 \nQ 56.984375 54.828125 56.984375 36.375 \nQ 56.984375 17.96875 50.515625 8.265625 \nQ 44.046875 -1.421875 31.78125 -1.421875 \nQ 19.53125 -1.421875 13.0625 8.265625 \nQ 6.59375 17.96875 6.59375 36.375 \nQ 6.59375 54.828125 13.0625 64.515625 \nQ 19.53125 74.21875 31.78125 74.21875 \nz\n\" id=\"DejaVuSans-48\"/>\n       </defs>\n       <use xlink:href=\"#DejaVuSans-86\"/>\n       <use x=\"68.408203\" xlink:href=\"#DejaVuSans-51\"/>\n       <use x=\"132.03125\" xlink:href=\"#DejaVuSans-50\"/>\n       <use x=\"195.654297\" xlink:href=\"#DejaVuSans-48\"/>\n      </g>\n     </g>\n    </g>\n    <g id=\"xtick_7\">\n     <g id=\"line2d_7\">\n      <g>\n       <use style=\"stroke:#000000;stroke-width:0.8;\" x=\"348.941426\" xlink:href=\"#md48d821be8\" y=\"387.72\"/>\n      </g>\n     </g>\n     <g id=\"text_7\">\n      <!-- D10 -->\n      <g transform=\"translate(351.700801 415.145)rotate(-90)scale(0.1 -0.1)\">\n       <use xlink:href=\"#DejaVuSans-68\"/>\n       <use x=\"77.001953\" xlink:href=\"#DejaVuSans-49\"/>\n       <use x=\"140.625\" xlink:href=\"#DejaVuSans-48\"/>\n      </g>\n     </g>\n    </g>\n    <g id=\"xtick_8\">\n     <g id=\"line2d_8\">\n      <g>\n       <use style=\"stroke:#000000;stroke-width:0.8;\" x=\"389.933161\" xlink:href=\"#md48d821be8\" y=\"387.72\"/>\n      </g>\n     </g>\n     <g id=\"text_8\">\n      <!-- addr1 -->\n      <g transform=\"translate(392.692536 424.018437)rotate(-90)scale(0.1 -0.1)\">\n       <use xlink:href=\"#DejaVuSans-97\"/>\n       <use x=\"61.279297\" xlink:href=\"#DejaVuSans-100\"/>\n       <use x=\"124.755859\" xlink:href=\"#DejaVuSans-100\"/>\n       <use x=\"188.232422\" xlink:href=\"#DejaVuSans-114\"/>\n       <use x=\"229.345703\" xlink:href=\"#DejaVuSans-49\"/>\n      </g>\n     </g>\n    </g>\n    <g id=\"xtick_9\">\n     <g id=\"line2d_9\">\n      <g>\n       <use style=\"stroke:#000000;stroke-width:0.8;\" x=\"430.924897\" xlink:href=\"#md48d821be8\" y=\"387.72\"/>\n      </g>\n     </g>\n     <g id=\"text_9\">\n      <!-- D1 -->\n      <g transform=\"translate(433.684272 408.7825)rotate(-90)scale(0.1 -0.1)\">\n       <use xlink:href=\"#DejaVuSans-68\"/>\n       <use x=\"77.001953\" xlink:href=\"#DejaVuSans-49\"/>\n      </g>\n     </g>\n    </g>\n    <g id=\"xtick_10\">\n     <g id=\"line2d_10\">\n      <g>\n       <use style=\"stroke:#000000;stroke-width:0.8;\" x=\"471.916632\" xlink:href=\"#md48d821be8\" y=\"387.72\"/>\n      </g>\n     </g>\n     <g id=\"text_10\">\n      <!-- D11 -->\n      <g transform=\"translate(474.676007 415.145)rotate(-90)scale(0.1 -0.1)\">\n       <use xlink:href=\"#DejaVuSans-68\"/>\n       <use x=\"77.001953\" xlink:href=\"#DejaVuSans-49\"/>\n       <use x=\"140.625\" xlink:href=\"#DejaVuSans-49\"/>\n      </g>\n     </g>\n    </g>\n    <g id=\"xtick_11\">\n     <g id=\"line2d_11\">\n      <g>\n       <use style=\"stroke:#000000;stroke-width:0.8;\" x=\"512.908368\" xlink:href=\"#md48d821be8\" y=\"387.72\"/>\n      </g>\n     </g>\n     <g id=\"text_11\">\n      <!-- V310 -->\n      <g transform=\"translate(515.667743 420.648125)rotate(-90)scale(0.1 -0.1)\">\n       <use xlink:href=\"#DejaVuSans-86\"/>\n       <use x=\"68.408203\" xlink:href=\"#DejaVuSans-51\"/>\n       <use x=\"132.03125\" xlink:href=\"#DejaVuSans-49\"/>\n       <use x=\"195.654297\" xlink:href=\"#DejaVuSans-48\"/>\n      </g>\n     </g>\n    </g>\n    <g id=\"xtick_12\">\n     <g id=\"line2d_12\">\n      <g>\n       <use style=\"stroke:#000000;stroke-width:0.8;\" x=\"553.900103\" xlink:href=\"#md48d821be8\" y=\"387.72\"/>\n      </g>\n     </g>\n     <g id=\"text_12\">\n      <!-- D4 -->\n      <g transform=\"translate(556.659478 408.7825)rotate(-90)scale(0.1 -0.1)\">\n       <defs>\n        <path d=\"M 37.796875 64.3125 \nL 12.890625 25.390625 \nL 37.796875 25.390625 \nz\nM 35.203125 72.90625 \nL 47.609375 72.90625 \nL 47.609375 25.390625 \nL 58.015625 25.390625 \nL 58.015625 17.1875 \nL 47.609375 17.1875 \nL 47.609375 0 \nL 37.796875 0 \nL 37.796875 17.1875 \nL 4.890625 17.1875 \nL 4.890625 26.703125 \nz\n\" id=\"DejaVuSans-52\"/>\n       </defs>\n       <use xlink:href=\"#DejaVuSans-68\"/>\n       <use x=\"77.001953\" xlink:href=\"#DejaVuSans-52\"/>\n      </g>\n     </g>\n    </g>\n    <g id=\"xtick_13\">\n     <g id=\"line2d_13\">\n      <g>\n       <use style=\"stroke:#000000;stroke-width:0.8;\" x=\"594.891839\" xlink:href=\"#md48d821be8\" y=\"387.72\"/>\n      </g>\n     </g>\n     <g id=\"text_13\">\n      <!-- V130 -->\n      <g transform=\"translate(597.651214 420.648125)rotate(-90)scale(0.1 -0.1)\">\n       <use xlink:href=\"#DejaVuSans-86\"/>\n       <use x=\"68.408203\" xlink:href=\"#DejaVuSans-49\"/>\n       <use x=\"132.03125\" xlink:href=\"#DejaVuSans-51\"/>\n       <use x=\"195.654297\" xlink:href=\"#DejaVuSans-48\"/>\n      </g>\n     </g>\n    </g>\n    <g id=\"xtick_14\">\n     <g id=\"line2d_14\">\n      <g>\n       <use style=\"stroke:#000000;stroke-width:0.8;\" x=\"635.883574\" xlink:href=\"#md48d821be8\" y=\"387.72\"/>\n      </g>\n     </g>\n     <g id=\"text_14\">\n      <!-- D2 -->\n      <g transform=\"translate(638.642949 408.7825)rotate(-90)scale(0.1 -0.1)\">\n       <use xlink:href=\"#DejaVuSans-68\"/>\n       <use x=\"77.001953\" xlink:href=\"#DejaVuSans-50\"/>\n      </g>\n     </g>\n    </g>\n    <g id=\"xtick_15\">\n     <g id=\"line2d_15\">\n      <g>\n       <use style=\"stroke:#000000;stroke-width:0.8;\" x=\"676.87531\" xlink:href=\"#md48d821be8\" y=\"387.72\"/>\n      </g>\n     </g>\n     <g id=\"text_15\">\n      <!-- dist2 -->\n      <g transform=\"translate(679.634685 419.33875)rotate(-90)scale(0.1 -0.1)\">\n       <use xlink:href=\"#DejaVuSans-100\"/>\n       <use x=\"63.476562\" xlink:href=\"#DejaVuSans-105\"/>\n       <use x=\"91.259766\" xlink:href=\"#DejaVuSans-115\"/>\n       <use x=\"143.359375\" xlink:href=\"#DejaVuSans-116\"/>\n       <use x=\"182.568359\" xlink:href=\"#DejaVuSans-50\"/>\n      </g>\n     </g>\n    </g>\n    <g id=\"xtick_16\">\n     <g id=\"line2d_16\">\n      <g>\n       <use style=\"stroke:#000000;stroke-width:0.8;\" x=\"717.867045\" xlink:href=\"#md48d821be8\" y=\"387.72\"/>\n      </g>\n     </g>\n     <g id=\"text_16\">\n      <!-- C13 -->\n      <g transform=\"translate(720.62642 414.427812)rotate(-90)scale(0.1 -0.1)\">\n       <defs>\n        <path d=\"M 64.40625 67.28125 \nL 64.40625 56.890625 \nQ 59.421875 61.53125 53.78125 63.8125 \nQ 48.140625 66.109375 41.796875 66.109375 \nQ 29.296875 66.109375 22.65625 58.46875 \nQ 16.015625 50.828125 16.015625 36.375 \nQ 16.015625 21.96875 22.65625 14.328125 \nQ 29.296875 6.6875 41.796875 6.6875 \nQ 48.140625 6.6875 53.78125 8.984375 \nQ 59.421875 11.28125 64.40625 15.921875 \nL 64.40625 5.609375 \nQ 59.234375 2.09375 53.4375 0.328125 \nQ 47.65625 -1.421875 41.21875 -1.421875 \nQ 24.65625 -1.421875 15.125 8.703125 \nQ 5.609375 18.84375 5.609375 36.375 \nQ 5.609375 53.953125 15.125 64.078125 \nQ 24.65625 74.21875 41.21875 74.21875 \nQ 47.75 74.21875 53.53125 72.484375 \nQ 59.328125 70.75 64.40625 67.28125 \nz\n\" id=\"DejaVuSans-67\"/>\n       </defs>\n       <use xlink:href=\"#DejaVuSans-67\"/>\n       <use x=\"69.824219\" xlink:href=\"#DejaVuSans-49\"/>\n       <use x=\"133.447266\" xlink:href=\"#DejaVuSans-51\"/>\n      </g>\n     </g>\n    </g>\n    <g id=\"xtick_17\">\n     <g id=\"line2d_17\">\n      <g>\n       <use style=\"stroke:#000000;stroke-width:0.8;\" x=\"758.858781\" xlink:href=\"#md48d821be8\" y=\"387.72\"/>\n      </g>\n     </g>\n     <g id=\"text_17\">\n      <!-- V314 -->\n      <g transform=\"translate(761.618156 420.648125)rotate(-90)scale(0.1 -0.1)\">\n       <use xlink:href=\"#DejaVuSans-86\"/>\n       <use x=\"68.408203\" xlink:href=\"#DejaVuSans-51\"/>\n       <use x=\"132.03125\" xlink:href=\"#DejaVuSans-49\"/>\n       <use x=\"195.654297\" xlink:href=\"#DejaVuSans-52\"/>\n      </g>\n     </g>\n    </g>\n    <g id=\"xtick_18\">\n     <g id=\"line2d_18\">\n      <g>\n       <use style=\"stroke:#000000;stroke-width:0.8;\" x=\"799.850517\" xlink:href=\"#md48d821be8\" y=\"387.72\"/>\n      </g>\n     </g>\n     <g id=\"text_18\">\n      <!-- V127 -->\n      <g transform=\"translate(802.609892 420.648125)rotate(-90)scale(0.1 -0.1)\">\n       <defs>\n        <path d=\"M 8.203125 72.90625 \nL 55.078125 72.90625 \nL 55.078125 68.703125 \nL 28.609375 0 \nL 18.3125 0 \nL 43.21875 64.59375 \nL 8.203125 64.59375 \nz\n\" id=\"DejaVuSans-55\"/>\n       </defs>\n       <use xlink:href=\"#DejaVuSans-86\"/>\n       <use x=\"68.408203\" xlink:href=\"#DejaVuSans-49\"/>\n       <use x=\"132.03125\" xlink:href=\"#DejaVuSans-50\"/>\n       <use x=\"195.654297\" xlink:href=\"#DejaVuSans-55\"/>\n      </g>\n     </g>\n    </g>\n    <g id=\"xtick_19\">\n     <g id=\"line2d_19\">\n      <g>\n       <use style=\"stroke:#000000;stroke-width:0.8;\" x=\"840.842252\" xlink:href=\"#md48d821be8\" y=\"387.72\"/>\n      </g>\n     </g>\n     <g id=\"text_19\">\n      <!-- P_emaildomain -->\n      <g transform=\"translate(843.462565 470.779375)rotate(-90)scale(0.1 -0.1)\">\n       <defs>\n        <path d=\"M 19.671875 64.796875 \nL 19.671875 37.40625 \nL 32.078125 37.40625 \nQ 38.96875 37.40625 42.71875 40.96875 \nQ 46.484375 44.53125 46.484375 51.125 \nQ 46.484375 57.671875 42.71875 61.234375 \nQ 38.96875 64.796875 32.078125 64.796875 \nz\nM 9.8125 72.90625 \nL 32.078125 72.90625 \nQ 44.34375 72.90625 50.609375 67.359375 \nQ 56.890625 61.8125 56.890625 51.125 \nQ 56.890625 40.328125 50.609375 34.8125 \nQ 44.34375 29.296875 32.078125 29.296875 \nL 19.671875 29.296875 \nL 19.671875 0 \nL 9.8125 0 \nz\n\" id=\"DejaVuSans-80\"/>\n        <path d=\"M 50.984375 -16.609375 \nL 50.984375 -23.578125 \nL -0.984375 -23.578125 \nL -0.984375 -16.609375 \nz\n\" id=\"DejaVuSans-95\"/>\n        <path d=\"M 56.203125 29.59375 \nL 56.203125 25.203125 \nL 14.890625 25.203125 \nQ 15.484375 15.921875 20.484375 11.0625 \nQ 25.484375 6.203125 34.421875 6.203125 \nQ 39.59375 6.203125 44.453125 7.46875 \nQ 49.3125 8.734375 54.109375 11.28125 \nL 54.109375 2.78125 \nQ 49.265625 0.734375 44.1875 -0.34375 \nQ 39.109375 -1.421875 33.890625 -1.421875 \nQ 20.796875 -1.421875 13.15625 6.1875 \nQ 5.515625 13.8125 5.515625 26.8125 \nQ 5.515625 40.234375 12.765625 48.109375 \nQ 20.015625 56 32.328125 56 \nQ 43.359375 56 49.78125 48.890625 \nQ 56.203125 41.796875 56.203125 29.59375 \nz\nM 47.21875 32.234375 \nQ 47.125 39.59375 43.09375 43.984375 \nQ 39.0625 48.390625 32.421875 48.390625 \nQ 24.90625 48.390625 20.390625 44.140625 \nQ 15.875 39.890625 15.1875 32.171875 \nz\n\" id=\"DejaVuSans-101\"/>\n        <path d=\"M 9.421875 75.984375 \nL 18.40625 75.984375 \nL 18.40625 0 \nL 9.421875 0 \nz\n\" id=\"DejaVuSans-108\"/>\n       </defs>\n       <use xlink:href=\"#DejaVuSans-80\"/>\n       <use x=\"60.302734\" xlink:href=\"#DejaVuSans-95\"/>\n       <use x=\"110.302734\" xlink:href=\"#DejaVuSans-101\"/>\n       <use x=\"171.826172\" xlink:href=\"#DejaVuSans-109\"/>\n       <use x=\"269.238281\" xlink:href=\"#DejaVuSans-97\"/>\n       <use x=\"330.517578\" xlink:href=\"#DejaVuSans-105\"/>\n       <use x=\"358.300781\" xlink:href=\"#DejaVuSans-108\"/>\n       <use x=\"386.083984\" xlink:href=\"#DejaVuSans-100\"/>\n       <use x=\"449.560547\" xlink:href=\"#DejaVuSans-111\"/>\n       <use x=\"510.742188\" xlink:href=\"#DejaVuSans-109\"/>\n       <use x=\"608.154297\" xlink:href=\"#DejaVuSans-97\"/>\n       <use x=\"669.433594\" xlink:href=\"#DejaVuSans-105\"/>\n       <use x=\"697.216797\" xlink:href=\"#DejaVuSans-110\"/>\n      </g>\n     </g>\n    </g>\n    <g id=\"xtick_20\">\n     <g id=\"line2d_20\">\n      <g>\n       <use style=\"stroke:#000000;stroke-width:0.8;\" x=\"881.833988\" xlink:href=\"#md48d821be8\" y=\"387.72\"/>\n      </g>\n     </g>\n     <g id=\"text_20\">\n      <!-- C1 -->\n      <g transform=\"translate(884.593363 408.065312)rotate(-90)scale(0.1 -0.1)\">\n       <use xlink:href=\"#DejaVuSans-67\"/>\n       <use x=\"69.824219\" xlink:href=\"#DejaVuSans-49\"/>\n      </g>\n     </g>\n    </g>\n   </g>\n   <g id=\"matplotlib.axis_2\">\n    <g id=\"ytick_1\">\n     <g id=\"line2d_21\">\n      <defs>\n       <path d=\"M 0 0 \nL -3.5 0 \n\" id=\"m603b78132c\" style=\"stroke:#000000;stroke-width:0.8;\"/>\n      </defs>\n      <g>\n       <use style=\"stroke:#000000;stroke-width:0.8;\" x=\"46.0125\" xlink:href=\"#m603b78132c\" y=\"387.72\"/>\n      </g>\n     </g>\n     <g id=\"text_21\">\n      <!-- 0 -->\n      <g transform=\"translate(32.65 391.519219)scale(0.1 -0.1)\">\n       <use xlink:href=\"#DejaVuSans-48\"/>\n      </g>\n     </g>\n    </g>\n    <g id=\"ytick_2\">\n     <g id=\"line2d_22\">\n      <g>\n       <use style=\"stroke:#000000;stroke-width:0.8;\" x=\"46.0125\" xlink:href=\"#m603b78132c\" y=\"332.298682\"/>\n      </g>\n     </g>\n     <g id=\"text_22\">\n      <!-- 2000 -->\n      <g transform=\"translate(13.5625 336.097901)scale(0.1 -0.1)\">\n       <use xlink:href=\"#DejaVuSans-50\"/>\n       <use x=\"63.623047\" xlink:href=\"#DejaVuSans-48\"/>\n       <use x=\"127.246094\" xlink:href=\"#DejaVuSans-48\"/>\n       <use x=\"190.869141\" xlink:href=\"#DejaVuSans-48\"/>\n      </g>\n     </g>\n    </g>\n    <g id=\"ytick_3\">\n     <g id=\"line2d_23\">\n      <g>\n       <use style=\"stroke:#000000;stroke-width:0.8;\" x=\"46.0125\" xlink:href=\"#m603b78132c\" y=\"276.877364\"/>\n      </g>\n     </g>\n     <g id=\"text_23\">\n      <!-- 4000 -->\n      <g transform=\"translate(13.5625 280.676582)scale(0.1 -0.1)\">\n       <use xlink:href=\"#DejaVuSans-52\"/>\n       <use x=\"63.623047\" xlink:href=\"#DejaVuSans-48\"/>\n       <use x=\"127.246094\" xlink:href=\"#DejaVuSans-48\"/>\n       <use x=\"190.869141\" xlink:href=\"#DejaVuSans-48\"/>\n      </g>\n     </g>\n    </g>\n    <g id=\"ytick_4\">\n     <g id=\"line2d_24\">\n      <g>\n       <use style=\"stroke:#000000;stroke-width:0.8;\" x=\"46.0125\" xlink:href=\"#m603b78132c\" y=\"221.456045\"/>\n      </g>\n     </g>\n     <g id=\"text_24\">\n      <!-- 6000 -->\n      <g transform=\"translate(13.5625 225.255264)scale(0.1 -0.1)\">\n       <defs>\n        <path d=\"M 33.015625 40.375 \nQ 26.375 40.375 22.484375 35.828125 \nQ 18.609375 31.296875 18.609375 23.390625 \nQ 18.609375 15.53125 22.484375 10.953125 \nQ 26.375 6.390625 33.015625 6.390625 \nQ 39.65625 6.390625 43.53125 10.953125 \nQ 47.40625 15.53125 47.40625 23.390625 \nQ 47.40625 31.296875 43.53125 35.828125 \nQ 39.65625 40.375 33.015625 40.375 \nz\nM 52.59375 71.296875 \nL 52.59375 62.3125 \nQ 48.875 64.0625 45.09375 64.984375 \nQ 41.3125 65.921875 37.59375 65.921875 \nQ 27.828125 65.921875 22.671875 59.328125 \nQ 17.53125 52.734375 16.796875 39.40625 \nQ 19.671875 43.65625 24.015625 45.921875 \nQ 28.375 48.1875 33.59375 48.1875 \nQ 44.578125 48.1875 50.953125 41.515625 \nQ 57.328125 34.859375 57.328125 23.390625 \nQ 57.328125 12.15625 50.6875 5.359375 \nQ 44.046875 -1.421875 33.015625 -1.421875 \nQ 20.359375 -1.421875 13.671875 8.265625 \nQ 6.984375 17.96875 6.984375 36.375 \nQ 6.984375 53.65625 15.1875 63.9375 \nQ 23.390625 74.21875 37.203125 74.21875 \nQ 40.921875 74.21875 44.703125 73.484375 \nQ 48.484375 72.75 52.59375 71.296875 \nz\n\" id=\"DejaVuSans-54\"/>\n       </defs>\n       <use xlink:href=\"#DejaVuSans-54\"/>\n       <use x=\"63.623047\" xlink:href=\"#DejaVuSans-48\"/>\n       <use x=\"127.246094\" xlink:href=\"#DejaVuSans-48\"/>\n       <use x=\"190.869141\" xlink:href=\"#DejaVuSans-48\"/>\n      </g>\n     </g>\n    </g>\n    <g id=\"ytick_5\">\n     <g id=\"line2d_25\">\n      <g>\n       <use style=\"stroke:#000000;stroke-width:0.8;\" x=\"46.0125\" xlink:href=\"#m603b78132c\" y=\"166.034727\"/>\n      </g>\n     </g>\n     <g id=\"text_25\">\n      <!-- 8000 -->\n      <g transform=\"translate(13.5625 169.833946)scale(0.1 -0.1)\">\n       <defs>\n        <path d=\"M 31.78125 34.625 \nQ 24.75 34.625 20.71875 30.859375 \nQ 16.703125 27.09375 16.703125 20.515625 \nQ 16.703125 13.921875 20.71875 10.15625 \nQ 24.75 6.390625 31.78125 6.390625 \nQ 38.8125 6.390625 42.859375 10.171875 \nQ 46.921875 13.96875 46.921875 20.515625 \nQ 46.921875 27.09375 42.890625 30.859375 \nQ 38.875 34.625 31.78125 34.625 \nz\nM 21.921875 38.8125 \nQ 15.578125 40.375 12.03125 44.71875 \nQ 8.5 49.078125 8.5 55.328125 \nQ 8.5 64.0625 14.71875 69.140625 \nQ 20.953125 74.21875 31.78125 74.21875 \nQ 42.671875 74.21875 48.875 69.140625 \nQ 55.078125 64.0625 55.078125 55.328125 \nQ 55.078125 49.078125 51.53125 44.71875 \nQ 48 40.375 41.703125 38.8125 \nQ 48.828125 37.15625 52.796875 32.3125 \nQ 56.78125 27.484375 56.78125 20.515625 \nQ 56.78125 9.90625 50.3125 4.234375 \nQ 43.84375 -1.421875 31.78125 -1.421875 \nQ 19.734375 -1.421875 13.25 4.234375 \nQ 6.78125 9.90625 6.78125 20.515625 \nQ 6.78125 27.484375 10.78125 32.3125 \nQ 14.796875 37.15625 21.921875 38.8125 \nz\nM 18.3125 54.390625 \nQ 18.3125 48.734375 21.84375 45.5625 \nQ 25.390625 42.390625 31.78125 42.390625 \nQ 38.140625 42.390625 41.71875 45.5625 \nQ 45.3125 48.734375 45.3125 54.390625 \nQ 45.3125 60.0625 41.71875 63.234375 \nQ 38.140625 66.40625 31.78125 66.40625 \nQ 25.390625 66.40625 21.84375 63.234375 \nQ 18.3125 60.0625 18.3125 54.390625 \nz\n\" id=\"DejaVuSans-56\"/>\n       </defs>\n       <use xlink:href=\"#DejaVuSans-56\"/>\n       <use x=\"63.623047\" xlink:href=\"#DejaVuSans-48\"/>\n       <use x=\"127.246094\" xlink:href=\"#DejaVuSans-48\"/>\n       <use x=\"190.869141\" xlink:href=\"#DejaVuSans-48\"/>\n      </g>\n     </g>\n    </g>\n    <g id=\"ytick_6\">\n     <g id=\"line2d_26\">\n      <g>\n       <use style=\"stroke:#000000;stroke-width:0.8;\" x=\"46.0125\" xlink:href=\"#m603b78132c\" y=\"110.613409\"/>\n      </g>\n     </g>\n     <g id=\"text_26\">\n      <!-- 10000 -->\n      <g transform=\"translate(7.2 114.412628)scale(0.1 -0.1)\">\n       <use xlink:href=\"#DejaVuSans-49\"/>\n       <use x=\"63.623047\" xlink:href=\"#DejaVuSans-48\"/>\n       <use x=\"127.246094\" xlink:href=\"#DejaVuSans-48\"/>\n       <use x=\"190.869141\" xlink:href=\"#DejaVuSans-48\"/>\n       <use x=\"254.492188\" xlink:href=\"#DejaVuSans-48\"/>\n      </g>\n     </g>\n    </g>\n    <g id=\"ytick_7\">\n     <g id=\"line2d_27\">\n      <g>\n       <use style=\"stroke:#000000;stroke-width:0.8;\" x=\"46.0125\" xlink:href=\"#m603b78132c\" y=\"55.192091\"/>\n      </g>\n     </g>\n     <g id=\"text_27\">\n      <!-- 12000 -->\n      <g transform=\"translate(7.2 58.991309)scale(0.1 -0.1)\">\n       <use xlink:href=\"#DejaVuSans-49\"/>\n       <use x=\"63.623047\" xlink:href=\"#DejaVuSans-50\"/>\n       <use x=\"127.246094\" xlink:href=\"#DejaVuSans-48\"/>\n       <use x=\"190.869141\" xlink:href=\"#DejaVuSans-48\"/>\n       <use x=\"254.492188\" xlink:href=\"#DejaVuSans-48\"/>\n      </g>\n     </g>\n    </g>\n   </g>\n   <g id=\"patch_23\">\n    <path d=\"M 46.0125 387.72 \nL 46.0125 7.2 \n\" style=\"fill:none;stroke:#000000;stroke-linecap:square;stroke-linejoin:miter;stroke-width:0.8;\"/>\n   </g>\n   <g id=\"patch_24\">\n    <path d=\"M 938.8125 387.72 \nL 938.8125 7.2 \n\" style=\"fill:none;stroke:#000000;stroke-linecap:square;stroke-linejoin:miter;stroke-width:0.8;\"/>\n   </g>\n   <g id=\"patch_25\">\n    <path d=\"M 46.0125 387.72 \nL 938.8125 387.72 \n\" style=\"fill:none;stroke:#000000;stroke-linecap:square;stroke-linejoin:miter;stroke-width:0.8;\"/>\n   </g>\n   <g id=\"patch_26\">\n    <path d=\"M 46.0125 7.2 \nL 938.8125 7.2 \n\" style=\"fill:none;stroke:#000000;stroke-linecap:square;stroke-linejoin:miter;stroke-width:0.8;\"/>\n   </g>\n  </g>\n </g>\n <defs>\n  <clipPath id=\"pb20389aa11\">\n   <rect height=\"380.52\" width=\"892.8\" x=\"46.0125\" y=\"7.2\"/>\n  </clipPath>\n </defs>\n</svg>\n",
=======
      "image/svg+xml": "<?xml version=\"1.0\" encoding=\"utf-8\" standalone=\"no\"?>\n<!DOCTYPE svg PUBLIC \"-//W3C//DTD SVG 1.1//EN\"\n  \"http://www.w3.org/Graphics/SVG/1.1/DTD/svg11.dtd\">\n<!-- Created with matplotlib (https://matplotlib.org/) -->\n<svg height=\"479.621562pt\" version=\"1.1\" viewBox=\"0 0 946.0125 479.621562\" width=\"946.0125pt\" xmlns=\"http://www.w3.org/2000/svg\" xmlns:xlink=\"http://www.w3.org/1999/xlink\">\n <metadata>\n  <rdf:RDF xmlns:cc=\"http://creativecommons.org/ns#\" xmlns:dc=\"http://purl.org/dc/elements/1.1/\" xmlns:rdf=\"http://www.w3.org/1999/02/22-rdf-syntax-ns#\">\n   <cc:Work>\n    <dc:type rdf:resource=\"http://purl.org/dc/dcmitype/StillImage\"/>\n    <dc:date>2021-04-30T01:03:51.858694</dc:date>\n    <dc:format>image/svg+xml</dc:format>\n    <dc:creator>\n     <cc:Agent>\n      <dc:title>Matplotlib v3.3.2, https://matplotlib.org/</dc:title>\n     </cc:Agent>\n    </dc:creator>\n   </cc:Work>\n  </rdf:RDF>\n </metadata>\n <defs>\n  <style type=\"text/css\">*{stroke-linecap:butt;stroke-linejoin:round;}</style>\n </defs>\n <g id=\"figure_1\">\n  <g id=\"patch_1\">\n   <path d=\"M 0 479.621562 \nL 946.0125 479.621562 \nL 946.0125 0 \nL 0 0 \nz\n\" style=\"fill:none;\"/>\n  </g>\n  <g id=\"axes_1\">\n   <g id=\"patch_2\">\n    <path d=\"M 46.0125 387.72 \nL 938.8125 387.72 \nL 938.8125 7.2 \nL 46.0125 7.2 \nz\n\" style=\"fill:#ffffff;\"/>\n   </g>\n   <g id=\"patch_3\">\n    <path clip-path=\"url(#padccc91e91)\" d=\"M 86.594318 387.72 \nL 119.387707 387.72 \nL 119.387707 25.32 \nL 86.594318 25.32 \nz\n\" style=\"fill:#1f77b4;\"/>\n   </g>\n   <g id=\"patch_4\">\n    <path clip-path=\"url(#padccc91e91)\" d=\"M 127.586054 387.72 \nL 160.379442 387.72 \nL 160.379442 27.259746 \nL 127.586054 27.259746 \nz\n\" style=\"fill:#1f77b4;\"/>\n   </g>\n   <g id=\"patch_5\">\n    <path clip-path=\"url(#padccc91e91)\" d=\"M 168.577789 387.72 \nL 201.371178 387.72 \nL 201.371178 47.926356 \nL 168.577789 47.926356 \nz\n\" style=\"fill:#1f77b4;\"/>\n   </g>\n   <g id=\"patch_6\">\n    <path clip-path=\"url(#padccc91e91)\" d=\"M 209.569525 387.72 \nL 242.362913 387.72 \nL 242.362913 59.736639 \nL 209.569525 59.736639 \nz\n\" style=\"fill:#1f77b4;\"/>\n   </g>\n   <g id=\"patch_7\">\n    <path clip-path=\"url(#padccc91e91)\" d=\"M 250.56126 387.72 \nL 283.354649 387.72 \nL 283.354649 84.393583 \nL 250.56126 84.393583 \nz\n\" style=\"fill:#1f77b4;\"/>\n   </g>\n   <g id=\"patch_8\">\n    <path clip-path=\"url(#padccc91e91)\" d=\"M 291.552996 387.72 \nL 324.346384 387.72 \nL 324.346384 91.875461 \nL 291.552996 91.875461 \nz\n\" style=\"fill:#1f77b4;\"/>\n   </g>\n   <g id=\"patch_9\">\n    <path clip-path=\"url(#padccc91e91)\" d=\"M 332.544731 387.72 \nL 365.33812 387.72 \nL 365.33812 92.396421 \nL 332.544731 92.396421 \nz\n\" style=\"fill:#1f77b4;\"/>\n   </g>\n   <g id=\"patch_10\">\n    <path clip-path=\"url(#padccc91e91)\" d=\"M 373.536467 387.72 \nL 406.329855 387.72 \nL 406.329855 98.054938 \nL 373.536467 98.054938 \nz\n\" style=\"fill:#1f77b4;\"/>\n   </g>\n   <g id=\"patch_11\">\n    <path clip-path=\"url(#padccc91e91)\" d=\"M 414.528202 387.72 \nL 447.321591 387.72 \nL 447.321591 100.000226 \nL 414.528202 100.000226 \nz\n\" style=\"fill:#1f77b4;\"/>\n   </g>\n   <g id=\"patch_12\">\n    <path clip-path=\"url(#padccc91e91)\" d=\"M 455.519938 387.72 \nL 488.313326 387.72 \nL 488.313326 102.388885 \nL 455.519938 102.388885 \nz\n\" style=\"fill:#1f77b4;\"/>\n   </g>\n   <g id=\"patch_13\">\n    <path clip-path=\"url(#padccc91e91)\" d=\"M 496.511674 387.72 \nL 529.305062 387.72 \nL 529.305062 103.813213 \nL 496.511674 103.813213 \nz\n\" style=\"fill:#1f77b4;\"/>\n   </g>\n   <g id=\"patch_14\">\n    <path clip-path=\"url(#padccc91e91)\" d=\"M 537.503409 387.72 \nL 570.296798 387.72 \nL 570.296798 105.049108 \nL 537.503409 105.049108 \nz\n\" style=\"fill:#1f77b4;\"/>\n   </g>\n   <g id=\"patch_15\">\n    <path clip-path=\"url(#padccc91e91)\" d=\"M 578.495145 387.72 \nL 611.288533 387.72 \nL 611.288533 122.911399 \nL 578.495145 122.911399 \nz\n\" style=\"fill:#1f77b4;\"/>\n   </g>\n   <g id=\"patch_16\">\n    <path clip-path=\"url(#padccc91e91)\" d=\"M 619.48688 387.72 \nL 652.280269 387.72 \nL 652.280269 130.005328 \nL 619.48688 130.005328 \nz\n\" style=\"fill:#1f77b4;\"/>\n   </g>\n   <g id=\"patch_17\">\n    <path clip-path=\"url(#padccc91e91)\" d=\"M 660.478616 387.72 \nL 693.272004 387.72 \nL 693.272004 144.786194 \nL 660.478616 144.786194 \nz\n\" style=\"fill:#1f77b4;\"/>\n   </g>\n   <g id=\"patch_18\">\n    <path clip-path=\"url(#padccc91e91)\" d=\"M 701.470351 387.72 \nL 734.26374 387.72 \nL 734.26374 149.469295 \nL 701.470351 149.469295 \nz\n\" style=\"fill:#1f77b4;\"/>\n   </g>\n   <g id=\"patch_19\">\n    <path clip-path=\"url(#padccc91e91)\" d=\"M 742.462087 387.72 \nL 775.255475 387.72 \nL 775.255475 153.56493 \nL 742.462087 153.56493 \nz\n\" style=\"fill:#1f77b4;\"/>\n   </g>\n   <g id=\"patch_20\">\n    <path clip-path=\"url(#padccc91e91)\" d=\"M 783.453822 387.72 \nL 816.247211 387.72 \nL 816.247211 160.370668 \nL 783.453822 160.370668 \nz\n\" style=\"fill:#1f77b4;\"/>\n   </g>\n   <g id=\"patch_21\">\n    <path clip-path=\"url(#padccc91e91)\" d=\"M 824.445558 387.72 \nL 857.238946 387.72 \nL 857.238946 169.975183 \nL 824.445558 169.975183 \nz\n\" style=\"fill:#1f77b4;\"/>\n   </g>\n   <g id=\"patch_22\">\n    <path clip-path=\"url(#padccc91e91)\" d=\"M 865.437293 387.72 \nL 898.230682 387.72 \nL 898.230682 172.690827 \nL 865.437293 172.690827 \nz\n\" style=\"fill:#1f77b4;\"/>\n   </g>\n   <g id=\"matplotlib.axis_1\">\n    <g id=\"xtick_1\">\n     <g id=\"line2d_1\">\n      <defs>\n       <path d=\"M 0 0 \nL 0 3.5 \n\" id=\"m8bab6d3059\" style=\"stroke:#000000;stroke-width:0.8;\"/>\n      </defs>\n      <g>\n       <use style=\"stroke:#000000;stroke-width:0.8;\" x=\"102.991012\" xlink:href=\"#m8bab6d3059\" y=\"387.72\"/>\n      </g>\n     </g>\n     <g id=\"text_1\">\n      <!-- card2 -->\n      <g transform=\"translate(105.750387 422.993437)rotate(-90)scale(0.1 -0.1)\">\n       <defs>\n        <path d=\"M 48.78125 52.59375 \nL 48.78125 44.1875 \nQ 44.96875 46.296875 41.140625 47.34375 \nQ 37.3125 48.390625 33.40625 48.390625 \nQ 24.65625 48.390625 19.8125 42.84375 \nQ 14.984375 37.3125 14.984375 27.296875 \nQ 14.984375 17.28125 19.8125 11.734375 \nQ 24.65625 6.203125 33.40625 6.203125 \nQ 37.3125 6.203125 41.140625 7.25 \nQ 44.96875 8.296875 48.78125 10.40625 \nL 48.78125 2.09375 \nQ 45.015625 0.34375 40.984375 -0.53125 \nQ 36.96875 -1.421875 32.421875 -1.421875 \nQ 20.0625 -1.421875 12.78125 6.34375 \nQ 5.515625 14.109375 5.515625 27.296875 \nQ 5.515625 40.671875 12.859375 48.328125 \nQ 20.21875 56 33.015625 56 \nQ 37.15625 56 41.109375 55.140625 \nQ 45.0625 54.296875 48.78125 52.59375 \nz\n\" id=\"DejaVuSans-99\"/>\n        <path d=\"M 34.28125 27.484375 \nQ 23.390625 27.484375 19.1875 25 \nQ 14.984375 22.515625 14.984375 16.5 \nQ 14.984375 11.71875 18.140625 8.90625 \nQ 21.296875 6.109375 26.703125 6.109375 \nQ 34.1875 6.109375 38.703125 11.40625 \nQ 43.21875 16.703125 43.21875 25.484375 \nL 43.21875 27.484375 \nz\nM 52.203125 31.203125 \nL 52.203125 0 \nL 43.21875 0 \nL 43.21875 8.296875 \nQ 40.140625 3.328125 35.546875 0.953125 \nQ 30.953125 -1.421875 24.3125 -1.421875 \nQ 15.921875 -1.421875 10.953125 3.296875 \nQ 6 8.015625 6 15.921875 \nQ 6 25.140625 12.171875 29.828125 \nQ 18.359375 34.515625 30.609375 34.515625 \nL 43.21875 34.515625 \nL 43.21875 35.40625 \nQ 43.21875 41.609375 39.140625 45 \nQ 35.0625 48.390625 27.6875 48.390625 \nQ 23 48.390625 18.546875 47.265625 \nQ 14.109375 46.140625 10.015625 43.890625 \nL 10.015625 52.203125 \nQ 14.9375 54.109375 19.578125 55.046875 \nQ 24.21875 56 28.609375 56 \nQ 40.484375 56 46.34375 49.84375 \nQ 52.203125 43.703125 52.203125 31.203125 \nz\n\" id=\"DejaVuSans-97\"/>\n        <path d=\"M 41.109375 46.296875 \nQ 39.59375 47.171875 37.8125 47.578125 \nQ 36.03125 48 33.890625 48 \nQ 26.265625 48 22.1875 43.046875 \nQ 18.109375 38.09375 18.109375 28.8125 \nL 18.109375 0 \nL 9.078125 0 \nL 9.078125 54.6875 \nL 18.109375 54.6875 \nL 18.109375 46.1875 \nQ 20.953125 51.171875 25.484375 53.578125 \nQ 30.03125 56 36.53125 56 \nQ 37.453125 56 38.578125 55.875 \nQ 39.703125 55.765625 41.0625 55.515625 \nz\n\" id=\"DejaVuSans-114\"/>\n        <path d=\"M 45.40625 46.390625 \nL 45.40625 75.984375 \nL 54.390625 75.984375 \nL 54.390625 0 \nL 45.40625 0 \nL 45.40625 8.203125 \nQ 42.578125 3.328125 38.25 0.953125 \nQ 33.9375 -1.421875 27.875 -1.421875 \nQ 17.96875 -1.421875 11.734375 6.484375 \nQ 5.515625 14.40625 5.515625 27.296875 \nQ 5.515625 40.1875 11.734375 48.09375 \nQ 17.96875 56 27.875 56 \nQ 33.9375 56 38.25 53.625 \nQ 42.578125 51.265625 45.40625 46.390625 \nz\nM 14.796875 27.296875 \nQ 14.796875 17.390625 18.875 11.75 \nQ 22.953125 6.109375 30.078125 6.109375 \nQ 37.203125 6.109375 41.296875 11.75 \nQ 45.40625 17.390625 45.40625 27.296875 \nQ 45.40625 37.203125 41.296875 42.84375 \nQ 37.203125 48.484375 30.078125 48.484375 \nQ 22.953125 48.484375 18.875 42.84375 \nQ 14.796875 37.203125 14.796875 27.296875 \nz\n\" id=\"DejaVuSans-100\"/>\n        <path d=\"M 19.1875 8.296875 \nL 53.609375 8.296875 \nL 53.609375 0 \nL 7.328125 0 \nL 7.328125 8.296875 \nQ 12.9375 14.109375 22.625 23.890625 \nQ 32.328125 33.6875 34.8125 36.53125 \nQ 39.546875 41.84375 41.421875 45.53125 \nQ 43.3125 49.21875 43.3125 52.78125 \nQ 43.3125 58.59375 39.234375 62.25 \nQ 35.15625 65.921875 28.609375 65.921875 \nQ 23.96875 65.921875 18.8125 64.3125 \nQ 13.671875 62.703125 7.8125 59.421875 \nL 7.8125 69.390625 \nQ 13.765625 71.78125 18.9375 73 \nQ 24.125 74.21875 28.421875 74.21875 \nQ 39.75 74.21875 46.484375 68.546875 \nQ 53.21875 62.890625 53.21875 53.421875 \nQ 53.21875 48.921875 51.53125 44.890625 \nQ 49.859375 40.875 45.40625 35.40625 \nQ 44.1875 33.984375 37.640625 27.21875 \nQ 31.109375 20.453125 19.1875 8.296875 \nz\n\" id=\"DejaVuSans-50\"/>\n       </defs>\n       <use xlink:href=\"#DejaVuSans-99\"/>\n       <use x=\"54.980469\" xlink:href=\"#DejaVuSans-97\"/>\n       <use x=\"116.259766\" xlink:href=\"#DejaVuSans-114\"/>\n       <use x=\"155.623047\" xlink:href=\"#DejaVuSans-100\"/>\n       <use x=\"219.099609\" xlink:href=\"#DejaVuSans-50\"/>\n      </g>\n     </g>\n    </g>\n    <g id=\"xtick_2\">\n     <g id=\"line2d_2\">\n      <g>\n       <use style=\"stroke:#000000;stroke-width:0.8;\" x=\"143.982748\" xlink:href=\"#m8bab6d3059\" y=\"387.72\"/>\n      </g>\n     </g>\n     <g id=\"text_2\">\n      <!-- card1 -->\n      <g transform=\"translate(146.742123 422.993437)rotate(-90)scale(0.1 -0.1)\">\n       <defs>\n        <path d=\"M 12.40625 8.296875 \nL 28.515625 8.296875 \nL 28.515625 63.921875 \nL 10.984375 60.40625 \nL 10.984375 69.390625 \nL 28.421875 72.90625 \nL 38.28125 72.90625 \nL 38.28125 8.296875 \nL 54.390625 8.296875 \nL 54.390625 0 \nL 12.40625 0 \nz\n\" id=\"DejaVuSans-49\"/>\n       </defs>\n       <use xlink:href=\"#DejaVuSans-99\"/>\n       <use x=\"54.980469\" xlink:href=\"#DejaVuSans-97\"/>\n       <use x=\"116.259766\" xlink:href=\"#DejaVuSans-114\"/>\n       <use x=\"155.623047\" xlink:href=\"#DejaVuSans-100\"/>\n       <use x=\"219.099609\" xlink:href=\"#DejaVuSans-49\"/>\n      </g>\n     </g>\n    </g>\n    <g id=\"xtick_3\">\n     <g id=\"line2d_3\">\n      <g>\n       <use style=\"stroke:#000000;stroke-width:0.8;\" x=\"184.974483\" xlink:href=\"#m8bab6d3059\" y=\"387.72\"/>\n      </g>\n     </g>\n     <g id=\"text_3\">\n      <!-- dist1 -->\n      <g transform=\"translate(187.733858 419.33875)rotate(-90)scale(0.1 -0.1)\">\n       <defs>\n        <path d=\"M 9.421875 54.6875 \nL 18.40625 54.6875 \nL 18.40625 0 \nL 9.421875 0 \nz\nM 9.421875 75.984375 \nL 18.40625 75.984375 \nL 18.40625 64.59375 \nL 9.421875 64.59375 \nz\n\" id=\"DejaVuSans-105\"/>\n        <path d=\"M 44.28125 53.078125 \nL 44.28125 44.578125 \nQ 40.484375 46.53125 36.375 47.5 \nQ 32.28125 48.484375 27.875 48.484375 \nQ 21.1875 48.484375 17.84375 46.4375 \nQ 14.5 44.390625 14.5 40.28125 \nQ 14.5 37.15625 16.890625 35.375 \nQ 19.28125 33.59375 26.515625 31.984375 \nL 29.59375 31.296875 \nQ 39.15625 29.25 43.1875 25.515625 \nQ 47.21875 21.78125 47.21875 15.09375 \nQ 47.21875 7.46875 41.1875 3.015625 \nQ 35.15625 -1.421875 24.609375 -1.421875 \nQ 20.21875 -1.421875 15.453125 -0.5625 \nQ 10.6875 0.296875 5.421875 2 \nL 5.421875 11.28125 \nQ 10.40625 8.6875 15.234375 7.390625 \nQ 20.0625 6.109375 24.8125 6.109375 \nQ 31.15625 6.109375 34.5625 8.28125 \nQ 37.984375 10.453125 37.984375 14.40625 \nQ 37.984375 18.0625 35.515625 20.015625 \nQ 33.0625 21.96875 24.703125 23.78125 \nL 21.578125 24.515625 \nQ 13.234375 26.265625 9.515625 29.90625 \nQ 5.8125 33.546875 5.8125 39.890625 \nQ 5.8125 47.609375 11.28125 51.796875 \nQ 16.75 56 26.8125 56 \nQ 31.78125 56 36.171875 55.265625 \nQ 40.578125 54.546875 44.28125 53.078125 \nz\n\" id=\"DejaVuSans-115\"/>\n        <path d=\"M 18.3125 70.21875 \nL 18.3125 54.6875 \nL 36.8125 54.6875 \nL 36.8125 47.703125 \nL 18.3125 47.703125 \nL 18.3125 18.015625 \nQ 18.3125 11.328125 20.140625 9.421875 \nQ 21.96875 7.515625 27.59375 7.515625 \nL 36.8125 7.515625 \nL 36.8125 0 \nL 27.59375 0 \nQ 17.1875 0 13.234375 3.875 \nQ 9.28125 7.765625 9.28125 18.015625 \nL 9.28125 47.703125 \nL 2.6875 47.703125 \nL 2.6875 54.6875 \nL 9.28125 54.6875 \nL 9.28125 70.21875 \nz\n\" id=\"DejaVuSans-116\"/>\n       </defs>\n       <use xlink:href=\"#DejaVuSans-100\"/>\n       <use x=\"63.476562\" xlink:href=\"#DejaVuSans-105\"/>\n       <use x=\"91.259766\" xlink:href=\"#DejaVuSans-115\"/>\n       <use x=\"143.359375\" xlink:href=\"#DejaVuSans-116\"/>\n       <use x=\"182.568359\" xlink:href=\"#DejaVuSans-49\"/>\n      </g>\n     </g>\n    </g>\n    <g id=\"xtick_4\">\n     <g id=\"line2d_4\">\n      <g>\n       <use style=\"stroke:#000000;stroke-width:0.8;\" x=\"225.966219\" xlink:href=\"#m8bab6d3059\" y=\"387.72\"/>\n      </g>\n     </g>\n     <g id=\"text_4\">\n      <!-- TransactionAmt -->\n      <g transform=\"translate(228.725594 472.421562)rotate(-90)scale(0.1 -0.1)\">\n       <defs>\n        <path d=\"M -0.296875 72.90625 \nL 61.375 72.90625 \nL 61.375 64.59375 \nL 35.5 64.59375 \nL 35.5 0 \nL 25.59375 0 \nL 25.59375 64.59375 \nL -0.296875 64.59375 \nz\n\" id=\"DejaVuSans-84\"/>\n        <path d=\"M 54.890625 33.015625 \nL 54.890625 0 \nL 45.90625 0 \nL 45.90625 32.71875 \nQ 45.90625 40.484375 42.875 44.328125 \nQ 39.84375 48.1875 33.796875 48.1875 \nQ 26.515625 48.1875 22.3125 43.546875 \nQ 18.109375 38.921875 18.109375 30.90625 \nL 18.109375 0 \nL 9.078125 0 \nL 9.078125 54.6875 \nL 18.109375 54.6875 \nL 18.109375 46.1875 \nQ 21.34375 51.125 25.703125 53.5625 \nQ 30.078125 56 35.796875 56 \nQ 45.21875 56 50.046875 50.171875 \nQ 54.890625 44.34375 54.890625 33.015625 \nz\n\" id=\"DejaVuSans-110\"/>\n        <path d=\"M 30.609375 48.390625 \nQ 23.390625 48.390625 19.1875 42.75 \nQ 14.984375 37.109375 14.984375 27.296875 \nQ 14.984375 17.484375 19.15625 11.84375 \nQ 23.34375 6.203125 30.609375 6.203125 \nQ 37.796875 6.203125 41.984375 11.859375 \nQ 46.1875 17.53125 46.1875 27.296875 \nQ 46.1875 37.015625 41.984375 42.703125 \nQ 37.796875 48.390625 30.609375 48.390625 \nz\nM 30.609375 56 \nQ 42.328125 56 49.015625 48.375 \nQ 55.71875 40.765625 55.71875 27.296875 \nQ 55.71875 13.875 49.015625 6.21875 \nQ 42.328125 -1.421875 30.609375 -1.421875 \nQ 18.84375 -1.421875 12.171875 6.21875 \nQ 5.515625 13.875 5.515625 27.296875 \nQ 5.515625 40.765625 12.171875 48.375 \nQ 18.84375 56 30.609375 56 \nz\n\" id=\"DejaVuSans-111\"/>\n        <path d=\"M 34.1875 63.1875 \nL 20.796875 26.90625 \nL 47.609375 26.90625 \nz\nM 28.609375 72.90625 \nL 39.796875 72.90625 \nL 67.578125 0 \nL 57.328125 0 \nL 50.6875 18.703125 \nL 17.828125 18.703125 \nL 11.1875 0 \nL 0.78125 0 \nz\n\" id=\"DejaVuSans-65\"/>\n        <path d=\"M 52 44.1875 \nQ 55.375 50.25 60.0625 53.125 \nQ 64.75 56 71.09375 56 \nQ 79.640625 56 84.28125 50.015625 \nQ 88.921875 44.046875 88.921875 33.015625 \nL 88.921875 0 \nL 79.890625 0 \nL 79.890625 32.71875 \nQ 79.890625 40.578125 77.09375 44.375 \nQ 74.3125 48.1875 68.609375 48.1875 \nQ 61.625 48.1875 57.5625 43.546875 \nQ 53.515625 38.921875 53.515625 30.90625 \nL 53.515625 0 \nL 44.484375 0 \nL 44.484375 32.71875 \nQ 44.484375 40.625 41.703125 44.40625 \nQ 38.921875 48.1875 33.109375 48.1875 \nQ 26.21875 48.1875 22.15625 43.53125 \nQ 18.109375 38.875 18.109375 30.90625 \nL 18.109375 0 \nL 9.078125 0 \nL 9.078125 54.6875 \nL 18.109375 54.6875 \nL 18.109375 46.1875 \nQ 21.1875 51.21875 25.484375 53.609375 \nQ 29.78125 56 35.6875 56 \nQ 41.65625 56 45.828125 52.96875 \nQ 50 49.953125 52 44.1875 \nz\n\" id=\"DejaVuSans-109\"/>\n       </defs>\n       <use xlink:href=\"#DejaVuSans-84\"/>\n       <use x=\"46.333984\" xlink:href=\"#DejaVuSans-114\"/>\n       <use x=\"87.447266\" xlink:href=\"#DejaVuSans-97\"/>\n       <use x=\"148.726562\" xlink:href=\"#DejaVuSans-110\"/>\n       <use x=\"212.105469\" xlink:href=\"#DejaVuSans-115\"/>\n       <use x=\"264.205078\" xlink:href=\"#DejaVuSans-97\"/>\n       <use x=\"325.484375\" xlink:href=\"#DejaVuSans-99\"/>\n       <use x=\"380.464844\" xlink:href=\"#DejaVuSans-116\"/>\n       <use x=\"419.673828\" xlink:href=\"#DejaVuSans-105\"/>\n       <use x=\"447.457031\" xlink:href=\"#DejaVuSans-111\"/>\n       <use x=\"508.638672\" xlink:href=\"#DejaVuSans-110\"/>\n       <use x=\"572.017578\" xlink:href=\"#DejaVuSans-65\"/>\n       <use x=\"640.425781\" xlink:href=\"#DejaVuSans-109\"/>\n       <use x=\"737.837891\" xlink:href=\"#DejaVuSans-116\"/>\n      </g>\n     </g>\n    </g>\n    <g id=\"xtick_5\">\n     <g id=\"line2d_5\">\n      <g>\n       <use style=\"stroke:#000000;stroke-width:0.8;\" x=\"266.957955\" xlink:href=\"#m8bab6d3059\" y=\"387.72\"/>\n      </g>\n     </g>\n     <g id=\"text_5\">\n      <!-- D15 -->\n      <g transform=\"translate(269.71733 415.145)rotate(-90)scale(0.1 -0.1)\">\n       <defs>\n        <path d=\"M 19.671875 64.796875 \nL 19.671875 8.109375 \nL 31.59375 8.109375 \nQ 46.6875 8.109375 53.6875 14.9375 \nQ 60.6875 21.78125 60.6875 36.53125 \nQ 60.6875 51.171875 53.6875 57.984375 \nQ 46.6875 64.796875 31.59375 64.796875 \nz\nM 9.8125 72.90625 \nL 30.078125 72.90625 \nQ 51.265625 72.90625 61.171875 64.09375 \nQ 71.09375 55.28125 71.09375 36.53125 \nQ 71.09375 17.671875 61.125 8.828125 \nQ 51.171875 0 30.078125 0 \nL 9.8125 0 \nz\n\" id=\"DejaVuSans-68\"/>\n        <path d=\"M 10.796875 72.90625 \nL 49.515625 72.90625 \nL 49.515625 64.59375 \nL 19.828125 64.59375 \nL 19.828125 46.734375 \nQ 21.96875 47.46875 24.109375 47.828125 \nQ 26.265625 48.1875 28.421875 48.1875 \nQ 40.625 48.1875 47.75 41.5 \nQ 54.890625 34.8125 54.890625 23.390625 \nQ 54.890625 11.625 47.5625 5.09375 \nQ 40.234375 -1.421875 26.90625 -1.421875 \nQ 22.3125 -1.421875 17.546875 -0.640625 \nQ 12.796875 0.140625 7.71875 1.703125 \nL 7.71875 11.625 \nQ 12.109375 9.234375 16.796875 8.0625 \nQ 21.484375 6.890625 26.703125 6.890625 \nQ 35.15625 6.890625 40.078125 11.328125 \nQ 45.015625 15.765625 45.015625 23.390625 \nQ 45.015625 31 40.078125 35.4375 \nQ 35.15625 39.890625 26.703125 39.890625 \nQ 22.75 39.890625 18.8125 39.015625 \nQ 14.890625 38.140625 10.796875 36.28125 \nz\n\" id=\"DejaVuSans-53\"/>\n       </defs>\n       <use xlink:href=\"#DejaVuSans-68\"/>\n       <use x=\"77.001953\" xlink:href=\"#DejaVuSans-49\"/>\n       <use x=\"140.625\" xlink:href=\"#DejaVuSans-53\"/>\n      </g>\n     </g>\n    </g>\n    <g id=\"xtick_6\">\n     <g id=\"line2d_6\">\n      <g>\n       <use style=\"stroke:#000000;stroke-width:0.8;\" x=\"307.94969\" xlink:href=\"#m8bab6d3059\" y=\"387.72\"/>\n      </g>\n     </g>\n     <g id=\"text_6\">\n      <!-- V320 -->\n      <g transform=\"translate(310.709065 420.648125)rotate(-90)scale(0.1 -0.1)\">\n       <defs>\n        <path d=\"M 28.609375 0 \nL 0.78125 72.90625 \nL 11.078125 72.90625 \nL 34.1875 11.53125 \nL 57.328125 72.90625 \nL 67.578125 72.90625 \nL 39.796875 0 \nz\n\" id=\"DejaVuSans-86\"/>\n        <path d=\"M 40.578125 39.3125 \nQ 47.65625 37.796875 51.625 33 \nQ 55.609375 28.21875 55.609375 21.1875 \nQ 55.609375 10.40625 48.1875 4.484375 \nQ 40.765625 -1.421875 27.09375 -1.421875 \nQ 22.515625 -1.421875 17.65625 -0.515625 \nQ 12.796875 0.390625 7.625 2.203125 \nL 7.625 11.71875 \nQ 11.71875 9.328125 16.59375 8.109375 \nQ 21.484375 6.890625 26.8125 6.890625 \nQ 36.078125 6.890625 40.9375 10.546875 \nQ 45.796875 14.203125 45.796875 21.1875 \nQ 45.796875 27.640625 41.28125 31.265625 \nQ 36.765625 34.90625 28.71875 34.90625 \nL 20.21875 34.90625 \nL 20.21875 43.015625 \nL 29.109375 43.015625 \nQ 36.375 43.015625 40.234375 45.921875 \nQ 44.09375 48.828125 44.09375 54.296875 \nQ 44.09375 59.90625 40.109375 62.90625 \nQ 36.140625 65.921875 28.71875 65.921875 \nQ 24.65625 65.921875 20.015625 65.03125 \nQ 15.375 64.15625 9.8125 62.3125 \nL 9.8125 71.09375 \nQ 15.4375 72.65625 20.34375 73.4375 \nQ 25.25 74.21875 29.59375 74.21875 \nQ 40.828125 74.21875 47.359375 69.109375 \nQ 53.90625 64.015625 53.90625 55.328125 \nQ 53.90625 49.265625 50.4375 45.09375 \nQ 46.96875 40.921875 40.578125 39.3125 \nz\n\" id=\"DejaVuSans-51\"/>\n        <path d=\"M 31.78125 66.40625 \nQ 24.171875 66.40625 20.328125 58.90625 \nQ 16.5 51.421875 16.5 36.375 \nQ 16.5 21.390625 20.328125 13.890625 \nQ 24.171875 6.390625 31.78125 6.390625 \nQ 39.453125 6.390625 43.28125 13.890625 \nQ 47.125 21.390625 47.125 36.375 \nQ 47.125 51.421875 43.28125 58.90625 \nQ 39.453125 66.40625 31.78125 66.40625 \nz\nM 31.78125 74.21875 \nQ 44.046875 74.21875 50.515625 64.515625 \nQ 56.984375 54.828125 56.984375 36.375 \nQ 56.984375 17.96875 50.515625 8.265625 \nQ 44.046875 -1.421875 31.78125 -1.421875 \nQ 19.53125 -1.421875 13.0625 8.265625 \nQ 6.59375 17.96875 6.59375 36.375 \nQ 6.59375 54.828125 13.0625 64.515625 \nQ 19.53125 74.21875 31.78125 74.21875 \nz\n\" id=\"DejaVuSans-48\"/>\n       </defs>\n       <use xlink:href=\"#DejaVuSans-86\"/>\n       <use x=\"68.408203\" xlink:href=\"#DejaVuSans-51\"/>\n       <use x=\"132.03125\" xlink:href=\"#DejaVuSans-50\"/>\n       <use x=\"195.654297\" xlink:href=\"#DejaVuSans-48\"/>\n      </g>\n     </g>\n    </g>\n    <g id=\"xtick_7\">\n     <g id=\"line2d_7\">\n      <g>\n       <use style=\"stroke:#000000;stroke-width:0.8;\" x=\"348.941426\" xlink:href=\"#m8bab6d3059\" y=\"387.72\"/>\n      </g>\n     </g>\n     <g id=\"text_7\">\n      <!-- D10 -->\n      <g transform=\"translate(351.700801 415.145)rotate(-90)scale(0.1 -0.1)\">\n       <use xlink:href=\"#DejaVuSans-68\"/>\n       <use x=\"77.001953\" xlink:href=\"#DejaVuSans-49\"/>\n       <use x=\"140.625\" xlink:href=\"#DejaVuSans-48\"/>\n      </g>\n     </g>\n    </g>\n    <g id=\"xtick_8\">\n     <g id=\"line2d_8\">\n      <g>\n       <use style=\"stroke:#000000;stroke-width:0.8;\" x=\"389.933161\" xlink:href=\"#m8bab6d3059\" y=\"387.72\"/>\n      </g>\n     </g>\n     <g id=\"text_8\">\n      <!-- addr1 -->\n      <g transform=\"translate(392.692536 424.018437)rotate(-90)scale(0.1 -0.1)\">\n       <use xlink:href=\"#DejaVuSans-97\"/>\n       <use x=\"61.279297\" xlink:href=\"#DejaVuSans-100\"/>\n       <use x=\"124.755859\" xlink:href=\"#DejaVuSans-100\"/>\n       <use x=\"188.232422\" xlink:href=\"#DejaVuSans-114\"/>\n       <use x=\"229.345703\" xlink:href=\"#DejaVuSans-49\"/>\n      </g>\n     </g>\n    </g>\n    <g id=\"xtick_9\">\n     <g id=\"line2d_9\">\n      <g>\n       <use style=\"stroke:#000000;stroke-width:0.8;\" x=\"430.924897\" xlink:href=\"#m8bab6d3059\" y=\"387.72\"/>\n      </g>\n     </g>\n     <g id=\"text_9\">\n      <!-- D1 -->\n      <g transform=\"translate(433.684272 408.7825)rotate(-90)scale(0.1 -0.1)\">\n       <use xlink:href=\"#DejaVuSans-68\"/>\n       <use x=\"77.001953\" xlink:href=\"#DejaVuSans-49\"/>\n      </g>\n     </g>\n    </g>\n    <g id=\"xtick_10\">\n     <g id=\"line2d_10\">\n      <g>\n       <use style=\"stroke:#000000;stroke-width:0.8;\" x=\"471.916632\" xlink:href=\"#m8bab6d3059\" y=\"387.72\"/>\n      </g>\n     </g>\n     <g id=\"text_10\">\n      <!-- D11 -->\n      <g transform=\"translate(474.676007 415.145)rotate(-90)scale(0.1 -0.1)\">\n       <use xlink:href=\"#DejaVuSans-68\"/>\n       <use x=\"77.001953\" xlink:href=\"#DejaVuSans-49\"/>\n       <use x=\"140.625\" xlink:href=\"#DejaVuSans-49\"/>\n      </g>\n     </g>\n    </g>\n    <g id=\"xtick_11\">\n     <g id=\"line2d_11\">\n      <g>\n       <use style=\"stroke:#000000;stroke-width:0.8;\" x=\"512.908368\" xlink:href=\"#m8bab6d3059\" y=\"387.72\"/>\n      </g>\n     </g>\n     <g id=\"text_11\">\n      <!-- V310 -->\n      <g transform=\"translate(515.667743 420.648125)rotate(-90)scale(0.1 -0.1)\">\n       <use xlink:href=\"#DejaVuSans-86\"/>\n       <use x=\"68.408203\" xlink:href=\"#DejaVuSans-51\"/>\n       <use x=\"132.03125\" xlink:href=\"#DejaVuSans-49\"/>\n       <use x=\"195.654297\" xlink:href=\"#DejaVuSans-48\"/>\n      </g>\n     </g>\n    </g>\n    <g id=\"xtick_12\">\n     <g id=\"line2d_12\">\n      <g>\n       <use style=\"stroke:#000000;stroke-width:0.8;\" x=\"553.900103\" xlink:href=\"#m8bab6d3059\" y=\"387.72\"/>\n      </g>\n     </g>\n     <g id=\"text_12\">\n      <!-- D4 -->\n      <g transform=\"translate(556.659478 408.7825)rotate(-90)scale(0.1 -0.1)\">\n       <defs>\n        <path d=\"M 37.796875 64.3125 \nL 12.890625 25.390625 \nL 37.796875 25.390625 \nz\nM 35.203125 72.90625 \nL 47.609375 72.90625 \nL 47.609375 25.390625 \nL 58.015625 25.390625 \nL 58.015625 17.1875 \nL 47.609375 17.1875 \nL 47.609375 0 \nL 37.796875 0 \nL 37.796875 17.1875 \nL 4.890625 17.1875 \nL 4.890625 26.703125 \nz\n\" id=\"DejaVuSans-52\"/>\n       </defs>\n       <use xlink:href=\"#DejaVuSans-68\"/>\n       <use x=\"77.001953\" xlink:href=\"#DejaVuSans-52\"/>\n      </g>\n     </g>\n    </g>\n    <g id=\"xtick_13\">\n     <g id=\"line2d_13\">\n      <g>\n       <use style=\"stroke:#000000;stroke-width:0.8;\" x=\"594.891839\" xlink:href=\"#m8bab6d3059\" y=\"387.72\"/>\n      </g>\n     </g>\n     <g id=\"text_13\">\n      <!-- V130 -->\n      <g transform=\"translate(597.651214 420.648125)rotate(-90)scale(0.1 -0.1)\">\n       <use xlink:href=\"#DejaVuSans-86\"/>\n       <use x=\"68.408203\" xlink:href=\"#DejaVuSans-49\"/>\n       <use x=\"132.03125\" xlink:href=\"#DejaVuSans-51\"/>\n       <use x=\"195.654297\" xlink:href=\"#DejaVuSans-48\"/>\n      </g>\n     </g>\n    </g>\n    <g id=\"xtick_14\">\n     <g id=\"line2d_14\">\n      <g>\n       <use style=\"stroke:#000000;stroke-width:0.8;\" x=\"635.883574\" xlink:href=\"#m8bab6d3059\" y=\"387.72\"/>\n      </g>\n     </g>\n     <g id=\"text_14\">\n      <!-- D2 -->\n      <g transform=\"translate(638.642949 408.7825)rotate(-90)scale(0.1 -0.1)\">\n       <use xlink:href=\"#DejaVuSans-68\"/>\n       <use x=\"77.001953\" xlink:href=\"#DejaVuSans-50\"/>\n      </g>\n     </g>\n    </g>\n    <g id=\"xtick_15\">\n     <g id=\"line2d_15\">\n      <g>\n       <use style=\"stroke:#000000;stroke-width:0.8;\" x=\"676.87531\" xlink:href=\"#m8bab6d3059\" y=\"387.72\"/>\n      </g>\n     </g>\n     <g id=\"text_15\">\n      <!-- dist2 -->\n      <g transform=\"translate(679.634685 419.33875)rotate(-90)scale(0.1 -0.1)\">\n       <use xlink:href=\"#DejaVuSans-100\"/>\n       <use x=\"63.476562\" xlink:href=\"#DejaVuSans-105\"/>\n       <use x=\"91.259766\" xlink:href=\"#DejaVuSans-115\"/>\n       <use x=\"143.359375\" xlink:href=\"#DejaVuSans-116\"/>\n       <use x=\"182.568359\" xlink:href=\"#DejaVuSans-50\"/>\n      </g>\n     </g>\n    </g>\n    <g id=\"xtick_16\">\n     <g id=\"line2d_16\">\n      <g>\n       <use style=\"stroke:#000000;stroke-width:0.8;\" x=\"717.867045\" xlink:href=\"#m8bab6d3059\" y=\"387.72\"/>\n      </g>\n     </g>\n     <g id=\"text_16\">\n      <!-- C13 -->\n      <g transform=\"translate(720.62642 414.427812)rotate(-90)scale(0.1 -0.1)\">\n       <defs>\n        <path d=\"M 64.40625 67.28125 \nL 64.40625 56.890625 \nQ 59.421875 61.53125 53.78125 63.8125 \nQ 48.140625 66.109375 41.796875 66.109375 \nQ 29.296875 66.109375 22.65625 58.46875 \nQ 16.015625 50.828125 16.015625 36.375 \nQ 16.015625 21.96875 22.65625 14.328125 \nQ 29.296875 6.6875 41.796875 6.6875 \nQ 48.140625 6.6875 53.78125 8.984375 \nQ 59.421875 11.28125 64.40625 15.921875 \nL 64.40625 5.609375 \nQ 59.234375 2.09375 53.4375 0.328125 \nQ 47.65625 -1.421875 41.21875 -1.421875 \nQ 24.65625 -1.421875 15.125 8.703125 \nQ 5.609375 18.84375 5.609375 36.375 \nQ 5.609375 53.953125 15.125 64.078125 \nQ 24.65625 74.21875 41.21875 74.21875 \nQ 47.75 74.21875 53.53125 72.484375 \nQ 59.328125 70.75 64.40625 67.28125 \nz\n\" id=\"DejaVuSans-67\"/>\n       </defs>\n       <use xlink:href=\"#DejaVuSans-67\"/>\n       <use x=\"69.824219\" xlink:href=\"#DejaVuSans-49\"/>\n       <use x=\"133.447266\" xlink:href=\"#DejaVuSans-51\"/>\n      </g>\n     </g>\n    </g>\n    <g id=\"xtick_17\">\n     <g id=\"line2d_17\">\n      <g>\n       <use style=\"stroke:#000000;stroke-width:0.8;\" x=\"758.858781\" xlink:href=\"#m8bab6d3059\" y=\"387.72\"/>\n      </g>\n     </g>\n     <g id=\"text_17\">\n      <!-- V314 -->\n      <g transform=\"translate(761.618156 420.648125)rotate(-90)scale(0.1 -0.1)\">\n       <use xlink:href=\"#DejaVuSans-86\"/>\n       <use x=\"68.408203\" xlink:href=\"#DejaVuSans-51\"/>\n       <use x=\"132.03125\" xlink:href=\"#DejaVuSans-49\"/>\n       <use x=\"195.654297\" xlink:href=\"#DejaVuSans-52\"/>\n      </g>\n     </g>\n    </g>\n    <g id=\"xtick_18\">\n     <g id=\"line2d_18\">\n      <g>\n       <use style=\"stroke:#000000;stroke-width:0.8;\" x=\"799.850517\" xlink:href=\"#m8bab6d3059\" y=\"387.72\"/>\n      </g>\n     </g>\n     <g id=\"text_18\">\n      <!-- V127 -->\n      <g transform=\"translate(802.609892 420.648125)rotate(-90)scale(0.1 -0.1)\">\n       <defs>\n        <path d=\"M 8.203125 72.90625 \nL 55.078125 72.90625 \nL 55.078125 68.703125 \nL 28.609375 0 \nL 18.3125 0 \nL 43.21875 64.59375 \nL 8.203125 64.59375 \nz\n\" id=\"DejaVuSans-55\"/>\n       </defs>\n       <use xlink:href=\"#DejaVuSans-86\"/>\n       <use x=\"68.408203\" xlink:href=\"#DejaVuSans-49\"/>\n       <use x=\"132.03125\" xlink:href=\"#DejaVuSans-50\"/>\n       <use x=\"195.654297\" xlink:href=\"#DejaVuSans-55\"/>\n      </g>\n     </g>\n    </g>\n    <g id=\"xtick_19\">\n     <g id=\"line2d_19\">\n      <g>\n       <use style=\"stroke:#000000;stroke-width:0.8;\" x=\"840.842252\" xlink:href=\"#m8bab6d3059\" y=\"387.72\"/>\n      </g>\n     </g>\n     <g id=\"text_19\">\n      <!-- P_emaildomain -->\n      <g transform=\"translate(843.462565 470.779375)rotate(-90)scale(0.1 -0.1)\">\n       <defs>\n        <path d=\"M 19.671875 64.796875 \nL 19.671875 37.40625 \nL 32.078125 37.40625 \nQ 38.96875 37.40625 42.71875 40.96875 \nQ 46.484375 44.53125 46.484375 51.125 \nQ 46.484375 57.671875 42.71875 61.234375 \nQ 38.96875 64.796875 32.078125 64.796875 \nz\nM 9.8125 72.90625 \nL 32.078125 72.90625 \nQ 44.34375 72.90625 50.609375 67.359375 \nQ 56.890625 61.8125 56.890625 51.125 \nQ 56.890625 40.328125 50.609375 34.8125 \nQ 44.34375 29.296875 32.078125 29.296875 \nL 19.671875 29.296875 \nL 19.671875 0 \nL 9.8125 0 \nz\n\" id=\"DejaVuSans-80\"/>\n        <path d=\"M 50.984375 -16.609375 \nL 50.984375 -23.578125 \nL -0.984375 -23.578125 \nL -0.984375 -16.609375 \nz\n\" id=\"DejaVuSans-95\"/>\n        <path d=\"M 56.203125 29.59375 \nL 56.203125 25.203125 \nL 14.890625 25.203125 \nQ 15.484375 15.921875 20.484375 11.0625 \nQ 25.484375 6.203125 34.421875 6.203125 \nQ 39.59375 6.203125 44.453125 7.46875 \nQ 49.3125 8.734375 54.109375 11.28125 \nL 54.109375 2.78125 \nQ 49.265625 0.734375 44.1875 -0.34375 \nQ 39.109375 -1.421875 33.890625 -1.421875 \nQ 20.796875 -1.421875 13.15625 6.1875 \nQ 5.515625 13.8125 5.515625 26.8125 \nQ 5.515625 40.234375 12.765625 48.109375 \nQ 20.015625 56 32.328125 56 \nQ 43.359375 56 49.78125 48.890625 \nQ 56.203125 41.796875 56.203125 29.59375 \nz\nM 47.21875 32.234375 \nQ 47.125 39.59375 43.09375 43.984375 \nQ 39.0625 48.390625 32.421875 48.390625 \nQ 24.90625 48.390625 20.390625 44.140625 \nQ 15.875 39.890625 15.1875 32.171875 \nz\n\" id=\"DejaVuSans-101\"/>\n        <path d=\"M 9.421875 75.984375 \nL 18.40625 75.984375 \nL 18.40625 0 \nL 9.421875 0 \nz\n\" id=\"DejaVuSans-108\"/>\n       </defs>\n       <use xlink:href=\"#DejaVuSans-80\"/>\n       <use x=\"60.302734\" xlink:href=\"#DejaVuSans-95\"/>\n       <use x=\"110.302734\" xlink:href=\"#DejaVuSans-101\"/>\n       <use x=\"171.826172\" xlink:href=\"#DejaVuSans-109\"/>\n       <use x=\"269.238281\" xlink:href=\"#DejaVuSans-97\"/>\n       <use x=\"330.517578\" xlink:href=\"#DejaVuSans-105\"/>\n       <use x=\"358.300781\" xlink:href=\"#DejaVuSans-108\"/>\n       <use x=\"386.083984\" xlink:href=\"#DejaVuSans-100\"/>\n       <use x=\"449.560547\" xlink:href=\"#DejaVuSans-111\"/>\n       <use x=\"510.742188\" xlink:href=\"#DejaVuSans-109\"/>\n       <use x=\"608.154297\" xlink:href=\"#DejaVuSans-97\"/>\n       <use x=\"669.433594\" xlink:href=\"#DejaVuSans-105\"/>\n       <use x=\"697.216797\" xlink:href=\"#DejaVuSans-110\"/>\n      </g>\n     </g>\n    </g>\n    <g id=\"xtick_20\">\n     <g id=\"line2d_20\">\n      <g>\n       <use style=\"stroke:#000000;stroke-width:0.8;\" x=\"881.833988\" xlink:href=\"#m8bab6d3059\" y=\"387.72\"/>\n      </g>\n     </g>\n     <g id=\"text_20\">\n      <!-- C1 -->\n      <g transform=\"translate(884.593363 408.065312)rotate(-90)scale(0.1 -0.1)\">\n       <use xlink:href=\"#DejaVuSans-67\"/>\n       <use x=\"69.824219\" xlink:href=\"#DejaVuSans-49\"/>\n      </g>\n     </g>\n    </g>\n   </g>\n   <g id=\"matplotlib.axis_2\">\n    <g id=\"ytick_1\">\n     <g id=\"line2d_21\">\n      <defs>\n       <path d=\"M 0 0 \nL -3.5 0 \n\" id=\"m6476fbb7c7\" style=\"stroke:#000000;stroke-width:0.8;\"/>\n      </defs>\n      <g>\n       <use style=\"stroke:#000000;stroke-width:0.8;\" x=\"46.0125\" xlink:href=\"#m6476fbb7c7\" y=\"387.72\"/>\n      </g>\n     </g>\n     <g id=\"text_21\">\n      <!-- 0 -->\n      <g transform=\"translate(32.65 391.519219)scale(0.1 -0.1)\">\n       <use xlink:href=\"#DejaVuSans-48\"/>\n      </g>\n     </g>\n    </g>\n    <g id=\"ytick_2\">\n     <g id=\"line2d_22\">\n      <g>\n       <use style=\"stroke:#000000;stroke-width:0.8;\" x=\"46.0125\" xlink:href=\"#m6476fbb7c7\" y=\"332.298682\"/>\n      </g>\n     </g>\n     <g id=\"text_22\">\n      <!-- 2000 -->\n      <g transform=\"translate(13.5625 336.097901)scale(0.1 -0.1)\">\n       <use xlink:href=\"#DejaVuSans-50\"/>\n       <use x=\"63.623047\" xlink:href=\"#DejaVuSans-48\"/>\n       <use x=\"127.246094\" xlink:href=\"#DejaVuSans-48\"/>\n       <use x=\"190.869141\" xlink:href=\"#DejaVuSans-48\"/>\n      </g>\n     </g>\n    </g>\n    <g id=\"ytick_3\">\n     <g id=\"line2d_23\">\n      <g>\n       <use style=\"stroke:#000000;stroke-width:0.8;\" x=\"46.0125\" xlink:href=\"#m6476fbb7c7\" y=\"276.877364\"/>\n      </g>\n     </g>\n     <g id=\"text_23\">\n      <!-- 4000 -->\n      <g transform=\"translate(13.5625 280.676582)scale(0.1 -0.1)\">\n       <use xlink:href=\"#DejaVuSans-52\"/>\n       <use x=\"63.623047\" xlink:href=\"#DejaVuSans-48\"/>\n       <use x=\"127.246094\" xlink:href=\"#DejaVuSans-48\"/>\n       <use x=\"190.869141\" xlink:href=\"#DejaVuSans-48\"/>\n      </g>\n     </g>\n    </g>\n    <g id=\"ytick_4\">\n     <g id=\"line2d_24\">\n      <g>\n       <use style=\"stroke:#000000;stroke-width:0.8;\" x=\"46.0125\" xlink:href=\"#m6476fbb7c7\" y=\"221.456045\"/>\n      </g>\n     </g>\n     <g id=\"text_24\">\n      <!-- 6000 -->\n      <g transform=\"translate(13.5625 225.255264)scale(0.1 -0.1)\">\n       <defs>\n        <path d=\"M 33.015625 40.375 \nQ 26.375 40.375 22.484375 35.828125 \nQ 18.609375 31.296875 18.609375 23.390625 \nQ 18.609375 15.53125 22.484375 10.953125 \nQ 26.375 6.390625 33.015625 6.390625 \nQ 39.65625 6.390625 43.53125 10.953125 \nQ 47.40625 15.53125 47.40625 23.390625 \nQ 47.40625 31.296875 43.53125 35.828125 \nQ 39.65625 40.375 33.015625 40.375 \nz\nM 52.59375 71.296875 \nL 52.59375 62.3125 \nQ 48.875 64.0625 45.09375 64.984375 \nQ 41.3125 65.921875 37.59375 65.921875 \nQ 27.828125 65.921875 22.671875 59.328125 \nQ 17.53125 52.734375 16.796875 39.40625 \nQ 19.671875 43.65625 24.015625 45.921875 \nQ 28.375 48.1875 33.59375 48.1875 \nQ 44.578125 48.1875 50.953125 41.515625 \nQ 57.328125 34.859375 57.328125 23.390625 \nQ 57.328125 12.15625 50.6875 5.359375 \nQ 44.046875 -1.421875 33.015625 -1.421875 \nQ 20.359375 -1.421875 13.671875 8.265625 \nQ 6.984375 17.96875 6.984375 36.375 \nQ 6.984375 53.65625 15.1875 63.9375 \nQ 23.390625 74.21875 37.203125 74.21875 \nQ 40.921875 74.21875 44.703125 73.484375 \nQ 48.484375 72.75 52.59375 71.296875 \nz\n\" id=\"DejaVuSans-54\"/>\n       </defs>\n       <use xlink:href=\"#DejaVuSans-54\"/>\n       <use x=\"63.623047\" xlink:href=\"#DejaVuSans-48\"/>\n       <use x=\"127.246094\" xlink:href=\"#DejaVuSans-48\"/>\n       <use x=\"190.869141\" xlink:href=\"#DejaVuSans-48\"/>\n      </g>\n     </g>\n    </g>\n    <g id=\"ytick_5\">\n     <g id=\"line2d_25\">\n      <g>\n       <use style=\"stroke:#000000;stroke-width:0.8;\" x=\"46.0125\" xlink:href=\"#m6476fbb7c7\" y=\"166.034727\"/>\n      </g>\n     </g>\n     <g id=\"text_25\">\n      <!-- 8000 -->\n      <g transform=\"translate(13.5625 169.833946)scale(0.1 -0.1)\">\n       <defs>\n        <path d=\"M 31.78125 34.625 \nQ 24.75 34.625 20.71875 30.859375 \nQ 16.703125 27.09375 16.703125 20.515625 \nQ 16.703125 13.921875 20.71875 10.15625 \nQ 24.75 6.390625 31.78125 6.390625 \nQ 38.8125 6.390625 42.859375 10.171875 \nQ 46.921875 13.96875 46.921875 20.515625 \nQ 46.921875 27.09375 42.890625 30.859375 \nQ 38.875 34.625 31.78125 34.625 \nz\nM 21.921875 38.8125 \nQ 15.578125 40.375 12.03125 44.71875 \nQ 8.5 49.078125 8.5 55.328125 \nQ 8.5 64.0625 14.71875 69.140625 \nQ 20.953125 74.21875 31.78125 74.21875 \nQ 42.671875 74.21875 48.875 69.140625 \nQ 55.078125 64.0625 55.078125 55.328125 \nQ 55.078125 49.078125 51.53125 44.71875 \nQ 48 40.375 41.703125 38.8125 \nQ 48.828125 37.15625 52.796875 32.3125 \nQ 56.78125 27.484375 56.78125 20.515625 \nQ 56.78125 9.90625 50.3125 4.234375 \nQ 43.84375 -1.421875 31.78125 -1.421875 \nQ 19.734375 -1.421875 13.25 4.234375 \nQ 6.78125 9.90625 6.78125 20.515625 \nQ 6.78125 27.484375 10.78125 32.3125 \nQ 14.796875 37.15625 21.921875 38.8125 \nz\nM 18.3125 54.390625 \nQ 18.3125 48.734375 21.84375 45.5625 \nQ 25.390625 42.390625 31.78125 42.390625 \nQ 38.140625 42.390625 41.71875 45.5625 \nQ 45.3125 48.734375 45.3125 54.390625 \nQ 45.3125 60.0625 41.71875 63.234375 \nQ 38.140625 66.40625 31.78125 66.40625 \nQ 25.390625 66.40625 21.84375 63.234375 \nQ 18.3125 60.0625 18.3125 54.390625 \nz\n\" id=\"DejaVuSans-56\"/>\n       </defs>\n       <use xlink:href=\"#DejaVuSans-56\"/>\n       <use x=\"63.623047\" xlink:href=\"#DejaVuSans-48\"/>\n       <use x=\"127.246094\" xlink:href=\"#DejaVuSans-48\"/>\n       <use x=\"190.869141\" xlink:href=\"#DejaVuSans-48\"/>\n      </g>\n     </g>\n    </g>\n    <g id=\"ytick_6\">\n     <g id=\"line2d_26\">\n      <g>\n       <use style=\"stroke:#000000;stroke-width:0.8;\" x=\"46.0125\" xlink:href=\"#m6476fbb7c7\" y=\"110.613409\"/>\n      </g>\n     </g>\n     <g id=\"text_26\">\n      <!-- 10000 -->\n      <g transform=\"translate(7.2 114.412628)scale(0.1 -0.1)\">\n       <use xlink:href=\"#DejaVuSans-49\"/>\n       <use x=\"63.623047\" xlink:href=\"#DejaVuSans-48\"/>\n       <use x=\"127.246094\" xlink:href=\"#DejaVuSans-48\"/>\n       <use x=\"190.869141\" xlink:href=\"#DejaVuSans-48\"/>\n       <use x=\"254.492188\" xlink:href=\"#DejaVuSans-48\"/>\n      </g>\n     </g>\n    </g>\n    <g id=\"ytick_7\">\n     <g id=\"line2d_27\">\n      <g>\n       <use style=\"stroke:#000000;stroke-width:0.8;\" x=\"46.0125\" xlink:href=\"#m6476fbb7c7\" y=\"55.192091\"/>\n      </g>\n     </g>\n     <g id=\"text_27\">\n      <!-- 12000 -->\n      <g transform=\"translate(7.2 58.991309)scale(0.1 -0.1)\">\n       <use xlink:href=\"#DejaVuSans-49\"/>\n       <use x=\"63.623047\" xlink:href=\"#DejaVuSans-50\"/>\n       <use x=\"127.246094\" xlink:href=\"#DejaVuSans-48\"/>\n       <use x=\"190.869141\" xlink:href=\"#DejaVuSans-48\"/>\n       <use x=\"254.492188\" xlink:href=\"#DejaVuSans-48\"/>\n      </g>\n     </g>\n    </g>\n   </g>\n   <g id=\"patch_23\">\n    <path d=\"M 46.0125 387.72 \nL 46.0125 7.2 \n\" style=\"fill:none;stroke:#000000;stroke-linecap:square;stroke-linejoin:miter;stroke-width:0.8;\"/>\n   </g>\n   <g id=\"patch_24\">\n    <path d=\"M 938.8125 387.72 \nL 938.8125 7.2 \n\" style=\"fill:none;stroke:#000000;stroke-linecap:square;stroke-linejoin:miter;stroke-width:0.8;\"/>\n   </g>\n   <g id=\"patch_25\">\n    <path d=\"M 46.0125 387.72 \nL 938.8125 387.72 \n\" style=\"fill:none;stroke:#000000;stroke-linecap:square;stroke-linejoin:miter;stroke-width:0.8;\"/>\n   </g>\n   <g id=\"patch_26\">\n    <path d=\"M 46.0125 7.2 \nL 938.8125 7.2 \n\" style=\"fill:none;stroke:#000000;stroke-linecap:square;stroke-linejoin:miter;stroke-width:0.8;\"/>\n   </g>\n  </g>\n </g>\n <defs>\n  <clipPath id=\"padccc91e91\">\n   <rect height=\"380.52\" width=\"892.8\" x=\"46.0125\" y=\"7.2\"/>\n  </clipPath>\n </defs>\n</svg>\n",
>>>>>>> ece17a6c8d83dc85bccea2a0c813038665c865ea
      "image/png": "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\n"
     },
     "metadata": {
      "needs_background": "light"
     }
    }
   ],
   "source": [
<<<<<<< HEAD
    "plt.figure(1, figsize=(16, 7))\n",
    "plt.bar(f[\"feature\"], f[\"average\"])\n",
    "plt.xticks(f[\"feature\"], rotation=90)\n",
    "print(imp.index)"
   ]
  },
  {
   "cell_type": "code",
   "execution_count": 55,
   "metadata": {},
   "outputs": [],
   "source": [
    "clf_params = {'boosting_type': 'gbdt',\n",
    " 'class_weight': None,\n",
    " 'colsample_bytree': 1.0,\n",
    " 'importance_type': 'split',\n",
    " 'learning_rate': 0.006,\n",
    " 'max_depth': -1,\n",
    " 'min_child_samples': 20,\n",
    " 'min_child_weight': 0.03,\n",
    " 'min_split_gain': 0.0,\n",
    " 'n_estimators': 100,\n",
    " 'n_jobs': -1,\n",
    " 'num_leaves': 64,\n",
    " 'objective': 'binary',\n",
    " 'random_state': 0,\n",
    " 'reg_alpha': 0.3,\n",
    " 'reg_lambda': 0.6,\n",
    " 'silent': True,\n",
    " 'subsample': 1.0,\n",
    " 'subsample_for_bin': 200000,\n",
    " 'subsample_freq': 0,\n",
    " 'feature_fraction': 0.04,\n",
    " 'bagging_fraction': 0.33,\n",
    " 'min_data_in_leaf': 80,\n",
    " 'bagging_seed': 7,\n",
    " 'metric': 'auc',\n",
    " 'verbosity': -1,\n",
    " 'num_boost_round': 5575}"
   ]
  },
  {
   "cell_type": "code",
   "execution_count": 56,
   "metadata": {},
   "outputs": [],
   "source": [
    "final_clf = lgb.LGBMClassifier(**clf_params)"
=======
    "params = {\n",
    "    \"num_leaves\": 64,\n",
    "    \"min_child_weight\": 0.03,\n",
    "    \"feature_fraction\": 0.04,\n",
    "    \"bagging_fraction\": 0.33,\n",
    "    \"min_data_in_leaf\": 80,\n",
    "    \"objective\": \"binary\",\n",
    "    \"max_depth\": -1,\n",
    "    \"learning_rate\": 0.006,\n",
    "    \"boosting_type\": \"gbdt\",\n",
    "    \"bagging_seed\": 7,\n",
    "    \"metric\": \"auc\",\n",
    "    \"verbosity\": -1,\n",
    "    \"reg_alpha\": 0.3,\n",
    "    \"reg_lambda\": 0.6,\n",
    "    \"random_state\": 0,\n",
    "}"
>>>>>>> ece17a6c8d83dc85bccea2a0c813038665c865ea
   ]
  },
  {
   "cell_type": "code",
<<<<<<< HEAD
   "execution_count": 57,
   "metadata": {},
   "outputs": [
    {
     "output_type": "stream",
     "name": "stderr",
     "text": [
      "/Users/saulmontesdeoca/Library/Python/3.8/lib/python/site-packages/lightgbm/engine.py:148: UserWarning: Found `num_boost_round` in params. Will use it instead of argument\n",
      "  _log_warning(\"Found `{}` in params. Will use it instead of argument\".format(alias))\n",
      "[LightGBM] [Warning] min_data_in_leaf is set=80, min_child_samples=20 will be ignored. Current value: min_data_in_leaf=80\n",
      "[LightGBM] [Warning] num_iterations is set=5575, num_boost_round=5575 will be ignored. Current value: num_iterations=5575\n",
      "[LightGBM] [Warning] feature_fraction is set=0.04, colsample_bytree=1.0 will be ignored. Current value: feature_fraction=0.04\n",
      "[LightGBM] [Warning] bagging_fraction is set=0.33, subsample=1.0 will be ignored. Current value: bagging_fraction=0.33\n"
     ]
    },
    {
     "output_type": "execute_result",
     "data": {
      "text/plain": [
       "LGBMClassifier(bagging_fraction=0.33, bagging_seed=7, feature_fraction=0.04,\n",
       "               learning_rate=0.006, metric='auc', min_child_weight=0.03,\n",
       "               min_data_in_leaf=80, num_boost_round=5575, num_leaves=64,\n",
       "               objective='binary', random_state=0, reg_alpha=0.3,\n",
       "               reg_lambda=0.6, verbosity=-1)"
      ]
     },
     "metadata": {},
     "execution_count": 57
    }
   ],
   "source": [
    "final_clf.fit(X_train, y_train)"
=======
   "execution_count": 88,
   "metadata": {},
   "outputs": [
    {
     "output_type": "error",
     "ename": "AttributeError",
     "evalue": "'Booster' object has no attribute 'get_params'",
     "traceback": [
      "\u001b[0;31m---------------------------------------------------------------------------\u001b[0m",
      "\u001b[0;31mAttributeError\u001b[0m                            Traceback (most recent call last)",
      "\u001b[0;32m<ipython-input-88-e9366b42c7cd>\u001b[0m in \u001b[0;36m<module>\u001b[0;34m\u001b[0m\n\u001b[0;32m----> 1\u001b[0;31m \u001b[0mclf\u001b[0m\u001b[0;34m.\u001b[0m\u001b[0mget_params\u001b[0m\u001b[0;34m\u001b[0m\u001b[0;34m\u001b[0m\u001b[0m\n\u001b[0m",
      "\u001b[0;31mAttributeError\u001b[0m: 'Booster' object has no attribute 'get_params'"
     ]
    }
   ],
   "source": [
    "feature_importances[\"average\"] = feature_importances[\n",
    "    [\"fold_{}\".format(fold + 1) for fold in range(folds.n_splits)]\n",
    "].mean(axis=1)"
>>>>>>> ece17a6c8d83dc85bccea2a0c813038665c865ea
   ]
  },
  {
   "cell_type": "code",
<<<<<<< HEAD
   "execution_count": 59,
   "metadata": {},
   "outputs": [],
   "source": [
    "Pkl_Filename = \"lgbm_model.pkl\"  \n",
    "\n",
    "with open(Pkl_Filename, 'wb') as file:  \n",
    "    pickle.dump(final_clf, file)"
   ]
  },
  {
   "cell_type": "code",
   "execution_count": 60,
   "metadata": {},
   "outputs": [
    {
     "output_type": "stream",
     "name": "stdout",
     "text": [
      "Roc Auc Score: 0.7505896544000997\n"
     ]
    }
   ],
   "source": [
    "print(\"Roc Auc Score:\", roc_auc_score(y_test_split, final_clf.predict(X_test_split)))"
=======
   "execution_count": 52,
   "metadata": {},
   "outputs": [],
   "source": [
    "f = (\n",
    "    feature_importances[[\"feature\", \"average\"]]\n",
    "    .sort_values(by=\"average\", ascending=False)\n",
    "    .head(20)\n",
    ")"
>>>>>>> ece17a6c8d83dc85bccea2a0c813038665c865ea
   ]
  },
  {
   "cell_type": "code",
   "execution_count": null,
   "metadata": {},
   "outputs": [],
<<<<<<< HEAD
   "source": []
=======
   "source": [
    "plt.figure(1, figsize=(16, 7))\n",
    "plt.bar(f[\"feature\"], f[\"average\"])\n",
    "plt.xticks(f[\"feature\"], rotation=90)\n",
    "print(imp.index)"
   ]
>>>>>>> ece17a6c8d83dc85bccea2a0c813038665c865ea
  }
 ]
}